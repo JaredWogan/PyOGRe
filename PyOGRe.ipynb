{
 "cells": [
  {
   "cell_type": "markdown",
   "metadata": {},
   "source": [
    "<style>\n",
    "h1 {\n",
    "    font-size: 32pt;\n",
    "    color: #6A33FF\n",
    "}\n",
    "h2 {\n",
    "    font-size: 24pt\n",
    "}\n",
    "h3 {\n",
    "    font-size: 20pt\n",
    "}\n",
    "p {\n",
    "    font-size: 12pt\n",
    "}\n",
    "code {\n",
    "    font-size: 12pt\n",
    "}\n",
    "</style>\n",
    "\n",
    "# **PyOGRe**: A **Py**thon **O**bject-Oriented **G**eneral **Re**lativity Package"
   ]
  },
  {
   "cell_type": "markdown",
   "metadata": {},
   "source": [
    "<style>\n",
    "h1 {\n",
    "    font-size: 32pt;\n",
    "    color: #6A33FF\n",
    "}\n",
    "h2 {\n",
    "    font-size: 24pt\n",
    "}\n",
    "h3 {\n",
    "    font-size: 20pt\n",
    "}\n",
    "p {\n",
    "    font-size: 18pt\n",
    "}\n",
    "code {\n",
    "    font-size: 12pt\n",
    "}\n",
    "</style>\n",
    "\n",
    "Documentation for v1.0.0 (January 2022)\n",
    "\n",
    "By __Barak Shoshany__ ([website][1]) and __Jared Wogan__ ([website][2])\n",
    "\n",
    "[GitHub repository][3]\n",
    "\n",
    "[PyPi Project][4]\n",
    "\n",
    "[1]: <https://baraksh.com>\n",
    "[2]: <https://jaredwogan.ca>\n",
    "[3]: <https://github.com/JaredWogan/PyOGRe>\n",
    "[4]: <https://pypi.org/project/PyOGRe/>"
   ]
  },
  {
   "cell_type": "markdown",
   "metadata": {},
   "source": [
    "<style>\n",
    "h1 {\n",
    "    font-size: 32pt;\n",
    "    color: #875BFF\n",
    "}\n",
    "h2 {\n",
    "    font-size: 24pt;\n",
    "    color: #5B82FF\n",
    "}\n",
    "h3 {\n",
    "    font-size: 20pt;\n",
    "    color: #93ADFF\n",
    "}\n",
    "p {\n",
    "    font-size: 14pt\n",
    "}\n",
    "code {\n",
    "    font-size: 14pt\n",
    "}\n",
    "</style>\n",
    "\n",
    "# __Introduction__"
   ]
  },
  {
   "cell_type": "markdown",
   "metadata": {},
   "source": [
    "<style>\n",
    "h1 {\n",
    "    font-size: 32pt;\n",
    "    color: #875BFF\n",
    "}\n",
    "h2 {\n",
    "    font-size: 24pt;\n",
    "    color: #5B82FF\n",
    "}\n",
    "h3 {\n",
    "    font-size: 20pt;\n",
    "    color: #93ADFF\n",
    "}\n",
    "p {\n",
    "    font-size: 14pt\n",
    "}\n",
    "code {\n",
    "    font-size: 14pt\n",
    "}\n",
    "</style>\n",
    "\n",
    "## __Summary__"
   ]
  },
  {
   "cell_type": "markdown",
   "metadata": {},
   "source": [
    "<style>\n",
    "h1 {\n",
    "    font-size: 32pt;\n",
    "    color: #875BFF\n",
    "}\n",
    "h2 {\n",
    "    font-size: 24pt;\n",
    "    color: #5B82FF\n",
    "}\n",
    "h3 {\n",
    "    font-size: 20pt;\n",
    "    color: #93ADFF\n",
    "}\n",
    "p {\n",
    "    font-size: 14pt\n",
    "}\n",
    "code {\n",
    "    font-size: 14pt\n",
    "}\n",
    "</style>\n",
    "\n",
    "&nbsp;&nbsp;&nbsp;&nbsp;PyOGRe is the Python port of the Mathematica package OGRe, written by Professor Barak Shoshany at Brock University. OGRe is a tensor calculus package that is designed to be both powerful and user-friendly. OGRe can perform calculations involving tensors extremely quickly, which could often take hours to do by hand. It is extremely easy to pick up and use, with easy to learn syntax. Naturally, the package has applications in general relativity and differential geometry where tensors are used abundantly and was the focus point during the development of the package. However, there is no restriction preventing the package from being used for other applications.\n",
    "\n",
    "&nbsp;&nbsp;&nbsp;&nbsp;Tensors are abstract mathematical objects that can be represented by multidimensional arrays. A tensor may be represented by anything from a scalar, a vector, a matrix, to a $N$-dimensional array. Each array is a specific representation of a tensor, but this representation is not the only valid representation. By performing a change of coordinates, or changing the index configuration, we can produce another completely valid representation of the same tensor. It is thus crucial that we specify both a set of coordinates and an index configuration when calling a specific array a representation of a tensor. Take, for example, the (rank 2) tensor $T_{\\mu \\nu}$ below:\n",
    "\n",
    "$$\n",
    "T_{\\mu \\nu}(t, x, y, z) =\n",
    "\\begin{pmatrix}\n",
    "T_{tt} & T_{tx} & T_{ty} & T_{tz} \\\\\n",
    "T_{xt} & T_{xx} & T_{xy} & T_{xz} \\\\\n",
    "T_{yt} & T_{yx} & T_{yy} & T_{yz} \\\\\n",
    "T_{zt} & T_{zx} & T_{zy} & T_{zz}\n",
    "\\end{pmatrix} =\n",
    "\\begin{pmatrix}\n",
    "T_{00} & T_{01} & T_{02} & T_{03} \\\\\n",
    "T_{10} & T_{11} & T_{12} & T_{13} \\\\\n",
    "T_{20} & T_{21} & T_{22} & T_{23} \\\\\n",
    "T_{30} & T_{31} & T_{32} & T_{33}\n",
    "\\end{pmatrix}\n",
    "$$\n",
    "\n",
    "Above is a single representation of the tensor $T$, with two lower indices, written in standard Cartesian coordinates. We call $T$ a rank two tensor because it requires two indices to specify a component of the tensor; this means a scalar can represent a rank zero tensor, a vector can represent a rank one tensor, and so on (note how we do not say a scalar is a tensor, but instead that it can represent a tensor). If we wrote the same tensor in a different coordinate system, or with a different index configuration, the components would be completely different. Since we are working with representations of abstract objects, it is clear that we must be careful and ensure that all representations of a given tensor truly do represent the same tensor.\n",
    "\n",
    "&nbsp;&nbsp;&nbsp;&nbsp;When working with tensors, it is natural to want to combine them in different ways. PyOGRe allows the user to perform calculations involving tensors in a straightforward manner. The user will only need to input a tensor once with a specified choice of coordinates and an index configuration, then behind the scenes, PyOGRe will automatically ensure the correct representation of the tensor is used. This makes the often complicated and/or confusing expressions involving tensors straightforward, taking away the unnecessary complexities of the calculation. Some of the possible operations that PyOGRe can perform are:\n",
    "\n",
    "- Addition\n",
    "- Subtraction\n",
    "- Multiplication by a scalar\n",
    "- Trace\n",
    "- Contraction\n",
    "- Partial and Covariant Derivatives\n",
    "\n",
    "The documentation provided below will ensure that a proper theoretical understanding of the mathematics behind the operations is achieved, then, we will explain how each calculation can be performed using PyOGRe.\n",
    "\n",
    "&nbsp;&nbsp;&nbsp;&nbsp;Behind the scenes, PyOGRe takes an object-oriented design and stores each tensor as a single object (we will explain object-oriented design in a later section). Each object stores all the representations of the tensor, where each representation is stored as an array. We ensure that all representations stored within the tensor object truly represents the same tensor by preventing the user from modifying the data once it has been created. Preventing the user from changing the data of a tensor is a fundamental part of the object-oriented design, as it allows a series of assumptions to be made about the tensor, greatly improving performance and preventing errors.\n",
    "\n",
    "&nbsp;&nbsp;&nbsp;&nbsp;Instead of allowing the user to modify the data of a tensor, PyOGRe instead allows the user to request specific reprentations of any tensor. Handling the data of a tensor in this manner allows PyOGRe to be much more efficient; if a specific representation already exists, it will not be recalculated, while still giving the user the ability to request a tensor in different representations. Secondly, if a represntation of a tensor is calculated in some intermediate step of a calculation, all intermediate representations are stored as well, which can provide another increase in efficiency.\n",
    "\n",
    "&nbsp;&nbsp;&nbsp;&nbsp;The remainder of this document will outline why we have decided to port OGRe to Python, a brief list of the features, the meaning of object-oriented design, the differences between the original OGRe package and PyOGRe, and finally documentation of each module of the package."
   ]
  },
  {
   "cell_type": "markdown",
   "metadata": {},
   "source": [
    "<style>\n",
    "h1 {\n",
    "    font-size: 32pt;\n",
    "    color: #875BFF\n",
    "}\n",
    "h2 {\n",
    "    font-size: 24pt;\n",
    "    color: #5B82FF\n",
    "}\n",
    "h3 {\n",
    "    font-size: 20pt;\n",
    "    color: #93ADFF\n",
    "}\n",
    "p {\n",
    "    font-size: 14pt\n",
    "}\n",
    "code {\n",
    "    font-size: 14pt\n",
    "}\n",
    "</style>\n",
    "\n",
    "## __Motivation for the Python Port__"
   ]
  },
  {
   "cell_type": "markdown",
   "metadata": {},
   "source": [
    "<style>\n",
    "h1 {\n",
    "    font-size: 32pt;\n",
    "    color: #875BFF\n",
    "}\n",
    "h2 {\n",
    "    font-size: 24pt;\n",
    "    color: #5B82FF\n",
    "}\n",
    "h3 {\n",
    "    font-size: 20pt;\n",
    "    color: #93ADFF\n",
    "}\n",
    "p {\n",
    "    font-size: 14pt\n",
    "}\n",
    "code {\n",
    "    font-size: 14pt\n",
    "}\n",
    "</style>\n",
    "\n",
    "&nbsp;&nbsp;&nbsp;&nbsp;**Porting** a piece of software is simply the act of converting a piece of software from one programming language to another. A port is meant to achieve the same level of functionality. PyOGRe is simply a port of the OGRe package written in Mathematica to Python. Both versions of the package will retain near identical syntax, as well as cross compatibility, so that work in one package may be freely moved to the other.\n",
    "\n",
    "&nbsp;&nbsp;&nbsp;&nbsp;The decision to port the package from Mathematica to Python consists of several motivating factors. One of the primary reasons is because Mathematica requires a license which must be purchased. This makes accessing the package difficult for people who may not have the required funding for a Mathematica license, which is where Python can help. Python is **freely** available for anyone to install, so by porting the package to Python, we are removing the paywall that the Mathematica version currently imposes.\n",
    "\n",
    "&nbsp;&nbsp;&nbsp;&nbsp;Additionally, while Mathematica is extremely powerful and popular within the mathematics or physics communities, Python is far more popular in general. Python has been seeing a surge in popularity over the past years and is now becoming one of the most common languages beginners start with, especially within physics. Porting the package to Python will thus vastly improve the number of potential users, as well as the **accessibility** over the existing package in Mathematica.\n",
    "\n",
    "&nbsp;&nbsp;&nbsp;&nbsp;Finally, in order to port the package to another language, we needed to consider which languages had support for **symbolic computation**. Again, Python is a clear option over a language such as C/C++, as it is both popular for scientific computation already, and has support for symbolic computation through a package called SymPy. We have used SymPy extensively when developing PyOGRe and have found it to be both easy to use and powerful. SymPy is very easy to pick up and learn, and there is very little the end user will have to know about SymPy in order to use PyOGRe. Of course, since Python is also an object-oriented language, we were able to stay true to the object-oriented design philosophy, which was not entirely possible with Mathematica.\n",
    "\n",
    "&nbsp;&nbsp;&nbsp;&nbsp;PyOGRe is not meant to be a replacement for OGRe in any way, but merely a complimentary package to the existing package, giving the user flexibility to perform computation in either Python or Mathematica. All of the same features found in the original package are available in PyOGRe or will be made available in the future. We have also made it possible for the user to export and import tensors created in one version of the package to the other version."
   ]
  },
  {
   "cell_type": "markdown",
   "metadata": {},
   "source": [
    "<style>\n",
    "h1 {\n",
    "    font-size: 32pt;\n",
    "    color: #875BFF\n",
    "}\n",
    "h2 {\n",
    "    font-size: 24pt;\n",
    "    color: #5B82FF\n",
    "}\n",
    "h3 {\n",
    "    font-size: 20pt;\n",
    "    color: #93ADFF\n",
    "}\n",
    "p {\n",
    "    font-size: 14pt\n",
    "}\n",
    "code {\n",
    "    font-size: 14pt\n",
    "}\n",
    "</style>\n",
    "\n",
    "## __Features__"
   ]
  },
  {
   "cell_type": "markdown",
   "metadata": {},
   "source": [
    "<style>\n",
    "h1 {\n",
    "    font-size: 32pt;\n",
    "    color: #875BFF\n",
    "}\n",
    "h2 {\n",
    "    font-size: 24pt;\n",
    "    color: #5B82FF\n",
    "}\n",
    "h3 {\n",
    "    font-size: 20pt;\n",
    "    color: #93ADFF\n",
    "}\n",
    "p {\n",
    "    font-size: 14pt\n",
    "}\n",
    "code {\n",
    "    font-size: 14pt\n",
    "}\n",
    "</style>\n",
    "\n",
    "&nbsp;&nbsp;&nbsp;&nbsp;PyOGRe is currently under active development and we are constantly adding new functionality. The following is a brief outline of the main features that can currently be found in PyOGRe:\n",
    "\n",
    "- Define coordinate systems and any transformation rules between them. Tensor components in any representation can then be transformed automatically as needed.\n",
    "- Define metrics which can then be used to define any arbitrary tensor. The metric associated with a tensor will be used to raise and lower indices as needed.\n",
    "- Display any tensor object in any coordinate system as an array, or as a list of the unique non-zero components. Metrics can additionally be displayed as a line element.\n",
    "    - When displaying a tensor, substitutions can be made for any variable or function present. Additionally, a function may be specified that will be mapped to each component of the tensor.\n",
    "- Export tensors to a file so that they can later be imported into a new session or into the Mathematica version.\n",
    "- A simple API for performing calculations on tensors, including addition, subtraction, multiplication by a scalar, trace, contraction, as well as partial and covariant derivatives.\n",
    "- Built-in tensors for commonly used coordinate systems and metrics.\n",
    "- Built-in functions for calculating the Christoffel symbols (the Levi-Cevita connection), Riemann tensor, Ricci tensor, Ricci scalar, Einstein Tensor, curve Lagrangian, and volume element from a metric, as well as the norm squared of any tensor.\n",
    "- Calculate the geodesic equations in terms of a user defined curve parameter (affine parameter), using either the Christoffel symbols or the curve Lagrangian (for spacetime metrics, the geodesic equations can be calculated in terms of the time coordinate).\n",
    "- Designed to be performant using optimized algorithms for common operations (these functions can be used on any SymPy array).\n",
    "- Quick and easy to install straight from PyPI (supports Python 3.6 and above, previous versions untested).\n",
    "- Command line and Jupyter notebook support.\n",
    "- Clear and well documented source code, complete with examples.\n",
    "- Open source and available for all to use.\n",
    "- Easily extendible and modifiable.\n",
    "- Under active development and will be updated regularly."
   ]
  },
  {
   "cell_type": "markdown",
   "metadata": {},
   "source": [
    "<style>\n",
    "h1 {\n",
    "    font-size: 32pt;\n",
    "    color: #875BFF\n",
    "}\n",
    "h2 {\n",
    "    font-size: 24pt;\n",
    "    color: #5B82FF\n",
    "}\n",
    "h3 {\n",
    "    font-size: 20pt;\n",
    "    color: #93ADFF\n",
    "}\n",
    "p {\n",
    "    font-size: 14pt\n",
    "}\n",
    "code {\n",
    "    font-size: 14pt\n",
    "}\n",
    "</style>\n",
    "\n",
    "## __Object-Oriented Design Philosophy__"
   ]
  },
  {
   "cell_type": "markdown",
   "metadata": {},
   "source": [
    "<style>\n",
    "h1 {\n",
    "    font-size: 32pt;\n",
    "    color: #875BFF\n",
    "}\n",
    "h2 {\n",
    "    font-size: 24pt;\n",
    "    color: #5B82FF\n",
    "}\n",
    "h3 {\n",
    "    font-size: 20pt;\n",
    "    color: #93ADFF\n",
    "}\n",
    "p {\n",
    "    font-size: 14pt\n",
    "}\n",
    "code {\n",
    "    font-size: 14pt\n",
    "}\n",
    "</style>\n",
    "\n",
    "&nbsp;&nbsp;&nbsp;&nbsp;**Object-oriented programming** (OOP) simply refers to a programming paradigm in which objects are used to combine data and functionality. Each object contains some amount of data (often called **attributes**), as well as functions that can operate on that data (often called **methods**). Each **object** belongs to a **class** that the user defines and can be thought of as a blueprint. The class tells the end user what kind of data each object will have, and how that data should be stored. The class also tells the end user what kind of functions each object will have, and how those functions should be implemented.\n",
    "\n",
    "&nbsp;&nbsp;&nbsp;&nbsp;An extremely important aspect of object-oriented design is the idea of **encapsulation**. Encapsulation is the process of hiding the implementation details of an object, and only exposing the interface to the user. What this means is that the user may only access the data of an object through methods defined by the class but is unable to change or modify the actual data of the object directly. This enables a new idea, **class invariants**, which are assumptions about the object that should always be preserved. The invariance of a class allows the assumption that all data stored in each object remains valid, leading to more efficient and simpler code.\n",
    "\n",
    "&nbsp;&nbsp;&nbsp;&nbsp;As we discussed previously, tensors are abstract mathematical objects, which makes object-oriented programming a natural choice. Each tensor is stored as a single, self-contained object. The tensor object stores all the required data about each tensor, including the components for each known or calculated representation. Since all tensors in PyOGRe share a common class, we only need to define operations on tensor objects once in an abstract manner, and PyOGRe will automatically be able to apply these operations to any tensor object.\n",
    "\n",
    "&nbsp;&nbsp;&nbsp;&nbsp;The most important class invariant of a tensor object in PyOGRe are naturally the components of the tensor in each representation. Since each tensor stores these components in the object representing the tensor, it is crucial that each representation does indeed represent the tensor. This is done through encapsulation; the user is **not** allowed to access these components of the tensor once it has been defined. The components may only be modified by **private methods** (methods the user does not have access to) that preserve the invariance of the class. This prevents the user from accidentally violating the class invariance, and thus, the invariance of the tensor object. This again, allows us to work under the assumption that all the data stored inside a tensor object is valid, and that the data does in fact represent the tensor.\n",
    "\n",
    "&nbsp;&nbsp;&nbsp;&nbsp;In PyOGRe, the user will initially define (or **construct**) a tensor in some specific representation once but will then never have to worry about coordinates or indices anymore. In fact, the user will not even need to remember which coordinates or indices were used to construct the tensor in the first place. The user will simply be able to request the tensor in any representation they desire, or when performing calculations, PyOGRe will determine which representation is required in each context.\n",
    "\n",
    "&nbsp;&nbsp;&nbsp;&nbsp;An important distinguishing feature between the Mathematica version (OGRe) and the Python version (PyOGRe) of the package is that in Python, we can truly define tensors as objects. In Mathematica, there is no notion of a class; all tensors are simply represented as an association. At heart, the Mathematica version operates as though it is object-oriented, and ensures that the \"objects\" are invariant, however the objects themselves are merely a list. This is because Mathematica is not an object-oriented programming language; in Mathematica, it is not possible to define class methods, as there are no classes to begin with. To ensure PyOGRe feels familiar to the user, we have also included functions alongside the class methods that maintain the same functionality."
   ]
  },
  {
   "cell_type": "markdown",
   "metadata": {},
   "source": [
    "<style>\n",
    "h1 {\n",
    "    font-size: 32pt;\n",
    "    color: #875BFF\n",
    "}\n",
    "h2 {\n",
    "    font-size: 24pt;\n",
    "    color: #5B82FF\n",
    "}\n",
    "h3 {\n",
    "    font-size: 20pt;\n",
    "    color: #93ADFF\n",
    "}\n",
    "p {\n",
    "    font-size: 14pt\n",
    "}\n",
    "code {\n",
    "    font-size: 14pt\n",
    "}\n",
    "</style>\n",
    "\n",
    "## __Syntax Differences__"
   ]
  },
  {
   "cell_type": "markdown",
   "metadata": {},
   "source": [
    "<style>\n",
    "h1 {\n",
    "    font-size: 32pt;\n",
    "    color: #875BFF\n",
    "}\n",
    "h2 {\n",
    "    font-size: 24pt;\n",
    "    color: #5B82FF\n",
    "}\n",
    "h3 {\n",
    "    font-size: 20pt;\n",
    "    color: #93ADFF\n",
    "}\n",
    "p {\n",
    "    font-size: 14pt\n",
    "}\n",
    "code {\n",
    "    font-size: 14pt\n",
    "}\n",
    "</style>\n",
    "\n",
    "To illustrate some differences between the two versions, and how Python allows us to adhere to the object-oriented paradigm more closely, consider the following. Suppose a user wanted to define the Minkowski metric. In OGRe, assuming the Cartesian coordinates were already defined, the user could define a new metric as follows:\n",
    "\n",
    "```\n",
    "TNewMetric[\"Minkowski\", \"Cartesian\", DiagonalMatrix[{-1, 1, 1, 1}]]\n",
    "```\n",
    "\n",
    "while in Python, the user could instead do:\n",
    "\n",
    "```\n",
    "cartesian.new_metric(\"Minkowski\", sympy.diagonal(-1, 1, 1, 1))\n",
    "```\n",
    "\n",
    "The difference is that in Python, defining a metric can be done by calling a method on a coordinate system. PyOGRe will then know automatically that the new metric is defined in terms of the Cartesian coordinates and will not have to be told explicitly. Of course, one can also create a new tensor by calling a method on the metric. If instead the user wanted to calculate the norm squared of a tensor, the user could use the method ```calc_norm_squared``` on the tensor in PyOGRe, where in OGRe one would instead have to write ```TCalcNormSquared```, with the tensor as an argument. It should be noted though that the functional equivalents of these methods are also available in PyOGRe.\n",
    "\n",
    "Another minute difference between the two versions, is that in OGRe, function names use camel case (e.g., TCalcNormSquared). In PyOGRe, we use snake case to adhere to common Python conventions (e.g., calc_norm_squared). This does not in any way change the functionality of the functions or methods, it is merely a slightly different naming scheme."
   ]
  },
  {
   "cell_type": "markdown",
   "metadata": {},
   "source": [
    "<style>\n",
    "h1 {\n",
    "    font-size: 32pt;\n",
    "    color: #875BFF\n",
    "}\n",
    "h2 {\n",
    "    font-size: 24pt;\n",
    "    color: #5B82FF\n",
    "}\n",
    "h3 {\n",
    "    font-size: 20pt;\n",
    "    color: #93ADFF\n",
    "}\n",
    "p {\n",
    "    font-size: 14pt\n",
    "}\n",
    "code {\n",
    "    font-size: 14pt\n",
    "}\n",
    "</style>\n",
    "\n",
    "# __Installing and Loading the Package__"
   ]
  },
  {
   "cell_type": "markdown",
   "metadata": {},
   "source": [
    "<style>\n",
    "h1 {\n",
    "    font-size: 32pt;\n",
    "    color: #875BFF\n",
    "}\n",
    "h2 {\n",
    "    font-size: 24pt;\n",
    "    color: #5B82FF\n",
    "}\n",
    "h3 {\n",
    "    font-size: 20pt;\n",
    "    color: #93ADFF\n",
    "}\n",
    "p {\n",
    "    font-size: 14pt\n",
    "}\n",
    "code {\n",
    "    font-size: 14pt\n",
    "}\n",
    "</style>\n",
    "\n",
    "## __Installing__"
   ]
  },
  {
   "cell_type": "markdown",
   "metadata": {},
   "source": [
    "<style>\n",
    "h1 {\n",
    "    font-size: 32pt;\n",
    "    color: #875BFF\n",
    "}\n",
    "h2 {\n",
    "    font-size: 24pt;\n",
    "    color: #5B82FF\n",
    "}\n",
    "h3 {\n",
    "    font-size: 20pt;\n",
    "    color: #93ADFF\n",
    "}\n",
    "p {\n",
    "    font-size: 14pt\n",
    "}\n",
    "code {\n",
    "    font-size: 14pt\n",
    "}\n",
    "</style>\n",
    "\n",
    "Installing PyOGRe is done using PIP. Simply open a terminal, and type:\n",
    "\n",
    "```\n",
    "pip install PyOGRe\n",
    "```\n",
    "\n",
    "PIP will automatically find the latest version and install it to the default interpreter, including all dependencies. If you would like to update a current installation of PyOGRe, you may instead run:\n",
    "\n",
    "```\n",
    "pip install --upgrade PyOGRe\n",
    "```\n",
    "\n",
    "If you are looking for a specific version of PyOGRe, you may specify the version using the following command:\n",
    "\n",
    "```\n",
    "pip install PyOGRe==x.y.z\n",
    "```\n",
    "\n",
    "where __x.y.z__ is the targeted version."
   ]
  },
  {
   "cell_type": "markdown",
   "metadata": {},
   "source": [
    "<style>\n",
    "h1 {\n",
    "    font-size: 32pt;\n",
    "    color: #875BFF\n",
    "}\n",
    "h2 {\n",
    "    font-size: 24pt;\n",
    "    color: #5B82FF\n",
    "}\n",
    "h3 {\n",
    "    font-size: 20pt;\n",
    "    color: #93ADFF\n",
    "}\n",
    "p {\n",
    "    font-size: 14pt\n",
    "}\n",
    "code {\n",
    "    font-size: 14pt\n",
    "}\n",
    "</style>\n",
    "\n",
    "## __Importing PyOGRe__"
   ]
  },
  {
   "cell_type": "markdown",
   "metadata": {},
   "source": [
    "<style>\n",
    "h1 {\n",
    "    font-size: 32pt;\n",
    "    color: #875BFF\n",
    "}\n",
    "h2 {\n",
    "    font-size: 24pt;\n",
    "    color: #5B82FF\n",
    "}\n",
    "h3 {\n",
    "    font-size: 20pt;\n",
    "    color: #93ADFF\n",
    "}\n",
    "p {\n",
    "    font-size: 14pt\n",
    "}\n",
    "code {\n",
    "    font-size: 14pt\n",
    "}\n",
    "</style>\n",
    "\n",
    "Importing PyOGRe is done in the same manner as any other Python package. We recommend also importing `SymPy`, which is used extensively by the package, and the `display` function from `IPython.display` if you are working within a Jupyter Notebook.\n",
    "\n",
    "__NOTE:__ Although tempting, never write something such as:\n",
    "\n",
    "```from PyOGRe import *``` \n",
    "\n",
    "This is known as a wildcard import and can clutter the namespace, therefore we recommend importing PyOGRe as we have done below."
   ]
  },
  {
   "cell_type": "code",
   "execution_count": 1,
   "metadata": {},
   "outputs": [],
   "source": [
    "%load_ext autoreload\n",
    "%autoreload 2"
   ]
  },
  {
   "cell_type": "code",
   "execution_count": 2,
   "metadata": {},
   "outputs": [],
   "source": [
    "import sympy as sym\n",
    "from IPython.display import display\n",
    "\n",
    "import PyOGRe as og"
   ]
  },
  {
   "cell_type": "markdown",
   "metadata": {},
   "source": [
    "<style>\n",
    "h1 {\n",
    "    font-size: 32pt\n",
    "}\n",
    "h2 {\n",
    "    font-size: 24pt\n",
    "}\n",
    "h3 {\n",
    "    font-size: 16pt\n",
    "}\n",
    "p {\n",
    "    font-size: 14pt\n",
    "}\n",
    "code {\n",
    "    font-size: 14pt\n",
    "}\n",
    "</style>\n",
    "\n",
    "If you are working in a terminal, call the `command_line_support()` function to tell PyOGRe that it should display results using ASCII characters. The default behaviour assumes you are working in a Jupyter Notebook (this can be set manually using `jupyter_support()`), and all outputs are rendered using Markdown and LaTeX."
   ]
  },
  {
   "cell_type": "code",
   "execution_count": 3,
   "metadata": {},
   "outputs": [],
   "source": [
    "og.command_line_support()\n",
    "og.jupyter_support()"
   ]
  },
  {
   "cell_type": "markdown",
   "metadata": {},
   "source": [
    "<style>\n",
    "h1 {\n",
    "    font-size: 32pt\n",
    "}\n",
    "h2 {\n",
    "    font-size: 24pt\n",
    "}\n",
    "h3 {\n",
    "    font-size: 16pt\n",
    "}\n",
    "p {\n",
    "    font-size: 14pt\n",
    "}\n",
    "code {\n",
    "    font-size: 14pt\n",
    "}\n",
    "</style>\n",
    "\n",
    "If you would like to see the current options the package is using, call the `get_options()` function."
   ]
  },
  {
   "cell_type": "code",
   "execution_count": 4,
   "metadata": {},
   "outputs": [
    {
     "name": "stdout",
     "output_type": "stream",
     "text": [
      "LATEX: True\n",
      "ALL_SYMBOLS: (a, b, c, d, e, f, g, h, i, j, k, l, m, n, o, p, q, r, s, t, u, v, w, x, y, z)\n",
      "CURVE_PARAMETER: lambda\n",
      "INFO_ORDER: ('Name', 'Symbol', 'Type', 'Rank', 'Metric', 'Default Coordinates', 'Default Indices', 'Default Coordinates For', 'Coordinate Transformations', 'Indices Symbols', 'Tensors Using This Metric')\n",
      "LIST_PER_LINE: 6\n",
      "FONT_SIZE: 14\n",
      "PARALLEL: False\n"
     ]
    }
   ],
   "source": [
    "og.get_options()"
   ]
  },
  {
   "cell_type": "markdown",
   "metadata": {},
   "source": [
    "<style>\n",
    "h1 {\n",
    "    font-size: 32pt\n",
    "}\n",
    "h2 {\n",
    "    font-size: 24pt\n",
    "}\n",
    "h3 {\n",
    "    font-size: 16pt\n",
    "}\n",
    "p {\n",
    "    font-size: 14pt\n",
    "}\n",
    "code {\n",
    "    font-size: 14pt\n",
    "}\n",
    "</style>\n",
    "\n",
    "One may also use the `doc()` function to find the documentation for the package, which is this notebook (also available in PDF format)."
   ]
  },
  {
   "cell_type": "code",
   "execution_count": 5,
   "metadata": {},
   "outputs": [
    {
     "name": "stdout",
     "output_type": "stream",
     "text": [
      "\n",
      "PyOGRe Documentation\n",
      "\n",
      "Version: 1.0.0\n",
      "\n",
      "PyOGRe is an Object-Oriented General Relativity Package for Python.\n",
      "The full documentation is available at:\n",
      "\n"
     ]
    }
   ],
   "source": [
    "og.doc()"
   ]
  },
  {
   "cell_type": "markdown",
   "metadata": {},
   "source": [
    "<style>\n",
    "h1 {\n",
    "    font-size: 32pt;\n",
    "    color: #875BFF\n",
    "}\n",
    "h2 {\n",
    "    font-size: 24pt;\n",
    "    color: #5B82FF\n",
    "}\n",
    "h3 {\n",
    "    font-size: 20pt;\n",
    "    color: #93ADFF\n",
    "}\n",
    "p {\n",
    "    font-size: 14pt\n",
    "}\n",
    "code {\n",
    "    font-size: 14pt\n",
    "}\n",
    "</style>\n",
    "\n",
    "# __Creating and Displaying Tensor Objects__"
   ]
  },
  {
   "cell_type": "markdown",
   "metadata": {},
   "source": [
    "<style>\n",
    "h1 {\n",
    "    font-size: 32pt;\n",
    "    color: #875BFF\n",
    "}\n",
    "h2 {\n",
    "    font-size: 24pt;\n",
    "    color: #5B82FF\n",
    "}\n",
    "h3 {\n",
    "    font-size: 20pt;\n",
    "    color: #93ADFF\n",
    "}\n",
    "p {\n",
    "    font-size: 14pt\n",
    "}\n",
    "code {\n",
    "    font-size: 14pt\n",
    "}\n",
    "</style>\n",
    "\n",
    "## __A Quick Overview of SymPy__"
   ]
  },
  {
   "cell_type": "markdown",
   "metadata": {},
   "source": [
    "<style>\n",
    "h1 {\n",
    "    font-size: 32pt;\n",
    "    color: #875BFF\n",
    "}\n",
    "h2 {\n",
    "    font-size: 24pt;\n",
    "    color: #5B82FF\n",
    "}\n",
    "h3 {\n",
    "    font-size: 20pt;\n",
    "    color: #93ADFF\n",
    "}\n",
    "p {\n",
    "    font-size: 14pt\n",
    "}\n",
    "code {\n",
    "    font-size: 14pt\n",
    "}\n",
    "</style>\n",
    "\n",
    "Before we start working with PyOGRe and tensors, we will first introduce the necessary SymPy objects that are frequently used. There are three main SymPy commands that we should be aware of in order to make full use of PyOGRe:\n",
    "\n",
    "- `symbols()`\n",
    "\n",
    "    This function accepts a string such as \"a b c\", and will return a tuple of SymPy symbols (each set of characters separated by a space are converted to symbols, see the SymPy documentation for more information). SymPy symbols represent symbolic variables which can be used in mathematical expressions. It is important to note that symbols are treated as constants, so if the variable we would like to create is dependent on another variable, it should instead be created using a function.\n",
    "\n",
    "- `Array()`\n",
    "\n",
    "    The array function turns a list (or nested lists) into a SymPy array. SymPy arrays along with SymPy symbols are the most common building blocks used in PyOGRe. \n",
    "\n",
    "- `Function()()`\n",
    "\n",
    "    The SymPy Function class creates a function object. Functions are exactly like symbols, except they are not treated as constants.\n"
   ]
  },
  {
   "cell_type": "code",
   "execution_count": 6,
   "metadata": {},
   "outputs": [
    {
     "data": {
      "text/latex": [
       "$\\displaystyle f{\\left(t \\right)}$"
      ],
      "text/plain": [
       "f(t)"
      ]
     },
     "metadata": {},
     "output_type": "display_data"
    },
    {
     "data": {
      "text/latex": [
       "$\\displaystyle \\left[\\begin{matrix}t & x & y & z\\end{matrix}\\right]$"
      ],
      "text/plain": [
       "[t, x, y, z]"
      ]
     },
     "metadata": {},
     "output_type": "display_data"
    },
    {
     "data": {
      "text/latex": [
       "$\\displaystyle \\left[\\begin{matrix}t & r & \\theta & \\phi\\end{matrix}\\right]$"
      ],
      "text/plain": [
       "[t, r, theta, phi]"
      ]
     },
     "metadata": {},
     "output_type": "display_data"
    }
   ],
   "source": [
    "t, x, y, z = sym.symbols('t x y z')\n",
    "r, theta, phi = sym.symbols('r theta phi')\n",
    "\n",
    "f = sym.Function(\"f\")(t)\n",
    "\n",
    "cartesian_symbols = sym.Array([t, x, y, z])\n",
    "spherical_symbols = sym.Array([t, r, theta, phi])\n",
    "\n",
    "display(f)\n",
    "display(cartesian_symbols)\n",
    "display(spherical_symbols)"
   ]
  },
  {
   "cell_type": "markdown",
   "metadata": {},
   "source": [
    "<style>\n",
    "h1 {\n",
    "    font-size: 32pt;\n",
    "    color: #875BFF\n",
    "}\n",
    "h2 {\n",
    "    font-size: 24pt;\n",
    "    color: #5B82FF\n",
    "}\n",
    "h3 {\n",
    "    font-size: 20pt;\n",
    "    color: #93ADFF\n",
    "}\n",
    "p {\n",
    "    font-size: 14pt\n",
    "}\n",
    "code {\n",
    "    font-size: 14pt\n",
    "}\n",
    "</style>\n",
    "\n",
    "Above, we have created the symbols $t$, $x$, $y$, $z$, $r$, $\\theta$ and $\\phi$ which are used throughout the documentation. We then created a new function $f(t)$ using the symbol $t$ we defined earlier. Finally, two SymPy arrays are created, one of which we will use to define Cartesian coordinates, and the second to define Spherical coordinates."
   ]
  },
  {
   "cell_type": "markdown",
   "metadata": {},
   "source": [
    "<style>\n",
    "h1 {\n",
    "    font-size: 32pt;\n",
    "    color: #875BFF\n",
    "}\n",
    "h2 {\n",
    "    font-size: 24pt;\n",
    "    color: #5B82FF\n",
    "}\n",
    "h3 {\n",
    "    font-size: 20pt;\n",
    "    color: #93ADFF\n",
    "}\n",
    "p {\n",
    "    font-size: 14pt\n",
    "}\n",
    "code {\n",
    "    font-size: 14pt\n",
    "}\n",
    "</style>\n",
    "\n",
    "## __Defining Coordinate Systems__"
   ]
  },
  {
   "cell_type": "markdown",
   "metadata": {},
   "source": [
    "<style>\n",
    "h1 {\n",
    "    font-size: 32pt;\n",
    "    color: #875BFF\n",
    "}\n",
    "h2 {\n",
    "    font-size: 24pt;\n",
    "    color: #5B82FF\n",
    "}\n",
    "h3 {\n",
    "    font-size: 20pt;\n",
    "    color: #93ADFF\n",
    "}\n",
    "p {\n",
    "    font-size: 14pt\n",
    "}\n",
    "code {\n",
    "    font-size: 14pt\n",
    "}\n",
    "</style>\n",
    "\n",
    "Now, before we can define tensors, we must first define the coordinate systems that we will be using. This documentation will be focused on general relativity, so we will be using $4$-dimensional spacetime coordinate systems, however the package works equally well for other applications that may be in any number of dimensions.\n",
    "\n",
    "In order to define a coordinate system in PyOGRe, we can use the `new_coordinates()` function:"
   ]
  },
  {
   "cell_type": "code",
   "execution_count": 7,
   "metadata": {},
   "outputs": [
    {
     "name": "stdout",
     "output_type": "stream",
     "text": [
      "\n",
      "    (function) new_coordinates(name, components, indices, symbol, transformations)\n",
      "\n",
      "    Creates a new tensor object representing a coordinate system.\n",
      "\n",
      "    `name`: Defines name of the tensor is used when displaying the coordinates.\n",
      "    `components`: An array of the coordinate symbols.\n",
      "    `indices`: Defines the indices of the coordinates, must be (1,).\n",
      "    `symbol`: Defines the symbol used to represent the coordinates.\n",
      "    `transformations`: Defines the coordinate transformations, but can be left as none and added later.\n",
      "\n",
      "    Example:\n",
      "\n",
      "    >>> import sympy as sym\n",
      "    >>> from PyOGRe import new_coordinates\n",
      "    >>> new_coordinates(\"Cartesian\", sym.Array([sym.Symbol(\"x\"), sym.Symbol(\"y\"), sym.Symbol(\"z\")]))\n",
      "\n",
      "    This will create a coordinates object named Cartesian with coordinate symbols x, y, and z.\n",
      "    \n"
     ]
    }
   ],
   "source": [
    "print(og.new_coordinates.__doc__)"
   ]
  },
  {
   "cell_type": "markdown",
   "metadata": {},
   "source": [
    "<style>\n",
    "h1 {\n",
    "    font-size: 32pt;\n",
    "    color: #875BFF\n",
    "}\n",
    "h2 {\n",
    "    font-size: 24pt;\n",
    "    color: #5B82FF\n",
    "}\n",
    "h3 {\n",
    "    font-size: 20pt;\n",
    "    color: #93ADFF\n",
    "}\n",
    "p {\n",
    "    font-size: 14pt\n",
    "}\n",
    "code {\n",
    "    font-size: 14pt\n",
    "}\n",
    "</style>\n",
    "\n",
    "At the bare minimum, we must supply both a name for the Coordinates object, along with the components. The **name** of the object will be displayed whenever we print the tensor (the name will also be the ID of the object when exported to Mathematica). The second argument being the **components** is a list of the coordinates themselves. The order of the coordinates matters as this order will be used when displaying components of other tensors that are defined using this coordinate system."
   ]
  },
  {
   "cell_type": "code",
   "execution_count": 8,
   "metadata": {},
   "outputs": [],
   "source": [
    "cartesian = og.new_coordinates(\n",
    "    name=\"Cartesian\",\n",
    "    components=cartesian_symbols\n",
    ")\n",
    "\n",
    "spherical = og.new_coordinates(\n",
    "    name=\"Spherical\",\n",
    "    components=spherical_symbols\n",
    ")"
   ]
  },
  {
   "cell_type": "markdown",
   "metadata": {},
   "source": [
    "<style>\n",
    "h1 {\n",
    "    font-size: 32pt;\n",
    "    color: #875BFF\n",
    "}\n",
    "h2 {\n",
    "    font-size: 24pt;\n",
    "    color: #5B82FF\n",
    "}\n",
    "h3 {\n",
    "    font-size: 20pt;\n",
    "    color: #93ADFF\n",
    "}\n",
    "p {\n",
    "    font-size: 14pt\n",
    "}\n",
    "code {\n",
    "    font-size: 14pt\n",
    "}\n",
    "</style>\n",
    "\n",
    "## __Displaying PyOGRe Objects__\n"
   ]
  },
  {
   "cell_type": "markdown",
   "metadata": {},
   "source": [
    "<style>\n",
    "h1 {\n",
    "    font-size: 32pt;\n",
    "    color: #875BFF\n",
    "}\n",
    "h2 {\n",
    "    font-size: 24pt;\n",
    "    color: #5B82FF\n",
    "}\n",
    "h3 {\n",
    "    font-size: 20pt;\n",
    "    color: #93ADFF\n",
    "}\n",
    "p {\n",
    "    font-size: 14pt\n",
    "}\n",
    "code {\n",
    "    font-size: 14pt\n",
    "}\n",
    "</style>\n",
    "\n",
    "### __Setting the Font Size__\n"
   ]
  },
  {
   "cell_type": "markdown",
   "metadata": {},
   "source": [
    "<style>\n",
    "h1 {\n",
    "    font-size: 32pt;\n",
    "    color: #875BFF\n",
    "}\n",
    "h2 {\n",
    "    font-size: 24pt;\n",
    "    color: #5B82FF\n",
    "}\n",
    "h3 {\n",
    "    font-size: 20pt;\n",
    "    color: #93ADFF\n",
    "}\n",
    "p {\n",
    "    font-size: 14pt\n",
    "}\n",
    "code {\n",
    "    font-size: 14pt\n",
    "}\n",
    "</style>\n",
    "\n",
    "Before displaying our tensors, we may first want to choose a font size for the output. By default, PyOGRe uses a font size of $14$, however this can be changed using the `set_font_size()` function. Passing an argument of `None` will print the current value used for the font size."
   ]
  },
  {
   "cell_type": "code",
   "execution_count": 9,
   "metadata": {},
   "outputs": [
    {
     "name": "stdout",
     "output_type": "stream",
     "text": [
      "14\n"
     ]
    }
   ],
   "source": [
    "og.set_font_size()"
   ]
  },
  {
   "cell_type": "markdown",
   "metadata": {},
   "source": [
    "<style>\n",
    "h1 {\n",
    "    font-size: 32pt;\n",
    "    color: #875BFF\n",
    "}\n",
    "h2 {\n",
    "    font-size: 24pt;\n",
    "    color: #5B82FF\n",
    "}\n",
    "h3 {\n",
    "    font-size: 20pt;\n",
    "    color: #93ADFF\n",
    "}\n",
    "p {\n",
    "    font-size: 14pt\n",
    "}\n",
    "code {\n",
    "    font-size: 14pt\n",
    "}\n",
    "</style>\n",
    "\n",
    "### __Displaying as an Array__\n"
   ]
  },
  {
   "cell_type": "markdown",
   "metadata": {},
   "source": [
    "<style>\n",
    "h1 {\n",
    "    font-size: 32pt;\n",
    "    color: #875BFF\n",
    "}\n",
    "h2 {\n",
    "    font-size: 24pt;\n",
    "    color: #5B82FF\n",
    "}\n",
    "h3 {\n",
    "    font-size: 20pt;\n",
    "    color: #93ADFF\n",
    "}\n",
    "p {\n",
    "    font-size: 14pt\n",
    "}\n",
    "code {\n",
    "    font-size: 14pt\n",
    "}\n",
    "</style>\n",
    "\n",
    "Let us now introduce how we can display our tensors. The first method that can be used in PyOGRe is the `show()` method. Using the `show()` method will display the tensor as an array, along with the tensor name and tensor symbol."
   ]
  },
  {
   "cell_type": "code",
   "execution_count": 10,
   "metadata": {},
   "outputs": [
    {
     "data": {
      "text/markdown": [
       "<div align=center style='font-size:16pt;margin-bottom:14pt'> \n",
       "\n",
       "Cartesian:\n",
       "\n",
       " </div><div align=center style='font-size:14pt'> \n",
       "\n",
       " $$x^{a}{ } = \\left(\\begin{matrix}t\\\\x\\\\y\\\\z\\end{matrix}\\right)$$ \n",
       "\n",
       " </div>"
      ],
      "text/plain": [
       "<IPython.core.display.Markdown object>"
      ]
     },
     "metadata": {},
     "output_type": "display_data"
    }
   ],
   "source": [
    "cartesian.show()"
   ]
  },
  {
   "cell_type": "markdown",
   "metadata": {},
   "source": [
    "<style>\n",
    "h1 {\n",
    "    font-size: 32pt;\n",
    "    color: #875BFF\n",
    "}\n",
    "h2 {\n",
    "    font-size: 24pt;\n",
    "    color: #5B82FF\n",
    "}\n",
    "h3 {\n",
    "    font-size: 20pt;\n",
    "    color: #93ADFF\n",
    "}\n",
    "p {\n",
    "    font-size: 14pt\n",
    "}\n",
    "code {\n",
    "    font-size: 14pt\n",
    "}\n",
    "</style>\n",
    "\n",
    "For any object that is not a Coordinates object, the `show()` method can also accept parameters. The first argument **coords** will be the coordinate system to use when displaying the object. The second argument **indices** can be used to specify an index configuration for the tensor. The argument **replace** can be supplied with the arguments to use in the SymPy `subs()` method. Additionally, the arguments **function** and **args** can be used to specify a function and the arguments for the function, that will be mapped to each element of the array representing the tensor. We will see plenty of examples as we go through the documentation."
   ]
  },
  {
   "cell_type": "markdown",
   "metadata": {},
   "source": [
    "<style>\n",
    "h1 {\n",
    "    font-size: 32pt;\n",
    "    color: #875BFF\n",
    "}\n",
    "h2 {\n",
    "    font-size: 24pt;\n",
    "    color: #5B82FF\n",
    "}\n",
    "h3 {\n",
    "    font-size: 20pt;\n",
    "    color: #93ADFF\n",
    "}\n",
    "p {\n",
    "    font-size: 14pt\n",
    "}\n",
    "code {\n",
    "    font-size: 14pt\n",
    "}\n",
    "</style>\n",
    "\n",
    "### __Displaying as a List__\n"
   ]
  },
  {
   "cell_type": "markdown",
   "metadata": {},
   "source": [
    "<style>\n",
    "h1 {\n",
    "    font-size: 32pt;\n",
    "    color: #875BFF\n",
    "}\n",
    "h2 {\n",
    "    font-size: 24pt;\n",
    "    color: #5B82FF\n",
    "}\n",
    "h3 {\n",
    "    font-size: 20pt;\n",
    "    color: #93ADFF\n",
    "}\n",
    "p {\n",
    "    font-size: 14pt\n",
    "}\n",
    "code {\n",
    "    font-size: 14pt\n",
    "}\n",
    "</style>\n",
    "\n",
    "The second method for displaying tensors is the `list()` method. With this method, we display the non-zero elements of the components of the tensor, along with the tensor name and symbol. If there are no non-zero elements, the method will simply inform us there are no non-zero elements instead."
   ]
  },
  {
   "cell_type": "code",
   "execution_count": 11,
   "metadata": {},
   "outputs": [
    {
     "data": {
      "text/markdown": [
       "<div align=center style='font-size:16pt'> \n",
       "\n",
       "Spherical:\n",
       "\n",
       " </div><div align=center style='font-size:14pt'> \n",
       "\n",
       " $$ \n",
       "\\begin{aligned} \n",
       "x^{t} &= t\\\\[5pt]x^{r} &= r\\\\[5pt]x^{\\theta} &= \\theta\\\\[5pt]x^{\\phi} &= \\phi\n",
       " \\end{aligned} \n",
       " $$ \n",
       "\n",
       " </div>"
      ],
      "text/plain": [
       "<IPython.core.display.Markdown object>"
      ]
     },
     "metadata": {},
     "output_type": "display_data"
    }
   ],
   "source": [
    "spherical.list()"
   ]
  },
  {
   "cell_type": "markdown",
   "metadata": {},
   "source": [
    "<style>\n",
    "h1 {\n",
    "    font-size: 32pt;\n",
    "    color: #875BFF\n",
    "}\n",
    "h2 {\n",
    "    font-size: 24pt;\n",
    "    color: #5B82FF\n",
    "}\n",
    "h3 {\n",
    "    font-size: 20pt;\n",
    "    color: #93ADFF\n",
    "}\n",
    "p {\n",
    "    font-size: 14pt\n",
    "}\n",
    "code {\n",
    "    font-size: 14pt\n",
    "}\n",
    "</style>\n",
    "\n",
    "Just like for the `show()` method, if the object we are calling the `list()` method on is not a Coordinates object, `list()` will accept the same arguments as detailed previously.\n",
    "\n",
    "Additionally, if we would like to change the number of components that are displayed on each line, we may use the `set_list_per_line()` function. By default, PyOGRe will display up to $6$ components per line. Just like when we set the font size, passing an argument of `None` will print the current value."
   ]
  },
  {
   "cell_type": "code",
   "execution_count": 12,
   "metadata": {},
   "outputs": [
    {
     "name": "stdout",
     "output_type": "stream",
     "text": [
      "6\n"
     ]
    }
   ],
   "source": [
    "og.set_list_per_line()"
   ]
  },
  {
   "cell_type": "markdown",
   "metadata": {},
   "source": [
    "<style>\n",
    "h1 {\n",
    "    font-size: 32pt;\n",
    "    color: #875BFF\n",
    "}\n",
    "h2 {\n",
    "    font-size: 24pt;\n",
    "    color: #5B82FF\n",
    "}\n",
    "h3 {\n",
    "    font-size: 20pt;\n",
    "    color: #93ADFF\n",
    "}\n",
    "p {\n",
    "    font-size: 14pt\n",
    "}\n",
    "code {\n",
    "    font-size: 14pt\n",
    "}\n",
    "</style>\n",
    "\n",
    "### __Retrieving Information about a Tensor__"
   ]
  },
  {
   "cell_type": "markdown",
   "metadata": {},
   "source": [
    "<style>\n",
    "h1 {\n",
    "    font-size: 32pt;\n",
    "    color: #875BFF\n",
    "}\n",
    "h2 {\n",
    "    font-size: 24pt;\n",
    "    color: #5B82FF\n",
    "}\n",
    "h3 {\n",
    "    font-size: 20pt;\n",
    "    color: #93ADFF\n",
    "}\n",
    "p {\n",
    "    font-size: 14pt\n",
    "}\n",
    "code {\n",
    "    font-size: 14pt\n",
    "}\n",
    "</style>\n",
    "\n",
    "Finally, we have the `info()` method, which will display more detailed information about the tensor. This includes the name, symbol, the coordinates used to define the tensor, the rank, the default indices, and any other tensors that are defined using the tensor the method was called on. "
   ]
  },
  {
   "cell_type": "code",
   "execution_count": 13,
   "metadata": {},
   "outputs": [
    {
     "data": {
      "text/markdown": [
       "<div align=left style='font-size:16pt; margin-bottom:12pt'> \n",
       "\n",
       "Cartesian:\n",
       "\n",
       " </div><div align=left style='font-size:12pt'> \n",
       "\n",
       "__Name:__ Cartesian\n",
       "\n",
       "__Symbol:__ $x$\n",
       "\n",
       "__Type:__ Coordinates\n",
       "\n",
       "__Rank:__ 1\n",
       "\n",
       "__Default Indices:__ (1,)\n",
       "\n",
       "__Default Coordinates For:__ \n",
       "\n",
       " </div>"
      ],
      "text/plain": [
       "<IPython.core.display.Markdown object>"
      ]
     },
     "metadata": {},
     "output_type": "display_data"
    }
   ],
   "source": [
    "cartesian.info()"
   ]
  },
  {
   "cell_type": "markdown",
   "metadata": {},
   "source": [
    "<style>\n",
    "h1 {\n",
    "    font-size: 32pt;\n",
    "    color: #875BFF\n",
    "}\n",
    "h2 {\n",
    "    font-size: 24pt;\n",
    "    color: #5B82FF\n",
    "}\n",
    "h3 {\n",
    "    font-size: 20pt;\n",
    "    color: #93ADFF\n",
    "}\n",
    "p {\n",
    "    font-size: 14pt\n",
    "}\n",
    "code {\n",
    "    font-size: 14pt\n",
    "}\n",
    "</style>\n",
    "\n",
    "### __Getting the Rank of a Tensor__\n"
   ]
  },
  {
   "cell_type": "markdown",
   "metadata": {},
   "source": [
    "<style>\n",
    "h1 {\n",
    "    font-size: 32pt;\n",
    "    color: #875BFF\n",
    "}\n",
    "h2 {\n",
    "    font-size: 24pt;\n",
    "    color: #5B82FF\n",
    "}\n",
    "h3 {\n",
    "    font-size: 20pt;\n",
    "    color: #93ADFF\n",
    "}\n",
    "p {\n",
    "    font-size: 14pt\n",
    "}\n",
    "code {\n",
    "    font-size: 14pt\n",
    "}\n",
    "</style>\n",
    "\n",
    "It may be useful to be able to request the rank of a tensor, which can be done by calling the `rank()` method. This method will simply return the rank of the tensor."
   ]
  },
  {
   "cell_type": "code",
   "execution_count": 14,
   "metadata": {},
   "outputs": [
    {
     "name": "stdout",
     "output_type": "stream",
     "text": [
      "cartesian.rank() = 1\n",
      "spherical.rank() = 1\n"
     ]
    }
   ],
   "source": [
    "print(f\"{cartesian.rank() = }\")\n",
    "print(f\"{spherical.rank() = }\")"
   ]
  },
  {
   "cell_type": "markdown",
   "metadata": {},
   "source": [
    "<style>\n",
    "h1 {\n",
    "    font-size: 32pt;\n",
    "    color: #875BFF\n",
    "}\n",
    "h2 {\n",
    "    font-size: 24pt;\n",
    "    color: #5B82FF\n",
    "}\n",
    "h3 {\n",
    "    font-size: 20pt;\n",
    "    color: #93ADFF\n",
    "}\n",
    "p {\n",
    "    font-size: 14pt\n",
    "}\n",
    "code {\n",
    "    font-size: 14pt\n",
    "}\n",
    "</style>\n",
    "\n",
    "## __Defining Coordinate Transformations__"
   ]
  },
  {
   "cell_type": "markdown",
   "metadata": {},
   "source": [
    "<style>\n",
    "h1 {\n",
    "    font-size: 32pt;\n",
    "    color: #875BFF\n",
    "}\n",
    "h2 {\n",
    "    font-size: 24pt;\n",
    "    color: #5B82FF\n",
    "}\n",
    "h3 {\n",
    "    font-size: 20pt;\n",
    "    color: #93ADFF\n",
    "}\n",
    "p {\n",
    "    font-size: 14pt\n",
    "}\n",
    "code {\n",
    "    font-size: 14pt\n",
    "}\n",
    "</style>\n",
    "\n",
    "The next logical step after defining our Coordinate systems is adding the rules for transforming between them. We can let PyOGRe know how to transform coordinates by adding the transformation rules using the `add_coord_transformation()` method on any Coordinates object. The first argument **coords** is the target coordinate system, and the second argument **rules** is a list of the transformation rules. The rules must be a list of SymPy equations of the form $x_i = f(\\vec{x})$, where $x_i$ is one of the source coordinates, and $f(\\vec{x})$ is a function of the target coordinates. If we leave the argument rules blank, PyOGRe will remove any existing transformation rules to the target coordinate system."
   ]
  },
  {
   "cell_type": "code",
   "execution_count": 15,
   "metadata": {},
   "outputs": [
    {
     "name": "stdout",
     "output_type": "stream",
     "text": [
      "\n",
      "        (method) add_coord_transformation(coords, rules)\n",
      "\n",
      "        Define a Coordinate transformation.\n",
      "\n",
      "        `coords`: The target coordinate system.\n",
      "        `rules`: The transformation rules to convert the current coordinates to the target coordinates.\n",
      "        If left as None, and coords is supplied, any existing transformation will be removed.\n",
      "\n",
      "        Example:\n",
      "\n",
      "        >>> import sympy as sym\n",
      "        >>> from PyOGRe.Coordinates import new_coordinates\n",
      "\n",
      "        >>> t, x, y, z, r, theta, phi = sym.symbols(\"t x y z r theta phi\")\n",
      "\n",
      "        >>> cartesian = new_coordinates(\n",
      "            name=\"4D Cartesian\",\n",
      "            components=sym.Array([t, x, y, z])\n",
      "        )\n",
      "\n",
      "        >>> spherical = new_coordinates(\n",
      "            name=\"4D Spherical\",\n",
      "            components=sym.Array([t, r, theta, phi])\n",
      "        )\n",
      "\n",
      "        >>> cartesian.add_coord_transformation(\n",
      "            coords=spherical,\n",
      "            rules=[\n",
      "                None,\n",
      "                sym.Eq(x, r*sym.sin(theta)*sym.cos(phi)),\n",
      "                sym.Eq(y, r*sym.sin(theta)*sym.sin(phi)),\n",
      "                sym.Eq(z, r*sym.cos(theta))\n",
      "            ]\n",
      "        )\n",
      "\n",
      "        >>> spherical.add_coord_transformation(\n",
      "            coords=cartesian,\n",
      "            rules=[\n",
      "                None,\n",
      "                sym.Eq(r, sym.sqrt(x**2+y**2+z**2)),\n",
      "                sym.Eq(theta, sym.acos(z/(sym.sqrt(x**2+y**2+z**2)))),\n",
      "                sym.Eq(phi, sym.atan(y/x)),\n",
      "            ]\n",
      "        )\n",
      "\n",
      "        Above, we defined both the Cartesian and Spherical coordinate systems in 4D. We then\n",
      "        added the coordinate transformations between the two systems.\n",
      "        \n"
     ]
    }
   ],
   "source": [
    "print(cartesian.add_coord_transformation.__doc__)"
   ]
  },
  {
   "cell_type": "code",
   "execution_count": 16,
   "metadata": {},
   "outputs": [
    {
     "data": {
      "text/plain": [
       "Cartesian"
      ]
     },
     "execution_count": 16,
     "metadata": {},
     "output_type": "execute_result"
    }
   ],
   "source": [
    "# t -> t\n",
    "# x -> r*sin(theta)*cos(phi)\n",
    "# y -> r*sin(theta)*sin(phi)\n",
    "# z -> r*cos(theta)\n",
    "cartesian_to_spherical = [\n",
    "    sym.Eq(x, r*sym.sin(theta)*sym.cos(phi)),\n",
    "    sym.Eq(y, r*sym.sin(theta)*sym.sin(phi)),\n",
    "    sym.Eq(z, r*sym.cos(theta))\n",
    "]\n",
    "\n",
    "cartesian.add_coord_transformation(\n",
    "    coords=spherical,\n",
    "    rules=cartesian_to_spherical\n",
    ")"
   ]
  },
  {
   "cell_type": "code",
   "execution_count": 17,
   "metadata": {},
   "outputs": [
    {
     "data": {
      "text/plain": [
       "Spherical"
      ]
     },
     "execution_count": 17,
     "metadata": {},
     "output_type": "execute_result"
    }
   ],
   "source": [
    "# t -> t\n",
    "# r -> sqrt(x^2+y^2+z^2)\n",
    "# theta -> acos(z/(sqrt(x^2+y^2+z^2)))\n",
    "# phi -> atan(y/x)\n",
    "spherical_to_cartesian = [\n",
    "    sym.Eq(r, sym.sqrt(x**2+y**2+z**2)),\n",
    "    sym.Eq(theta, sym.acos(z/(sym.sqrt(x**2+y**2+z**2)))),\n",
    "    sym.Eq(phi, sym.atan(y/x)),\n",
    "]\n",
    "\n",
    "spherical.add_coord_transformation(\n",
    "    coords=cartesian,\n",
    "    rules=spherical_to_cartesian\n",
    ")"
   ]
  },
  {
   "cell_type": "markdown",
   "metadata": {},
   "source": [
    "<style>\n",
    "h1 {\n",
    "    font-size: 32pt;\n",
    "    color: #875BFF\n",
    "}\n",
    "h2 {\n",
    "    font-size: 24pt;\n",
    "    color: #5B82FF\n",
    "}\n",
    "h3 {\n",
    "    font-size: 20pt;\n",
    "    color: #93ADFF\n",
    "}\n",
    "p {\n",
    "    font-size: 14pt\n",
    "}\n",
    "code {\n",
    "    font-size: 14pt\n",
    "}\n",
    "</style>\n",
    "\n",
    "Above, we have defined the transformation rules to go from Cartesian to Spherical coordinates, as well as the inverse transformation. As seen in the examples, if one coordinate does not change during the transformation, we can simply omit the rule (or you can supply `None` as the rule)."
   ]
  },
  {
   "cell_type": "markdown",
   "metadata": {},
   "source": [
    "<style>\n",
    "h1 {\n",
    "    font-size: 32pt;\n",
    "    color: #875BFF\n",
    "}\n",
    "h2 {\n",
    "    font-size: 24pt;\n",
    "    color: #5B82FF\n",
    "}\n",
    "h3 {\n",
    "    font-size: 20pt;\n",
    "    color: #93ADFF\n",
    "}\n",
    "p {\n",
    "    font-size: 14pt\n",
    "}\n",
    "code {\n",
    "    font-size: 14pt\n",
    "}\n",
    "</style>\n",
    "\n",
    "## __Defining Metrics__"
   ]
  },
  {
   "cell_type": "markdown",
   "metadata": {},
   "source": [
    "<style>\n",
    "h1 {\n",
    "    font-size: 32pt;\n",
    "    color: #875BFF\n",
    "}\n",
    "h2 {\n",
    "    font-size: 24pt;\n",
    "    color: #5B82FF\n",
    "}\n",
    "h3 {\n",
    "    font-size: 20pt;\n",
    "    color: #93ADFF\n",
    "}\n",
    "p {\n",
    "    font-size: 14pt\n",
    "}\n",
    "code {\n",
    "    font-size: 14pt\n",
    "}\n",
    "</style>\n",
    "\n",
    "With our coordinate systems defined, we can now create metric tensors in order to define our manifolds. In PyOGRe, we can use the `new_metric()` method on a Coordinates object (or the equivalent standalone function `new_metric()`) to create a new metric tensor."
   ]
  },
  {
   "cell_type": "code",
   "execution_count": 18,
   "metadata": {},
   "outputs": [
    {
     "name": "stdout",
     "output_type": "stream",
     "text": [
      "\n",
      "    (function) new_metric(name, components, coords, indices, symbol)\n",
      "\n",
      "    Creates a new tensor object representing a metric tensor.\n",
      "\n",
      "    `name`: Defines name of the tensor is used when displaying the metric.\n",
      "    `components`: An array / matrix of the metric's components.\n",
      "    `coords`: Defines the coordinates the metric is using.\n",
      "    `indices`: Defines the default indices of the metric, must be (1, 1) or (-1, -1).\n",
      "    `symbol`: Defines the symbol used to represent the metric object.\n",
      "\n",
      "    Example:\n",
      "\n",
      "    >>> import sympy as sym\n",
      "    >>> from PyOGRe import new_coordinates, new_metric\n",
      "    >>> cartesian = new_coordinates(\"Cartesian\", sym.Array([sym.Symbol(\"t\"), sym.Symbol(\"x\"), sym.Symbol(\"y\"), sym.Symbol(\"z\")]))\n",
      "    >>> new_metric(\"Minkowski\", sym.diag(-1, 1, 1, 1), cartesian)\n",
      "\n",
      "    This will create the standard 3+1 dimensional Minkowski metric defined in standard Cartesian coordinates.\n",
      "    \n"
     ]
    }
   ],
   "source": [
    "print(og.new_metric.__doc__)"
   ]
  },
  {
   "cell_type": "markdown",
   "metadata": {},
   "source": [
    "<style>\n",
    "h1 {\n",
    "    font-size: 32pt;\n",
    "    color: #875BFF\n",
    "}\n",
    "h2 {\n",
    "    font-size: 24pt;\n",
    "    color: #5B82FF\n",
    "}\n",
    "h3 {\n",
    "    font-size: 20pt;\n",
    "    color: #93ADFF\n",
    "}\n",
    "p {\n",
    "    font-size: 14pt\n",
    "}\n",
    "code {\n",
    "    font-size: 14pt\n",
    "}\n",
    "</style>\n",
    "\n",
    "Just like when we defined the Coordinates objects, when defining a metric we must supply the **name** of the metric tensor, and the **components**. If we use the standalone function as we do below, we must also supply the argument **coords** to let PyOGRe know which coordinate system the metric is using. It should be noted that by default, PyOGRe assumes the components of the metric are being supplied with two lower indices, but this can be overwritten by overwriting the argument **indices**. Again like Coordinates objects, a **symbol** may be supplied which will be used when displaying the metric, but by default PyOGRe will use $g$."
   ]
  },
  {
   "cell_type": "code",
   "execution_count": 19,
   "metadata": {},
   "outputs": [
    {
     "data": {
      "text/markdown": [
       "<div align=center style='font-size:16pt;margin-bottom:12pt'> \n",
       "\n",
       "Minkowski:\n",
       "\n",
       " </div><div align=center style='font-size:14pt'> \n",
       "\n",
       " $$\\eta_{a}{ }_{b}{ }\\left(t, x, y, z\\right) =\\left(\\begin{matrix}-1 & 0 & 0 & 0\\\\0 & 1 & 0 & 0\\\\0 & 0 & 1 & 0\\\\0 & 0 & 0 & 1\\end{matrix}\\right)$$ \n",
       "\n",
       " </div>"
      ],
      "text/plain": [
       "<IPython.core.display.Markdown object>"
      ]
     },
     "metadata": {},
     "output_type": "display_data"
    }
   ],
   "source": [
    "minkowski = og.new_metric(\n",
    "    name=\"Minkowski\",\n",
    "    coords=cartesian,\n",
    "    components=sym.diag(-1, 1, 1, 1),\n",
    "    symbol=\"eta\"\n",
    ")\n",
    "minkowski.show()"
   ]
  },
  {
   "cell_type": "markdown",
   "metadata": {},
   "source": [
    "<style>\n",
    "h1 {\n",
    "    font-size: 32pt;\n",
    "    color: #875BFF\n",
    "}\n",
    "h2 {\n",
    "    font-size: 24pt;\n",
    "    color: #5B82FF\n",
    "}\n",
    "h3 {\n",
    "    font-size: 20pt;\n",
    "    color: #93ADFF\n",
    "}\n",
    "p {\n",
    "    font-size: 14pt\n",
    "}\n",
    "code {\n",
    "    font-size: 14pt\n",
    "}\n",
    "</style>\n",
    "\n",
    "Above we have defined the standard 3+1 dimenstional Minkwoski metric using the Cartesian coordinates we defined earlier. As can be seen, we manually had to supply the coordinates when using the standalone function `new_metric()`. We can just as easily define the Schwarzschild metric in Spherical coordinates by using the `new_metric()` method on the `spherical` Coordinates object, as can be seen in the following example."
   ]
  },
  {
   "cell_type": "code",
   "execution_count": 20,
   "metadata": {},
   "outputs": [
    {
     "data": {
      "text/markdown": [
       "<div align=center style='font-size:16pt;margin-bottom:12pt'> \n",
       "\n",
       "Schwarzschild:\n",
       "\n",
       " </div><div align=center style='font-size:14pt'> \n",
       "\n",
       " $$g_{a}{ }_{b}{ }\\left(t, r, \\theta, \\phi\\right) =\\left(\\begin{matrix}\\frac{2 M}{r} - 1 & 0 & 0 & 1\\\\[1em]0 & \\frac{1}{- \\frac{2 M}{r} + 1} & 0 & 0\\\\[1em]0 & 0 & r^{2} & 0\\\\[1em]1 & 0 & 0 & r^{2} \\sin^{2}{\\left(\\theta \\right)}\\end{matrix}\\right)$$ \n",
       "\n",
       " </div>"
      ],
      "text/plain": [
       "<IPython.core.display.Markdown object>"
      ]
     },
     "metadata": {},
     "output_type": "display_data"
    }
   ],
   "source": [
    "M = sym.symbols(\"M\")\n",
    "\n",
    "schwarzschild = spherical.new_metric(\n",
    "    name=\"Schwarzschild\",\n",
    "    components=sym.Array(\n",
    "        [\n",
    "            [-(1-2*M/r), 0, 0, 1],\n",
    "            [0, 1/(1-2*M/r), 0, 0],\n",
    "            [0, 0, r**2, 0],\n",
    "            [1, 0, 0, r**2 * sym.sin(theta)**2]\n",
    "        ]\n",
    "    )\n",
    ")\n",
    "schwarzschild.show()"
   ]
  },
  {
   "cell_type": "markdown",
   "metadata": {},
   "source": [
    "<style>\n",
    "h1 {\n",
    "    font-size: 32pt;\n",
    "    color: #875BFF\n",
    "}\n",
    "h2 {\n",
    "    font-size: 24pt;\n",
    "    color: #5B82FF\n",
    "}\n",
    "h3 {\n",
    "    font-size: 20pt;\n",
    "    color: #93ADFF\n",
    "}\n",
    "p {\n",
    "    font-size: 12pt\n",
    "}\n",
    "code {\n",
    "    font-size: 12pt\n",
    "}\n",
    "</style>\n",
    "\n",
    "### __Displaying Line Elements__"
   ]
  },
  {
   "cell_type": "markdown",
   "metadata": {},
   "source": [
    "<style>\n",
    "h1 {\n",
    "    font-size: 32pt;\n",
    "    color: #875BFF\n",
    "}\n",
    "h2 {\n",
    "    font-size: 24pt;\n",
    "    color: #5B82FF\n",
    "}\n",
    "h3 {\n",
    "    font-size: 20pt;\n",
    "    color: #93ADFF\n",
    "}\n",
    "p {\n",
    "    font-size: 14pt\n",
    "}\n",
    "code {\n",
    "    font-size: 14pt\n",
    "}\n",
    "</style>\n",
    "\n",
    "With our metrics created, we can now ask PyOGRe to display them as a line element using the `line_element()` method."
   ]
  },
  {
   "cell_type": "code",
   "execution_count": 21,
   "metadata": {},
   "outputs": [
    {
     "data": {
      "text/markdown": [
       "<div align=center style='font-size:16pt;margin-bottom:12pt'> \n",
       "\n",
       " Schwarzschild: \n",
       "\n",
       " </div><div align=center style='font-size:14pt'> \n",
       "\n",
       " $$\\mathrm{d}s^2 = r^{2} \\sin^{2}{\\left(\\theta \\right)} d \\phi^{2} + r^{2} d \\theta^{2} + \\left(\\frac{2 M}{r} - 1\\right) d t^{2} + 2 d t d \\phi + \\frac{d r^{2}}{- \\frac{2 M}{r} + 1}$$ \n",
       "\n",
       " </div>"
      ],
      "text/plain": [
       "<IPython.core.display.Markdown object>"
      ]
     },
     "metadata": {},
     "output_type": "display_data"
    },
    {
     "data": {
      "text/markdown": [
       "<div align=center style='font-size:16pt;margin-bottom:12pt'> \n",
       "\n",
       " Minkowski: \n",
       "\n",
       " </div><div align=center style='font-size:14pt'> \n",
       "\n",
       " $$\\mathrm{d}s^2 = r^{2} \\sin^{2}{\\left(\\theta \\right)} d \\phi^{2} + r^{2} d \\theta^{2} + d r^{2} - d t^{2}$$ \n",
       "\n",
       " </div>"
      ],
      "text/plain": [
       "<IPython.core.display.Markdown object>"
      ]
     },
     "metadata": {},
     "output_type": "display_data"
    }
   ],
   "source": [
    "schwarzschild.line_element()\n",
    "minkowski.line_element(coords=spherical)"
   ]
  },
  {
   "cell_type": "code",
   "execution_count": 22,
   "metadata": {},
   "outputs": [
    {
     "data": {
      "text/markdown": [
       "<div align=center style='font-size:16pt;margin-bottom:12pt'> \n",
       "\n",
       " Schwarzschild: \n",
       "\n",
       " </div><div align=center style='font-size:14pt'> \n",
       "\n",
       " $$\\mathrm{d}s^2 = r^{2} \\sin^{2}{\\left(\\theta \\right)} d \\phi^{2} + r^{2} d \\theta^{2} + \\left(\\frac{2 M}{r} - 1\\right) d t^{2} + \\frac{d r^{2}}{- \\frac{2 M}{r} + 1}$$ \n",
       "\n",
       " </div>"
      ],
      "text/plain": [
       "<IPython.core.display.Markdown object>"
      ]
     },
     "metadata": {},
     "output_type": "display_data"
    }
   ],
   "source": [
    "from PyOGRe.Defaults import schwarzschild\n",
    "\n",
    "schwarzschild.line_element()"
   ]
  },
  {
   "cell_type": "markdown",
   "metadata": {},
   "source": [
    "<style>\n",
    "h1 {\n",
    "    font-size: 32pt;\n",
    "    color: #875BFF\n",
    "}\n",
    "h2 {\n",
    "    font-size: 24pt;\n",
    "    color: #5B82FF\n",
    "}\n",
    "h3 {\n",
    "    font-size: 20pt;\n",
    "    color: #93ADFF\n",
    "}\n",
    "p {\n",
    "    font-size: 12pt\n",
    "}\n",
    "code {\n",
    "    font-size: 12pt\n",
    "}\n",
    "</style>\n",
    "\n",
    "### __Displaying Volume Elements__\n"
   ]
  },
  {
   "cell_type": "markdown",
   "metadata": {},
   "source": [
    "<style>\n",
    "h1 {\n",
    "    font-size: 32pt;\n",
    "    color: #875BFF\n",
    "}\n",
    "h2 {\n",
    "    font-size: 24pt;\n",
    "    color: #5B82FF\n",
    "}\n",
    "h3 {\n",
    "    font-size: 20pt;\n",
    "    color: #93ADFF\n",
    "}\n",
    "p {\n",
    "    font-size: 14pt\n",
    "}\n",
    "code {\n",
    "    font-size: 14pt\n",
    "}\n",
    "</style>\n",
    "\n",
    "Similarly to the line elements, we can display the volume element squared of a metric using the `volume_element()` method, which is just the determinant of the metric."
   ]
  },
  {
   "cell_type": "code",
   "execution_count": 23,
   "metadata": {},
   "outputs": [
    {
     "data": {
      "text/markdown": [
       "<div align=center style='font-size:16pt;margin-bottom:12pt'> \n",
       "\n",
       " Minkowski: \n",
       "\n",
       " </div><div align=center style='font-size:14pt'> \n",
       "\n",
       " $$\\mathrm{d}V^2 = -1$$ \n",
       "\n",
       " </div>"
      ],
      "text/plain": [
       "<IPython.core.display.Markdown object>"
      ]
     },
     "metadata": {},
     "output_type": "display_data"
    },
    {
     "data": {
      "text/markdown": [
       "<div align=center style='font-size:16pt;margin-bottom:12pt'> \n",
       "\n",
       " Minkowski: \n",
       "\n",
       " </div><div align=center style='font-size:14pt'> \n",
       "\n",
       " $$\\mathrm{d}V^2 = - r^{4} \\sin^{2}{\\left(\\theta \\right)}$$ \n",
       "\n",
       " </div>"
      ],
      "text/plain": [
       "<IPython.core.display.Markdown object>"
      ]
     },
     "metadata": {},
     "output_type": "display_data"
    }
   ],
   "source": [
    "minkowski.volume_element()\n",
    "minkowski.volume_element(coords=spherical)"
   ]
  },
  {
   "cell_type": "markdown",
   "metadata": {},
   "source": [
    "<style>\n",
    "h1 {\n",
    "    font-size: 32pt;\n",
    "    color: #875BFF\n",
    "}\n",
    "h2 {\n",
    "    font-size: 24pt;\n",
    "    color: #5B82FF\n",
    "}\n",
    "h3 {\n",
    "    font-size: 20pt;\n",
    "    color: #93ADFF\n",
    "}\n",
    "p {\n",
    "    font-size: 14pt\n",
    "}\n",
    "code {\n",
    "    font-size: 14pt\n",
    "}\n",
    "</style>\n",
    "\n",
    "## __Defining Tensors__"
   ]
  },
  {
   "cell_type": "markdown",
   "metadata": {},
   "source": [
    "<style>\n",
    "h1 {\n",
    "    font-size: 32pt;\n",
    "    color: #875BFF\n",
    "}\n",
    "h2 {\n",
    "    font-size: 24pt;\n",
    "    color: #5B82FF\n",
    "}\n",
    "h3 {\n",
    "    font-size: 20pt;\n",
    "    color: #93ADFF\n",
    "}\n",
    "p {\n",
    "    font-size: 14pt\n",
    "}\n",
    "code {\n",
    "    font-size: 14pt\n",
    "}\n",
    "</style>\n",
    "\n",
    "Any tensors that are not coordinates or a metric can be defined using the `new_tensor()` method on any metric, or using the standalone function `new_tensor()`. If we use the method, PyOGRe will automatically associate the new tensor with the metric the method was called on, and assume that the tensor is defined using the same coordinates the metric uses by default (although this can be overwritten by specifying the argument **coords**)."
   ]
  },
  {
   "cell_type": "code",
   "execution_count": 24,
   "metadata": {},
   "outputs": [
    {
     "name": "stdout",
     "output_type": "stream",
     "text": [
      "\n",
      "    (function) new_tensor(name, components, metric, coords, indices, symbol)\n",
      "\n",
      "    Creates a new tensor object representing a tensor.\n",
      "\n",
      "    `name`: Defines name of the tensor is used when displaying the tensor.\n",
      "    `components`: An array / matrix of the tensor's components.\n",
      "    `metric`: Defines the metric tensor associated with the tensor.\n",
      "    `coords`: Defines the coordinates the tensor is using.\n",
      "    `indices`: Defines the default indices of the tensor, each index must be 1 (contravariant) or -1 (covariant).\n",
      "    `symbol`: Defines the symbol used to represent the metric object.\n",
      "\n",
      "    Example:\n",
      "\n",
      "    >>> import sympy as sym\n",
      "    >>> from PyOGRe import new_coordinates, new_metric, new_tensor\n",
      "    >>> cartesian = new_coordinates(\"Cartesian\", sym.Array([sym.Symbol(\"t\"), sym.Symbol(\"x\"), sym.Symbol(\"y\"), sym.Symbol(\"z\")]))\n",
      "    >>> minkowski = new_metric(\"Minkowski\", sym.diag(-1, 1, 1, 1), cartesian)\n",
      "    >>> og.new_tensor(\"Scalar\", sym.Array(42), minkowski, cartesian, (), \"S\")\n",
      "\n",
      "    This will create the scalar 42 in the Minkowski metric and Cartesian coordinates.\n",
      "    \n"
     ]
    }
   ],
   "source": [
    "print(og.new_tensor.__doc__)"
   ]
  },
  {
   "cell_type": "markdown",
   "metadata": {},
   "source": [
    "<style>\n",
    "h1 {\n",
    "    font-size: 32pt;\n",
    "    color: #875BFF\n",
    "}\n",
    "h2 {\n",
    "    font-size: 24pt;\n",
    "    color: #5B82FF\n",
    "}\n",
    "h3 {\n",
    "    font-size: 20pt;\n",
    "    color: #93ADFF\n",
    "}\n",
    "p {\n",
    "    font-size: 14pt\n",
    "}\n",
    "code {\n",
    "    font-size: 14pt\n",
    "}\n",
    "</style>\n",
    "\n",
    "### __Scalars__"
   ]
  },
  {
   "cell_type": "markdown",
   "metadata": {},
   "source": [
    "<style>\n",
    "h1 {\n",
    "    font-size: 32pt;\n",
    "    color: #875BFF\n",
    "}\n",
    "h2 {\n",
    "    font-size: 24pt;\n",
    "    color: #5B82FF\n",
    "}\n",
    "h3 {\n",
    "    font-size: 20pt;\n",
    "    color: #93ADFF\n",
    "}\n",
    "p {\n",
    "    font-size: 14pt\n",
    "}\n",
    "code {\n",
    "    font-size: 14pt\n",
    "}\n",
    "</style>\n",
    "\n",
    "To start, let us first create the Kretschmann scalar in the Schwarzschild spacetime (we will later show how to calculate it from the metric using PyOGRe)."
   ]
  },
  {
   "cell_type": "code",
   "execution_count": 25,
   "metadata": {},
   "outputs": [
    {
     "data": {
      "text/markdown": [
       "<div align=center style='font-size:16pt;margin-bottom:12pt'> \n",
       "\n",
       "Kretschmann:\n",
       "\n",
       " </div><div align=center style='font-size:14pt'> \n",
       "\n",
       " $$S\\left(t, r, \\theta, \\phi\\right) =\\frac{48 M^{2}}{r^{6}}$$ \n",
       "\n",
       " </div>"
      ],
      "text/plain": [
       "<IPython.core.display.Markdown object>"
      ]
     },
     "metadata": {},
     "output_type": "display_data"
    }
   ],
   "source": [
    "kretschmann = schwarzschild.new_tensor(\n",
    "    name=\"Kretschmann\",\n",
    "    components=sym.Array(48*M**2/r**6),\n",
    "    indices=(),\n",
    "    symbol=\"S\"\n",
    ")\n",
    "kretschmann.show()"
   ]
  },
  {
   "cell_type": "markdown",
   "metadata": {},
   "source": [
    "<style>\n",
    "h1 {\n",
    "    font-size: 32pt;\n",
    "    color: #875BFF\n",
    "}\n",
    "h2 {\n",
    "    font-size: 24pt;\n",
    "    color: #5B82FF\n",
    "}\n",
    "h3 {\n",
    "    font-size: 20pt;\n",
    "    color: #93ADFF\n",
    "}\n",
    "p {\n",
    "    font-size: 14pt\n",
    "}\n",
    "code {\n",
    "    font-size: 14pt\n",
    "}\n",
    "</style>\n",
    "\n",
    "### __Generic Tensors__"
   ]
  },
  {
   "cell_type": "markdown",
   "metadata": {},
   "source": [
    "<style>\n",
    "h1 {\n",
    "    font-size: 32pt;\n",
    "    color: #875BFF\n",
    "}\n",
    "h2 {\n",
    "    font-size: 24pt;\n",
    "    color: #5B82FF\n",
    "}\n",
    "h3 {\n",
    "    font-size: 20pt;\n",
    "    color: #93ADFF\n",
    "}\n",
    "p {\n",
    "    font-size: 14pt\n",
    "}\n",
    "code {\n",
    "    font-size: 14pt\n",
    "}\n",
    "</style>\n",
    "\n",
    "Just as for scalar quantities, we can create arbitrary tensors of any rank using the same method or function `new_tensor()`. For example, let us create a vector (a rank 1 tensor) in the Minkowski spacetime representing the velocity of a particle travelling in the $x$ direction with velocity $v$."
   ]
  },
  {
   "cell_type": "code",
   "execution_count": 26,
   "metadata": {},
   "outputs": [
    {
     "data": {
      "text/markdown": [
       "<div align=center style='font-size:16pt;margin-bottom:12pt'> \n",
       "\n",
       "4-Velocity:\n",
       "\n",
       " </div><div align=center style='font-size:14pt'> \n",
       "\n",
       " $$u^{a}{ }\\left(t, x, y, z\\right) =\\left(\\begin{matrix}\\frac{1}{\\sqrt{1 - v^{2}}}\\\\[1em]\\frac{v}{\\sqrt{1 - v^{2}}}\\\\[1em]0\\\\[1em]0\\end{matrix}\\right)$$ \n",
       "\n",
       " </div>"
      ],
      "text/plain": [
       "<IPython.core.display.Markdown object>"
      ]
     },
     "metadata": {},
     "output_type": "display_data"
    }
   ],
   "source": [
    "v = sym.symbols(\"v\")\n",
    "\n",
    "four_velocity = og.new_tensor(\n",
    "    name=\"4-Velocity\",\n",
    "    components=1/sym.sqrt(1-v**2) * sym.Array([1, v, 0, 0]),\n",
    "    indices=(1,),\n",
    "    coords=cartesian,\n",
    "    metric=minkowski,\n",
    "    symbol=\"u\"\n",
    ")\n",
    "four_velocity.show()"
   ]
  },
  {
   "cell_type": "markdown",
   "metadata": {},
   "source": [
    "<style>\n",
    "h1 {\n",
    "    font-size: 32pt;\n",
    "    color: #875BFF\n",
    "}\n",
    "h2 {\n",
    "    font-size: 24pt;\n",
    "    color: #5B82FF\n",
    "}\n",
    "h3 {\n",
    "    font-size: 20pt;\n",
    "    color: #93ADFF\n",
    "}\n",
    "p {\n",
    "    font-size: 14pt\n",
    "}\n",
    "code {\n",
    "    font-size: 14pt\n",
    "}\n",
    "</style>\n",
    "\n",
    "As another example, let us create a rank 2 tensor in the Minkowski spacetime. We will define the stress-energy tensor for a perfect fluid by using the matrix representation with two upper indices."
   ]
  },
  {
   "cell_type": "code",
   "execution_count": 27,
   "metadata": {},
   "outputs": [
    {
     "data": {
      "text/markdown": [
       "<div align=center style='font-size:16pt;margin-bottom:12pt'> \n",
       "\n",
       "Perfect Fluid:\n",
       "\n",
       " </div><div align=center style='font-size:14pt'> \n",
       "\n",
       " $$T^{a}{ }^{b}{ }\\left(t, x, y, z\\right) =\\left(\\begin{matrix}\\rho & 0 & 0 & 0\\\\0 & p & 0 & 0\\\\0 & 0 & p & 0\\\\0 & 0 & 0 & p\\end{matrix}\\right)$$ \n",
       "\n",
       " </div>"
      ],
      "text/plain": [
       "<IPython.core.display.Markdown object>"
      ]
     },
     "metadata": {},
     "output_type": "display_data"
    }
   ],
   "source": [
    "rho, p = sym.symbols(\"rho p\")\n",
    "\n",
    "perfect_fluid = minkowski.new_tensor(\n",
    "    name=\"Perfect Fluid\",\n",
    "    components=sym.diag(rho, p, p, p),\n",
    "    indices=(1, 1),\n",
    "    symbol=\"T\"\n",
    ")\n",
    "perfect_fluid.show()"
   ]
  },
  {
   "cell_type": "markdown",
   "metadata": {},
   "source": [
    "<style>\n",
    "h1 {\n",
    "    font-size: 32pt;\n",
    "    color: #875BFF\n",
    "}\n",
    "h2 {\n",
    "    font-size: 24pt;\n",
    "    color: #5B82FF\n",
    "}\n",
    "h3 {\n",
    "    font-size: 20pt;\n",
    "    color: #93ADFF\n",
    "}\n",
    "p {\n",
    "    font-size: 14pt\n",
    "}\n",
    "code {\n",
    "    font-size: 14pt\n",
    "}\n",
    "</style>\n",
    "\n",
    "We could just as easily continue with higher rank tensors, but we will not go into that here as higher rank tensors are often derived in calculations. Later, we will see how to perform such calculations using PyOGRe to derive quantities such as the Christoffel symbols or the Riemann tensor from the metric (which are rank 3 and rank 4 tensors respectively)."
   ]
  },
  {
   "cell_type": "markdown",
   "metadata": {},
   "source": [
    "<style>\n",
    "h1 {\n",
    "    font-size: 32pt;\n",
    "    color: #875BFF\n",
    "}\n",
    "h2 {\n",
    "    font-size: 24pt;\n",
    "    color: #5B82FF\n",
    "}\n",
    "h3 {\n",
    "    font-size: 20pt;\n",
    "    color: #93ADFF\n",
    "}\n",
    "p {\n",
    "    font-size: 14pt\n",
    "}\n",
    "code {\n",
    "    font-size: 14pt\n",
    "}\n",
    "</style>\n",
    "\n",
    "## __Transforming Tensors__"
   ]
  },
  {
   "cell_type": "markdown",
   "metadata": {},
   "source": [
    "<style>\n",
    "h1 {\n",
    "    font-size: 32pt;\n",
    "    color: #875BFF\n",
    "}\n",
    "h2 {\n",
    "    font-size: 24pt;\n",
    "    color: #5B82FF\n",
    "}\n",
    "h3 {\n",
    "    font-size: 20pt;\n",
    "    color: #93ADFF\n",
    "}\n",
    "p {\n",
    "    font-size: 14pt\n",
    "}\n",
    "code {\n",
    "    font-size: 14pt\n",
    "}\n",
    "</style>\n",
    "\n",
    "With our tensors defined, we may want to start requesting the tensors with a different index configuration. In order to change the index configuration, we must raise and lower the indices by **contracting** the tensor with the metric. As an example, suppose we have a vector $v^\\nu$ represented with one upper index and a metric $g$. We can lower the index, turning the vector into a covector as follows:\n",
    "\n",
    "$$\n",
    "v_\\mu = g_{\\mu}{}_{\\nu}{} v^\\nu\n",
    "$$\n",
    "\n",
    "Here, we have lowered one index. In the example above, as well as the rest of the documentation, we will be using the **Einstein summation convention**, which states that whenever the same index is repeated exactly twice, once as an upper index and once as a lower index, it is to be summed over. In the example above, the summation is over $\\nu \\in \\{0, 1, 2, 3\\}$, and writing the summation out yields:\n",
    "\n",
    "$$\n",
    "v_\\mu = \\sum_{\\nu = 0}^{3} g_{\\mu}{}_{\\nu}{} v^\\nu = g_{\\mu}{}_{0}{} v^0 + g_{\\mu}{}_{1}{} v^1 + g_{\\mu}{}_{2}{} v^2 + g_{\\mu}{}_{3}{} v^3\n",
    "$$\n",
    "\n",
    "Sums such as the one above are what is known as a **contraction**, which is simply a generalization of the familiar inner product. If we instead had a covector $w_\\mu$, we could raise the index turning it into a vector by contracting it with the inverse metric:\n",
    "\n",
    "$$\n",
    "w^\\mu = g^{\\mu}{}^{\\nu}{} w_\\nu .\n",
    "$$\n",
    "\n",
    "Of course, this can be extended to work for tensors of any rank. For example, suppose we have a tensor $T_{a}{}^{b}{}$ with one upper index and one lower index. We can raise or lower either index, or invert the index configuration:\n",
    "\n",
    "$$\n",
    "T^{a}{}^{b}{} = g^{a}{}^{\\lambda}{} T_{\\lambda}{}^{b}{}, \\quad \n",
    "T_{a}{}_{b}{} = g_{b}{}_{\\lambda}{} T_{a}{}^{\\lambda}{}, \\quad\n",
    "T^{a}{}_{b}{} = g_{b}{}_{\\rho}{} g^{a}{}^{\\lambda}{} T_{\\lambda}{}^{\\rho}{} .\n",
    "$$\n",
    "\n",
    "However, when using PyOGRe one doesn't need to worry about ever raising or lowering an index. The tensor objects are **abstract tensors** which are completely free of any single index configuration. All one must do instead is request PyOGRe to display the components of the tensor with the desired index configuration and the desired coordinate system. Both the `show()` and `list()` methods in PyOGRe will accept and argument **coords** to specify the coordinate system to use when displaying the tensor, along with the argument **indices** which will be used to request specific index configurations."
   ]
  },
  {
   "cell_type": "markdown",
   "metadata": {},
   "source": [
    "<style>\n",
    "h1 {\n",
    "    font-size: 32pt;\n",
    "    color: #875BFF\n",
    "}\n",
    "h2 {\n",
    "    font-size: 24pt;\n",
    "    color: #5B82FF\n",
    "}\n",
    "h3 {\n",
    "    font-size: 20pt;\n",
    "    color: #93ADFF\n",
    "}\n",
    "p {\n",
    "    font-size: 14pt\n",
    "}\n",
    "code {\n",
    "    font-size: 14pt\n",
    "}\n",
    "li:not(:last-child) {\n",
    "    margin-bottom: 1em\n",
    "}\n",
    "</style>\n",
    "\n",
    "Additionally, it may become useful to start displaying them in different coordinate systems than the one they were defined in. To understand how we transform coordinates, let us assume we have defined a tensor in a coordinate system $x^{\\mu}$. Then we can transform it to a different coordinate system $x^{\\mu^\\prime}$ in the following way:\n",
    "\n",
    "- For each lower index, add a factor of $\\cfrac{\\partial{x^{\\mu}}}{\\partial{x^{\\mu^\\prime}}}$. This is the derivative of the source coordinates with respect to the target coordinates, which is also known as the **Jacobian**.\n",
    "\n",
    "- For each upper index, add a factor of $\\cfrac{\\partial{x^{\\mu^\\prime}}}{\\partial{x^{\\mu}}}$. This is the derivative of the target coordinates with respect to the source coordinates, which is also known as the **Inverse Jacobian**.\n",
    "\n",
    "As an example, consider the tensor $T_{a}{}_{b}{}$ defined in coordinates $x^{\\mu}$. Transforming coordinates to a new coordinate system $x^{\\mu^\\prime}$ will result in $T_{a^{\\prime}}{}_{b^{\\prime}}{}$ given by:\n",
    "\n",
    "$$\n",
    "T_{a^{\\prime}}{}_{b^{\\prime}}{}(x^{\\mu^\\prime}) = \\cfrac{\\partial{x^{a}}}{\\partial{x^{a^\\prime}}} \\cfrac{\\partial{x^{b}}}{\\partial{x^{b^\\prime}}} T_{a}{}_{b}{}(x^{\\mu})\n",
    "$$\n",
    "\n",
    "In general, the above rules can be summarized for a tensor of type $(p, q)$ that has $p$ upper indices $a_1, \\ldots, a_p$ and $q$ lower indices $b_1, \\ldots, b_q$, such that the transformation from $x^{\\mu}$ to $x^{\\mu^\\prime}$ is given by:\n",
    "\n",
    "$$\n",
    "T^{a_1^{\\prime} \\ldots a_p^{\\prime}}_{b_1^{\\prime} \\ldots b_q^{\\prime}}{}(x^{\\mu^\\prime}) = \n",
    "\\left( \\cfrac{\\partial{x^{a_1^\\prime}}}{\\partial{x^{a_1}}} \\ldots \\cfrac{\\partial{x^{a_p^\\prime}}}{\\partial{x^{a_p}}} \\right) \n",
    "\\left( \\cfrac{\\partial{x^{b_1}}}{\\partial{x^{b_1^\\prime}}} \\ldots \\cfrac{\\partial{x^{b_q}}}{\\partial{x^{b_q^\\prime}}} \\right) \n",
    "T^{a_1 \\ldots a_p}_{b_1 \\ldots b_q}{}(x^{\\mu})\n",
    "$$\n",
    "\n",
    "Any easy way to remember the above formula is to recall that two indices may only appear twice in any formula, once as an upper index and once as a lower index so that it may be contracted properly. Thus, the indices can only be placed in one logical position; that is, if $a_1$ is an upper index in $T$, then it must be contracted with a lower index, so $\\partial x^{a_1}$ must appear in the denominator of the transformation.\n",
    "\n",
    "For our first example, let us display the inverse of the Minkowski metric, by raising both of the indices:"
   ]
  },
  {
   "cell_type": "code",
   "execution_count": null,
   "metadata": {},
   "outputs": [
    {
     "data": {
      "text/markdown": [
       "<div align=center style='font-size:16pt;margin-bottom:12pt'> \n",
       "\n",
       "Minkowski:\n",
       "\n",
       " </div><div align=center style='font-size:14pt'> \n",
       "\n",
       " $$ \n",
       "\\begin{aligned} \n",
       "\\eta^{t}{ }^{t}{ } = -\\eta^{x}{ }^{x}{ } = -\\eta^{y}{ }^{y}{ } = -\\eta^{z}{ }^{z}{ } &= -1\n",
       " \\end{aligned} \n",
       " $$ \n",
       "\n",
       " </div>"
      ],
      "text/plain": [
       "<IPython.core.display.Markdown object>"
      ]
     },
     "metadata": {},
     "output_type": "display_data"
    }
   ],
   "source": [
    "minkowski.list(indices=(1, 1))"
   ]
  },
  {
   "cell_type": "markdown",
   "metadata": {},
   "source": [
    "<style>\n",
    "h1 {\n",
    "    font-size: 32pt;\n",
    "    color: #875BFF\n",
    "}\n",
    "h2 {\n",
    "    font-size: 24pt;\n",
    "    color: #5B82FF\n",
    "}\n",
    "h3 {\n",
    "    font-size: 20pt;\n",
    "    color: #93ADFF\n",
    "}\n",
    "p {\n",
    "    font-size: 14pt\n",
    "}\n",
    "code {\n",
    "    font-size: 14pt\n",
    "}\n",
    "</style>\n",
    "\n",
    "Or instead, we could ask to see the components of the Minkowski metric in spherical coordinates:"
   ]
  },
  {
   "cell_type": "code",
   "execution_count": null,
   "metadata": {},
   "outputs": [
    {
     "data": {
      "text/markdown": [
       "<div align=center style='font-size:16pt;margin-bottom:12pt'> \n",
       "\n",
       "Minkowski:\n",
       "\n",
       " </div><div align=center style='font-size:14pt'> \n",
       "\n",
       " $$ \n",
       "\\begin{aligned} \n",
       "\\eta_{t}{ }_{t}{ } = -\\eta_{r}{ }_{r}{ } &= -1\\\\[10pt]\\eta_{\\theta}{ }_{\\theta}{ } &= r^{2}\\\\[10pt]\\eta_{\\phi}{ }_{\\phi}{ } &= r^{2} \\sin^{2}{\\left(\\theta \\right)}\n",
       " \\end{aligned} \n",
       " $$ \n",
       "\n",
       " </div>"
      ],
      "text/plain": [
       "<IPython.core.display.Markdown object>"
      ]
     },
     "metadata": {},
     "output_type": "display_data"
    }
   ],
   "source": [
    "minkowski.list(coords=spherical)"
   ]
  },
  {
   "cell_type": "markdown",
   "metadata": {},
   "source": [
    "<style>\n",
    "h1 {\n",
    "    font-size: 32pt;\n",
    "    color: #875BFF\n",
    "}\n",
    "h2 {\n",
    "    font-size: 24pt;\n",
    "    color: #5B82FF\n",
    "}\n",
    "h3 {\n",
    "    font-size: 20pt;\n",
    "    color: #93ADFF\n",
    "}\n",
    "p {\n",
    "    font-size: 14pt\n",
    "}\n",
    "code {\n",
    "    font-size: 14pt\n",
    "}\n",
    "</style>\n",
    "\n",
    "And why restrict ourselves to only one option? We can request both a different coordinate system and index configuration in the same method call:"
   ]
  },
  {
   "cell_type": "code",
   "execution_count": null,
   "metadata": {},
   "outputs": [
    {
     "data": {
      "text/markdown": [
       "<div align=center style='font-size:16pt;margin-bottom:12pt'> \n",
       "\n",
       "Minkowski:\n",
       "\n",
       " </div><div align=center style='font-size:14pt'> \n",
       "\n",
       " $$\\eta_{a}{ }_{b}{ }\\left(t, r, \\theta, \\phi\\right) =\\left(\\begin{matrix}-1 & 0 & 0 & 0\\\\0 & 1 & 0 & 0\\\\0 & 0 & r^{2} & 0\\\\0 & 0 & 0 & r^{2} \\sin^{2}{\\left(\\theta \\right)}\\end{matrix}\\right)$$ \n",
       "\n",
       " </div>"
      ],
      "text/plain": [
       "<IPython.core.display.Markdown object>"
      ]
     },
     "metadata": {},
     "output_type": "display_data"
    }
   ],
   "source": [
    "minkowski.show(coords=spherical, indices=(-1, -1))"
   ]
  },
  {
   "cell_type": "markdown",
   "metadata": {},
   "source": [
    "<style>\n",
    "h1 {\n",
    "    font-size: 32pt;\n",
    "    color: #875BFF\n",
    "}\n",
    "h2 {\n",
    "    font-size: 24pt;\n",
    "    color: #5B82FF\n",
    "}\n",
    "h3 {\n",
    "    font-size: 20pt;\n",
    "    color: #93ADFF\n",
    "}\n",
    "p {\n",
    "    font-size: 14pt\n",
    "}\n",
    "code {\n",
    "    font-size: 14pt\n",
    "}\n",
    "</style>\n",
    "\n",
    "## __Performing Substitutions and Mapping Functions__"
   ]
  },
  {
   "cell_type": "markdown",
   "metadata": {},
   "source": [
    "<style>\n",
    "h1 {\n",
    "    font-size: 32pt;\n",
    "    color: #875BFF\n",
    "}\n",
    "h2 {\n",
    "    font-size: 24pt;\n",
    "    color: #5B82FF\n",
    "}\n",
    "h3 {\n",
    "    font-size: 20pt;\n",
    "    color: #93ADFF\n",
    "}\n",
    "p {\n",
    "    font-size: 14pt\n",
    "}\n",
    "code {\n",
    "    font-size: 14pt\n",
    "}\n",
    "</style>\n",
    "\n",
    "Along with requesting the representation of a tensor in a different coordinate system or index configuration, PyOGRe also allows one to perform substitutions and map a function to each component of the tensor. Each of these are done by passing the keyword argument **replace** and the keyword argument **function** respectively. As an example, suppose we wanted to list the components of the Minkowski metric in spherical coordinates, but with the radial coordinate evaluated at $r=2$ and the polar angle evaluated at $\\theta=\\pi/2$:"
   ]
  },
  {
   "cell_type": "code",
   "execution_count": null,
   "metadata": {},
   "outputs": [
    {
     "data": {
      "text/markdown": [
       "<div align=center style='font-size:16pt;margin-bottom:12pt'> \n",
       "\n",
       "Minkowski:\n",
       "\n",
       " </div><div align=center style='font-size:14pt'> \n",
       "\n",
       " $$ \n",
       "\\begin{aligned} \n",
       "\\eta^{t}{ }^{t}{ } = -\\eta^{r}{ }^{r}{ } &= -1\\\\[10pt]\\eta^{\\theta}{ }^{\\theta}{ } &= \\frac{1}{4}\\\\[10pt]\\eta^{\\phi}{ }^{\\phi}{ } &= \\frac{1}{2}\n",
       " \\end{aligned} \n",
       " $$ \n",
       "\n",
       " </div>"
      ],
      "text/plain": [
       "<IPython.core.display.Markdown object>"
      ]
     },
     "metadata": {},
     "output_type": "display_data"
    }
   ],
   "source": [
    "minkowski.list(coords=spherical, indices=(1, 1), replace={r: 2, theta: sym.pi/4})"
   ]
  },
  {
   "cell_type": "markdown",
   "metadata": {},
   "source": [
    "<style>\n",
    "h1 {\n",
    "    font-size: 32pt;\n",
    "    color: #875BFF\n",
    "}\n",
    "h2 {\n",
    "    font-size: 24pt;\n",
    "    color: #5B82FF\n",
    "}\n",
    "h3 {\n",
    "    font-size: 20pt;\n",
    "    color: #93ADFF\n",
    "}\n",
    "p {\n",
    "    font-size: 14pt\n",
    "}\n",
    "code {\n",
    "    font-size: 14pt\n",
    "}\n",
    "</style>\n",
    "\n",
    "As we can see above, replace accepts a dictionary of substitutions where the keys are SymPy expressions, and the values are the values we would like to substitute in for the keys. If we then wanted to take the absolute value of the components above, we could pass the `abs()` function as the **function** argument:"
   ]
  },
  {
   "cell_type": "code",
   "execution_count": null,
   "metadata": {},
   "outputs": [
    {
     "data": {
      "text/markdown": [
       "<div align=center style='font-size:16pt;margin-bottom:12pt'> \n",
       "\n",
       "Minkowski:\n",
       "\n",
       " </div><div align=center style='font-size:14pt'> \n",
       "\n",
       " $$ \n",
       "\\begin{aligned} \n",
       "\\eta^{t}{ }^{t}{ } = \\eta^{r}{ }^{r}{ } &= 1\\\\[10pt]\\eta^{\\theta}{ }^{\\theta}{ } &= \\frac{1}{4}\\\\[10pt]\\eta^{\\phi}{ }^{\\phi}{ } &= \\frac{1}{2}\n",
       " \\end{aligned} \n",
       " $$ \n",
       "\n",
       " </div>"
      ],
      "text/plain": [
       "<IPython.core.display.Markdown object>"
      ]
     },
     "metadata": {},
     "output_type": "display_data"
    }
   ],
   "source": [
    "minkowski.list(coords=spherical, indices=(1, 1), replace={r: 2, theta: sym.pi/4}, function=abs)"
   ]
  },
  {
   "cell_type": "markdown",
   "metadata": {},
   "source": [
    "<style>\n",
    "h1 {\n",
    "    font-size: 32pt;\n",
    "    color: #875BFF\n",
    "}\n",
    "h2 {\n",
    "    font-size: 24pt;\n",
    "    color: #5B82FF\n",
    "}\n",
    "h3 {\n",
    "    font-size: 20pt;\n",
    "    color: #93ADFF\n",
    "}\n",
    "p {\n",
    "    font-size: 14pt\n",
    "}\n",
    "code {\n",
    "    font-size: 14pt\n",
    "}\n",
    "</style>\n",
    "\n",
    "It should be noted that there is also a keyword argument called **args** which can be used to pass additional arguments to the **function**. "
   ]
  },
  {
   "cell_type": "markdown",
   "metadata": {},
   "source": [
    "<style>\n",
    "h1 {\n",
    "    font-size: 32pt;\n",
    "    color: #875BFF\n",
    "}\n",
    "h2 {\n",
    "    font-size: 24pt;\n",
    "    color: #5B82FF\n",
    "}\n",
    "h3 {\n",
    "    font-size: 20pt;\n",
    "    color: #93ADFF\n",
    "}\n",
    "p {\n",
    "    font-size: 14pt\n",
    "}\n",
    "code {\n",
    "    font-size: 14pt\n",
    "}\n",
    "</style>\n",
    "\n",
    "## __Retrieving Tensor Components__"
   ]
  },
  {
   "cell_type": "markdown",
   "metadata": {},
   "source": [
    "<style>\n",
    "h1 {\n",
    "    font-size: 32pt;\n",
    "    color: #875BFF\n",
    "}\n",
    "h2 {\n",
    "    font-size: 24pt;\n",
    "    color: #5B82FF\n",
    "}\n",
    "h3 {\n",
    "    font-size: 20pt;\n",
    "    color: #93ADFF\n",
    "}\n",
    "p {\n",
    "    font-size: 14pt\n",
    "}\n",
    "code {\n",
    "    font-size: 14pt\n",
    "}\n",
    "</style>\n",
    "\n",
    "We now know how to display tensor components, but what about retrieving them so that we could perform our own calculations with them? This is handled by the `get_components()` method. This method supports a keyword argument **mode** which allows the user to specify whether the components should be returned as a SymPy array (the default), as a Mathematica array, or as a LaTeX expression."
   ]
  },
  {
   "cell_type": "markdown",
   "metadata": {},
   "source": [
    "<style>\n",
    "h1 {\n",
    "    font-size: 32pt;\n",
    "    color: #875BFF\n",
    "}\n",
    "h2 {\n",
    "    font-size: 24pt;\n",
    "    color: #5B82FF\n",
    "}\n",
    "h3 {\n",
    "    font-size: 20pt;\n",
    "    color: #93ADFF\n",
    "}\n",
    "p {\n",
    "    font-size: 14pt\n",
    "}\n",
    "code {\n",
    "    font-size: 14pt\n",
    "}\n",
    "</style>\n",
    "\n",
    "### __As a SymPy Array__"
   ]
  },
  {
   "cell_type": "markdown",
   "metadata": {},
   "source": [
    "<style>\n",
    "h1 {\n",
    "    font-size: 32pt;\n",
    "    color: #875BFF\n",
    "}\n",
    "h2 {\n",
    "    font-size: 24pt;\n",
    "    color: #5B82FF\n",
    "}\n",
    "h3 {\n",
    "    font-size: 20pt;\n",
    "    color: #93ADFF\n",
    "}\n",
    "p {\n",
    "    font-size: 14pt\n",
    "}\n",
    "code {\n",
    "    font-size: 14pt\n",
    "}\n",
    "</style>\n",
    "\n",
    "To start, we can get the components of any tensor object in PyOGRe as a SymPy array simply by calling the `get_components()` method. The method accepts the same arguments as both `list()` and `show()`, so we can easily get the components in any coordinate system, index configuration, or with substitutions made."
   ]
  },
  {
   "cell_type": "code",
   "execution_count": null,
   "metadata": {},
   "outputs": [
    {
     "name": "stdout",
     "output_type": "stream",
     "text": [
      "[t, x, y, z]\n",
      "[[-1, 0, 0, 0], [0, 1, 0, 0], [0, 0, r**2, 0], [0, 0, 0, r**2*sin(theta)**2]]\n",
      "[[-1, 0, 0, 0], [0, 1, 0, 0], [0, 0, r**2, 0], [0, 0, 0, r**2*sin(theta)**2]]\n"
     ]
    }
   ],
   "source": [
    "sympy_coordinates = cartesian.get_components()\n",
    "print(sympy_coordinates)\n",
    "\n",
    "sympy_minkowski = minkowski.get_components(coords=spherical, indices=(-1, -1))\n",
    "print(sympy_minkowski)\n",
    "\n",
    "sympy_minkowski = minkowski.get_components(coords=spherical, indices=(-1, -1), mode=\"sympy\")\n",
    "print(sympy_minkowski)"
   ]
  },
  {
   "cell_type": "markdown",
   "metadata": {},
   "source": [
    "<style>\n",
    "h1 {\n",
    "    font-size: 32pt;\n",
    "    color: #875BFF\n",
    "}\n",
    "h2 {\n",
    "    font-size: 24pt;\n",
    "    color: #5B82FF\n",
    "}\n",
    "h3 {\n",
    "    font-size: 20pt;\n",
    "    color: #93ADFF\n",
    "}\n",
    "p {\n",
    "    font-size: 14pt\n",
    "}\n",
    "code {\n",
    "    font-size: 14pt\n",
    "}\n",
    "</style>\n",
    "\n",
    "### __As a Mathematica List__"
   ]
  },
  {
   "cell_type": "markdown",
   "metadata": {},
   "source": [
    "<style>\n",
    "h1 {\n",
    "    font-size: 32pt;\n",
    "    color: #875BFF\n",
    "}\n",
    "h2 {\n",
    "    font-size: 24pt;\n",
    "    color: #5B82FF\n",
    "}\n",
    "h3 {\n",
    "    font-size: 20pt;\n",
    "    color: #93ADFF\n",
    "}\n",
    "p {\n",
    "    font-size: 14pt\n",
    "}\n",
    "code {\n",
    "    font-size: 14pt\n",
    "}\n",
    "</style>\n",
    "\n",
    "To request the components of a tensor as a Mathematica list, we can pass **mode=\"mathematica\"** as an argument to the `get_components()` method."
   ]
  },
  {
   "cell_type": "code",
   "execution_count": null,
   "metadata": {},
   "outputs": [
    {
     "name": "stdout",
     "output_type": "stream",
     "text": [
      "{t, x, y, z}\n",
      "{{-1, 0, 0, 0}, {0, 1, 0, 0}, {0, 0, r^2, 0}, {0, 0, 0, r^2*Sin[theta]^2}}\n"
     ]
    }
   ],
   "source": [
    "mathematica_coordinates = cartesian.get_components(mode=\"mathematica\")\n",
    "print(mathematica_coordinates)\n",
    "\n",
    "mathematica_minkowski = minkowski.get_components(coords=spherical, indices=(-1, -1), mode=\"mathematica\")\n",
    "print(mathematica_minkowski)"
   ]
  },
  {
   "cell_type": "markdown",
   "metadata": {},
   "source": [
    "<style>\n",
    "h1 {\n",
    "    font-size: 32pt;\n",
    "    color: #875BFF\n",
    "}\n",
    "h2 {\n",
    "    font-size: 24pt;\n",
    "    color: #5B82FF\n",
    "}\n",
    "h3 {\n",
    "    font-size: 20pt;\n",
    "    color: #93ADFF\n",
    "}\n",
    "p {\n",
    "    font-size: 14pt\n",
    "}\n",
    "code {\n",
    "    font-size: 14pt\n",
    "}\n",
    "</style>\n",
    "\n",
    "### __As a LaTex Expression__"
   ]
  },
  {
   "cell_type": "markdown",
   "metadata": {},
   "source": [
    "<style>\n",
    "h1 {\n",
    "    font-size: 32pt;\n",
    "    color: #875BFF\n",
    "}\n",
    "h2 {\n",
    "    font-size: 24pt;\n",
    "    color: #5B82FF\n",
    "}\n",
    "h3 {\n",
    "    font-size: 20pt;\n",
    "    color: #93ADFF\n",
    "}\n",
    "p {\n",
    "    font-size: 14pt\n",
    "}\n",
    "code {\n",
    "    font-size: 14pt\n",
    "}\n",
    "</style>\n",
    "\n",
    "Just as we did above, we can also pass **mode=\"latex\"** to get the components of a tensor as a LaTeX expression."
   ]
  },
  {
   "cell_type": "code",
   "execution_count": null,
   "metadata": {},
   "outputs": [
    {
     "name": "stdout",
     "output_type": "stream",
     "text": [
      "\\left(\\begin{matrix}t\\\\x\\\\y\\\\z\\end{matrix}\\right)\n",
      "\\left(\\begin{matrix}-1 & 0 & 0 & 0\\\\0 & 1 & 0 & 0\\\\0 & 0 & r^{2} & 0\\\\0 & 0 & 0 & r^{2} \\sin^{2}{\\left(\\theta \\right)}\\end{matrix}\\right)\n"
     ]
    }
   ],
   "source": [
    "latex_coordinates = cartesian.get_components(mode=\"latex\")\n",
    "print(latex_coordinates)\n",
    "\n",
    "latex_minkowski = minkowski.get_components(coords=spherical, indices=(-1, -1), mode=\"latex\")\n",
    "print(latex_minkowski)"
   ]
  },
  {
   "cell_type": "markdown",
   "metadata": {},
   "source": [
    "<style>\n",
    "h1 {\n",
    "    font-size: 32pt;\n",
    "    color: #875BFF\n",
    "}\n",
    "h2 {\n",
    "    font-size: 24pt;\n",
    "    color: #5B82FF\n",
    "}\n",
    "h3 {\n",
    "    font-size: 20pt;\n",
    "    color: #93ADFF\n",
    "}\n",
    "p {\n",
    "    font-size: 14pt\n",
    "}\n",
    "code {\n",
    "    font-size: 14pt\n",
    "}\n",
    "</style>\n",
    "\n",
    "## __Changing Defaults__"
   ]
  },
  {
   "cell_type": "markdown",
   "metadata": {},
   "source": [
    "<style>\n",
    "h1 {\n",
    "    font-size: 32pt;\n",
    "    color: #875BFF\n",
    "}\n",
    "h2 {\n",
    "    font-size: 24pt;\n",
    "    color: #5B82FF\n",
    "}\n",
    "h3 {\n",
    "    font-size: 20pt;\n",
    "    color: #93ADFF\n",
    "}\n",
    "p {\n",
    "    font-size: 14pt\n",
    "}\n",
    "code {\n",
    "    font-size: 14pt\n",
    "}\n",
    "</style>\n",
    "\n",
    "### __Setting the Index Letters__"
   ]
  },
  {
   "cell_type": "markdown",
   "metadata": {},
   "source": [
    "<style>\n",
    "h1 {\n",
    "    font-size: 32pt;\n",
    "    color: #875BFF\n",
    "}\n",
    "h2 {\n",
    "    font-size: 24pt;\n",
    "    color: #5B82FF\n",
    "}\n",
    "h3 {\n",
    "    font-size: 20pt;\n",
    "    color: #93ADFF\n",
    "}\n",
    "p {\n",
    "    font-size: 14pt\n",
    "}\n",
    "code {\n",
    "    font-size: 14pt\n",
    "}\n",
    "</style>\n",
    "\n",
    "By default, PyOGRe uses the Greek alphabet to label the indices of a tensor when displaying the components. In order to display the current letters used for the indices, or to change them, we can use the `set_index_letters()` function."
   ]
  },
  {
   "cell_type": "code",
   "execution_count": null,
   "metadata": {},
   "outputs": [
    {
     "name": "stdout",
     "output_type": "stream",
     "text": [
      "\n",
      "    This function will either print the existing index letters, or will overwrite them if an argument is given.\n",
      "\n",
      "    Supplying an argument of 'automatic' will set the index letters to the default.\n",
      "    Supplying an argument of 'greek' will set the index letters to the greek alphabet.\n",
      "    Supplying an argument of 'english' will set the index letters to the english alphabet.\n",
      "\n",
      "    Expects the argument 'letters' to be of the form 'a b c d...'.\n",
      "\n",
      "    >>> og.set_index_letters(\"i j k l m n o p\")\n",
      "    (i, j, k, l, m, n, o, p)\n",
      "\n",
      "    >>> og.set_index_letters(\"automatic\")\n",
      "    (a, b, c, d, e, f, g, h, i, j, k, l, m, n, o, p, q, r, s, t, u, v, w, x, y, z)\n",
      "    \n"
     ]
    }
   ],
   "source": [
    "print(og.set_index_letters.__doc__)"
   ]
  },
  {
   "cell_type": "code",
   "execution_count": null,
   "metadata": {},
   "outputs": [
    {
     "data": {
      "text/markdown": [
       "$\\left( a, \\  b, \\  c, \\  d, \\  e, \\  f, \\  g, \\  h, \\  i, \\  j, \\  k, \\  l, \\  m, \\  n, \\  o, \\  p, \\  q, \\  r, \\  s, \\  t, \\  u, \\  v, \\  w, \\  x, \\  y, \\  z\\right)$"
      ],
      "text/plain": [
       "<IPython.core.display.Markdown object>"
      ]
     },
     "metadata": {},
     "output_type": "display_data"
    },
    {
     "data": {
      "text/markdown": [
       "$\\left( a, \\  b, \\  c, \\  d, \\  e, \\  f, \\  g, \\  h, \\  i, \\  j, \\  k, \\  l, \\  m, \\  n, \\  o, \\  p\\right)$"
      ],
      "text/plain": [
       "<IPython.core.display.Markdown object>"
      ]
     },
     "metadata": {},
     "output_type": "display_data"
    },
    {
     "data": {
      "text/markdown": [
       "$\\left( \\mu, \\  \\nu, \\  \\rho, \\  \\sigma, \\  \\kappa, \\  \\lambda, \\  \\alpha, \\  \\beta, \\  \\gamma, \\  \\delta, \\  \\epsilon, \\  \\zeta, \\  \\theta, \\  \\iota, \\  \\xi, \\  \\pi, \\  \\tau, \\  \\phi, \\  \\chi, \\  \\psi, \\  \\omega\\right)$"
      ],
      "text/plain": [
       "<IPython.core.display.Markdown object>"
      ]
     },
     "metadata": {},
     "output_type": "display_data"
    },
    {
     "data": {
      "text/markdown": [
       "$\\left( a, \\  b, \\  c, \\  d, \\  e, \\  f, \\  g, \\  h, \\  i, \\  j, \\  k, \\  l, \\  m, \\  n, \\  o, \\  p, \\  q, \\  r, \\  s, \\  t, \\  u, \\  v, \\  w, \\  x, \\  y, \\  z\\right)$"
      ],
      "text/plain": [
       "<IPython.core.display.Markdown object>"
      ]
     },
     "metadata": {},
     "output_type": "display_data"
    }
   ],
   "source": [
    "og.set_index_letters()\n",
    "og.set_index_letters(\"a b c d e f g h i j k l m n o p\")\n",
    "og.set_index_letters(\"greek\")\n",
    "og.set_index_letters(\"automatic\")"
   ]
  },
  {
   "cell_type": "markdown",
   "metadata": {},
   "source": [
    "<style>\n",
    "h1 {\n",
    "    font-size: 32pt;\n",
    "    color: #875BFF\n",
    "}\n",
    "h2 {\n",
    "    font-size: 24pt;\n",
    "    color: #5B82FF\n",
    "}\n",
    "h3 {\n",
    "    font-size: 20pt;\n",
    "    color: #93ADFF\n",
    "}\n",
    "p {\n",
    "    font-size: 14pt\n",
    "}\n",
    "code {\n",
    "    font-size: 14pt\n",
    "}\n",
    "</style>\n",
    "\n",
    "### __Changing the Name of a Tensor__"
   ]
  },
  {
   "cell_type": "markdown",
   "metadata": {},
   "source": [
    "<style>\n",
    "h1 {\n",
    "    font-size: 32pt;\n",
    "    color: #875BFF\n",
    "}\n",
    "h2 {\n",
    "    font-size: 24pt;\n",
    "    color: #5B82FF\n",
    "}\n",
    "h3 {\n",
    "    font-size: 20pt;\n",
    "    color: #93ADFF\n",
    "}\n",
    "p {\n",
    "    font-size: 14pt\n",
    "}\n",
    "code {\n",
    "    font-size: 14pt\n",
    "}\n",
    "</style>\n",
    "\n",
    "If we would like to change the name of a tensor, we can call the `change_name()` method. "
   ]
  },
  {
   "cell_type": "code",
   "execution_count": null,
   "metadata": {},
   "outputs": [
    {
     "data": {
      "text/markdown": [
       "<div align=left style='font-size:16pt; margin-bottom:12pt'> \n",
       "\n",
       "Four Velocity:\n",
       "\n",
       " </div><div align=left style='font-size:12pt'> \n",
       "\n",
       "__Name:__ Four Velocity\n",
       "\n",
       "__Symbol:__ $u$\n",
       "\n",
       "__Type:__ Tensor\n",
       "\n",
       "__Rank:__ 1\n",
       "\n",
       "__Metric:__ Minkowski\n",
       "\n",
       "__Default Coordinates:__ Cartesian\n",
       "\n",
       "__Default Indices:__ (1,)\n",
       "\n",
       " </div>"
      ],
      "text/plain": [
       "<IPython.core.display.Markdown object>"
      ]
     },
     "metadata": {},
     "output_type": "display_data"
    }
   ],
   "source": [
    "four_velocity.change_name(\"Four Velocity\")\n",
    "four_velocity.info()"
   ]
  },
  {
   "cell_type": "markdown",
   "metadata": {},
   "source": [
    "<style>\n",
    "h1 {\n",
    "    font-size: 32pt;\n",
    "    color: #875BFF\n",
    "}\n",
    "h2 {\n",
    "    font-size: 24pt;\n",
    "    color: #5B82FF\n",
    "}\n",
    "h3 {\n",
    "    font-size: 20pt;\n",
    "    color: #93ADFF\n",
    "}\n",
    "p {\n",
    "    font-size: 14pt\n",
    "}\n",
    "code {\n",
    "    font-size: 14pt\n",
    "}\n",
    "</style>\n",
    "\n",
    "### __Changing the Tensor Symbol__"
   ]
  },
  {
   "cell_type": "markdown",
   "metadata": {},
   "source": [
    "<style>\n",
    "h1 {\n",
    "    font-size: 32pt;\n",
    "    color: #875BFF\n",
    "}\n",
    "h2 {\n",
    "    font-size: 24pt;\n",
    "    color: #5B82FF\n",
    "}\n",
    "h3 {\n",
    "    font-size: 20pt;\n",
    "    color: #93ADFF\n",
    "}\n",
    "p {\n",
    "    font-size: 14pt\n",
    "}\n",
    "code {\n",
    "    font-size: 14pt\n",
    "}\n",
    "</style>\n",
    "\n",
    "Similarly, we can change the symbol used to represent the tensor by calling the `change_symbol()` method."
   ]
  },
  {
   "cell_type": "code",
   "execution_count": null,
   "metadata": {},
   "outputs": [
    {
     "data": {
      "text/markdown": [
       "<div align=center style='font-size:16pt;margin-bottom:12pt'> \n",
       "\n",
       "Kretschmann:\n",
       "\n",
       " </div><div align=center style='font-size:14pt'> \n",
       "\n",
       " $$K\\left(t, r, \\theta, \\phi\\right) =\\frac{48 M^{2}}{r^{6}}$$ \n",
       "\n",
       " </div>"
      ],
      "text/plain": [
       "<IPython.core.display.Markdown object>"
      ]
     },
     "metadata": {},
     "output_type": "display_data"
    }
   ],
   "source": [
    "kretschmann.change_symbol(\"K\")\n",
    "kretschmann.show()"
   ]
  },
  {
   "cell_type": "markdown",
   "metadata": {},
   "source": [
    "<style>\n",
    "h1 {\n",
    "    font-size: 32pt;\n",
    "    color: #875BFF\n",
    "}\n",
    "h2 {\n",
    "    font-size: 24pt;\n",
    "    color: #5B82FF\n",
    "}\n",
    "h3 {\n",
    "    font-size: 20pt;\n",
    "    color: #93ADFF\n",
    "}\n",
    "p {\n",
    "    font-size: 14pt\n",
    "}\n",
    "code {\n",
    "    font-size: 14pt\n",
    "}\n",
    "</style>\n",
    "\n",
    "### __Changing the Default Indices__"
   ]
  },
  {
   "cell_type": "markdown",
   "metadata": {},
   "source": [
    "<style>\n",
    "h1 {\n",
    "    font-size: 32pt;\n",
    "    color: #875BFF\n",
    "}\n",
    "h2 {\n",
    "    font-size: 24pt;\n",
    "    color: #5B82FF\n",
    "}\n",
    "h3 {\n",
    "    font-size: 20pt;\n",
    "    color: #93ADFF\n",
    "}\n",
    "p {\n",
    "    font-size: 14pt\n",
    "}\n",
    "code {\n",
    "    font-size: 14pt\n",
    "}\n",
    "</style>\n",
    "\n",
    "When we define a tensor in PyOGRe, PyOGRe automatically takes the supplied index configuration as the **default index configuration**. This will be the index confuration used when `list()` or `show()` are called without specifying the **indices** argument. If we would like to change the default index configuration, we can call the `change_default_indices()` method."
   ]
  },
  {
   "cell_type": "code",
   "execution_count": null,
   "metadata": {},
   "outputs": [
    {
     "data": {
      "text/markdown": [
       "<div align=center style='font-size:16pt;margin-bottom:12pt'> \n",
       "\n",
       "Four Velocity:\n",
       "\n",
       " </div><div align=center style='font-size:14pt'> \n",
       "\n",
       " $$ \n",
       "\\begin{aligned} \n",
       "u_{t}{ } &= - \\frac{1}{\\sqrt{1 - v^{2}}}\\\\[10pt]u_{x}{ } &= \\frac{v}{\\sqrt{1 - v^{2}}}\n",
       " \\end{aligned} \n",
       " $$ \n",
       "\n",
       " </div>"
      ],
      "text/plain": [
       "<IPython.core.display.Markdown object>"
      ]
     },
     "metadata": {},
     "output_type": "display_data"
    }
   ],
   "source": [
    "four_velocity.change_default_indices(indices=(-1,))\n",
    "four_velocity.list()"
   ]
  },
  {
   "cell_type": "markdown",
   "metadata": {},
   "source": [
    "<style>\n",
    "h1 {\n",
    "    font-size: 32pt;\n",
    "    color: #875BFF\n",
    "}\n",
    "h2 {\n",
    "    font-size: 24pt;\n",
    "    color: #5B82FF\n",
    "}\n",
    "h3 {\n",
    "    font-size: 20pt;\n",
    "    color: #93ADFF\n",
    "}\n",
    "p {\n",
    "    font-size: 14pt\n",
    "}\n",
    "code {\n",
    "    font-size: 14pt\n",
    "}\n",
    "</style>\n",
    "\n",
    "### __Changing the Default Coordinates__"
   ]
  },
  {
   "cell_type": "markdown",
   "metadata": {},
   "source": [
    "<style>\n",
    "h1 {\n",
    "    font-size: 32pt;\n",
    "    color: #875BFF\n",
    "}\n",
    "h2 {\n",
    "    font-size: 24pt;\n",
    "    color: #5B82FF\n",
    "}\n",
    "h3 {\n",
    "    font-size: 20pt;\n",
    "    color: #93ADFF\n",
    "}\n",
    "p {\n",
    "    font-size: 14pt\n",
    "}\n",
    "code {\n",
    "    font-size: 14pt\n",
    "}\n",
    "</style>\n",
    "\n",
    "Similarly to the default index configuration, the coordinates used to define a tensor become the tensor's **default coordinates**, and just like before we can change the default coordinates by calling the `change_default_coords()` method. If the tensor cannot be transformed to the new coordinates though, this method will fail."
   ]
  },
  {
   "cell_type": "code",
   "execution_count": null,
   "metadata": {},
   "outputs": [
    {
     "data": {
      "text/markdown": [
       "<div align=center style='font-size:16pt;margin-bottom:12pt'> \n",
       "\n",
       "Four Velocity:\n",
       "\n",
       " </div><div align=center style='font-size:14pt'> \n",
       "\n",
       " $$ \n",
       "\\begin{aligned} \n",
       "u_{t}{ } &= - \\frac{1}{\\sqrt{1 - v^{2}}}\\\\[10pt]u_{r}{ } &= \\frac{v \\sin{\\left(\\theta \\right)} \\cos{\\left(\\phi \\right)}}{\\sqrt{1 - v^{2}}}\\\\[10pt]u_{\\theta}{ } &= \\frac{r v \\cos{\\left(\\phi \\right)} \\cos{\\left(\\theta \\right)}}{\\sqrt{1 - v^{2}}}\\\\[10pt]u_{\\phi}{ } &= - \\frac{r v \\sin{\\left(\\phi \\right)} \\sin{\\left(\\theta \\right)}}{\\sqrt{1 - v^{2}}}\n",
       " \\end{aligned} \n",
       " $$ \n",
       "\n",
       " </div>"
      ],
      "text/plain": [
       "<IPython.core.display.Markdown object>"
      ]
     },
     "metadata": {},
     "output_type": "display_data"
    }
   ],
   "source": [
    "four_velocity.change_default_coords(coords=spherical)\n",
    "four_velocity.list()"
   ]
  },
  {
   "cell_type": "code",
   "execution_count": null,
   "metadata": {},
   "outputs": [
    {
     "data": {
      "text/markdown": [
       "<div align=center style='font-size:16pt;margin-bottom:12pt'> \n",
       "\n",
       "Four Velocity:\n",
       "\n",
       " </div><div align=center style='font-size:14pt'> \n",
       "\n",
       " $$u_{a}{ }\\left(t, x, y, z\\right) =\\left(\\begin{matrix}- \\frac{1}{\\sqrt{1 - v^{2}}}\\\\[1em]\\frac{v}{\\sqrt{1 - v^{2}}}\\\\[1em]0\\\\[1em]0\\end{matrix}\\right)$$ \n",
       "\n",
       " </div>"
      ],
      "text/plain": [
       "<IPython.core.display.Markdown object>"
      ]
     },
     "metadata": {},
     "output_type": "display_data"
    }
   ],
   "source": [
    "four_velocity.change_default_coords(coords=cartesian).show()"
   ]
  },
  {
   "cell_type": "markdown",
   "metadata": {},
   "source": [
    "<style>\n",
    "h1 {\n",
    "    font-size: 32pt;\n",
    "    color: #875BFF\n",
    "}\n",
    "h2 {\n",
    "    font-size: 24pt;\n",
    "    color: #5B82FF\n",
    "}\n",
    "h3 {\n",
    "    font-size: 20pt;\n",
    "    color: #93ADFF\n",
    "}\n",
    "p {\n",
    "    font-size: 14pt\n",
    "}\n",
    "code {\n",
    "    font-size: 14pt\n",
    "}\n",
    "</style>\n",
    "\n",
    "## __Deleting PyOGRe Objects__\n"
   ]
  },
  {
   "cell_type": "markdown",
   "metadata": {},
   "source": [
    "<style>\n",
    "h1 {\n",
    "    font-size: 32pt;\n",
    "    color: #875BFF\n",
    "}\n",
    "h2 {\n",
    "    font-size: 24pt;\n",
    "    color: #5B82FF\n",
    "}\n",
    "h3 {\n",
    "    font-size: 20pt;\n",
    "    color: #93ADFF\n",
    "}\n",
    "p {\n",
    "    font-size: 14pt\n",
    "}\n",
    "code {\n",
    "    font-size: 14pt\n",
    "}\n",
    "</style>\n",
    "\n",
    "We can delete PyOGRe objects by calling the `delete()` method. This method will remove the object from the PyOGRe workspace only if the tensor being deleted is not used in the definition of any other tensor, for example as a coordinate system. As an example, we can create a temporary coordinate system. We can then delete it without error because we have not created any metrics or tensors that depend on this new coordinate system."
   ]
  },
  {
   "cell_type": "code",
   "execution_count": null,
   "metadata": {},
   "outputs": [
    {
     "data": {
      "text/markdown": [
       "<div align=left style='font-size:16pt; margin-bottom:12pt'> \n",
       "\n",
       "__I was a mistake:__\n",
       "\n",
       " </div><div align=left style='font-size:14pt'> \n",
       "\n",
       "Successfully Deleted\n",
       "\n",
       " </div>"
      ],
      "text/plain": [
       "<IPython.core.display.Markdown object>"
      ]
     },
     "metadata": {},
     "output_type": "display_data"
    }
   ],
   "source": [
    "bad_coordinates = og.new_coordinates(\n",
    "    name=\"I was a mistake\",\n",
    "    components=cartesian_symbols\n",
    ")\n",
    "\n",
    "bad_coordinates.delete()"
   ]
  },
  {
   "cell_type": "markdown",
   "metadata": {},
   "source": [
    "<style>\n",
    "h1 {\n",
    "    font-size: 32pt;\n",
    "    color: #875BFF\n",
    "}\n",
    "h2 {\n",
    "    font-size: 24pt;\n",
    "    color: #5B82FF\n",
    "}\n",
    "h3 {\n",
    "    font-size: 20pt;\n",
    "    color: #93ADFF\n",
    "}\n",
    "p {\n",
    "    font-size: 14pt\n",
    "}\n",
    "code {\n",
    "    font-size: 14pt\n",
    "}\n",
    "</style>\n",
    "\n",
    "## __Retrieving All Tensor Objects__"
   ]
  },
  {
   "cell_type": "markdown",
   "metadata": {},
   "source": [
    "<style>\n",
    "h1 {\n",
    "    font-size: 32pt;\n",
    "    color: #875BFF\n",
    "}\n",
    "h2 {\n",
    "    font-size: 24pt;\n",
    "    color: #5B82FF\n",
    "}\n",
    "h3 {\n",
    "    font-size: 20pt;\n",
    "    color: #93ADFF\n",
    "}\n",
    "p {\n",
    "    font-size: 14pt\n",
    "}\n",
    "code {\n",
    "    font-size: 14pt\n",
    "}\n",
    "</style>\n",
    "\n",
    "To get a list of all currently defined PyOGRe objects, we can use the `get_instances()` function. Calling this function will return a list of all tensors."
   ]
  },
  {
   "cell_type": "code",
   "execution_count": null,
   "metadata": {},
   "outputs": [
    {
     "data": {
      "text/plain": [
       "[Cartesian,\n",
       " Spherical,\n",
       " Minkowski,\n",
       " Schwarzschild,\n",
       " 4D Cartesian,\n",
       " 4D Spherical,\n",
       " 4D Minkowski,\n",
       " Schwarzschild,\n",
       " FLRW,\n",
       " Kretschmann,\n",
       " Four Velocity,\n",
       " Perfect Fluid]"
      ]
     },
     "execution_count": 44,
     "metadata": {},
     "output_type": "execute_result"
    }
   ],
   "source": [
    "og.get_instances()"
   ]
  },
  {
   "cell_type": "markdown",
   "metadata": {},
   "source": [
    "<style>\n",
    "h1 {\n",
    "    font-size: 32pt;\n",
    "    color: #875BFF\n",
    "}\n",
    "h2 {\n",
    "    font-size: 24pt;\n",
    "    color: #5B82FF\n",
    "}\n",
    "h3 {\n",
    "    font-size: 20pt;\n",
    "    color: #93ADFF\n",
    "}\n",
    "p {\n",
    "    font-size: 14pt\n",
    "}\n",
    "code {\n",
    "    font-size: 14pt\n",
    "}\n",
    "</style>\n",
    "\n",
    "## __Cleaning Up Result Tensors__"
   ]
  },
  {
   "cell_type": "markdown",
   "metadata": {},
   "source": [
    "<style>\n",
    "h1 {\n",
    "    font-size: 32pt;\n",
    "    color: #875BFF\n",
    "}\n",
    "h2 {\n",
    "    font-size: 24pt;\n",
    "    color: #5B82FF\n",
    "}\n",
    "h3 {\n",
    "    font-size: 20pt;\n",
    "    color: #93ADFF\n",
    "}\n",
    "p {\n",
    "    font-size: 14pt\n",
    "}\n",
    "code {\n",
    "    font-size: 14pt\n",
    "}\n",
    "</style>\n",
    "\n",
    "As we will see later, any tensors created from calculations in PyOGRe will by default get named \"Result\". Should we like to delete any such tensors, we can use the `delete_results()` function."
   ]
  },
  {
   "cell_type": "code",
   "execution_count": null,
   "metadata": {},
   "outputs": [
    {
     "data": {
      "text/markdown": [
       "<div align=left style='font-size:14pt; margin-bottom:12pt'> \n",
       "\n",
       "Deleted 0 tensor(s) named 'Result'.\n",
       "\n",
       " </div>"
      ],
      "text/plain": [
       "<IPython.core.display.Markdown object>"
      ]
     },
     "metadata": {},
     "output_type": "display_data"
    },
    {
     "data": {
      "text/plain": [
       "[Cartesian,\n",
       " Spherical,\n",
       " Minkowski,\n",
       " Schwarzschild,\n",
       " 4D Cartesian,\n",
       " 4D Spherical,\n",
       " 4D Minkowski,\n",
       " Schwarzschild,\n",
       " FLRW,\n",
       " Kretschmann,\n",
       " Four Velocity,\n",
       " Perfect Fluid]"
      ]
     },
     "metadata": {},
     "output_type": "display_data"
    }
   ],
   "source": [
    "og.delete_results()\n",
    "display(og.get_instances())"
   ]
  },
  {
   "cell_type": "markdown",
   "metadata": {},
   "source": [
    "<style>\n",
    "h1 {\n",
    "    font-size: 32pt;\n",
    "    color: #875BFF\n",
    "}\n",
    "h2 {\n",
    "    font-size: 24pt;\n",
    "    color: #5B82FF\n",
    "}\n",
    "h3 {\n",
    "    font-size: 20pt;\n",
    "    color: #93ADFF\n",
    "}\n",
    "p {\n",
    "    font-size: 14pt\n",
    "}\n",
    "code {\n",
    "    font-size: 14pt\n",
    "}\n",
    "</style>\n",
    "\n",
    "# __Importing and Exporting Tensors__"
   ]
  },
  {
   "cell_type": "markdown",
   "metadata": {},
   "source": [
    "<style>\n",
    "h1 {\n",
    "    font-size: 32pt;\n",
    "    color: #875BFF\n",
    "}\n",
    "h2 {\n",
    "    font-size: 24pt;\n",
    "    color: #5B82FF\n",
    "}\n",
    "h3 {\n",
    "    font-size: 20pt;\n",
    "    color: #93ADFF\n",
    "}\n",
    "p {\n",
    "    font-size: 14pt\n",
    "}\n",
    "code {\n",
    "    font-size: 14pt\n",
    "}\n",
    "</style>\n",
    "\n",
    "## __Exporting__"
   ]
  },
  {
   "cell_type": "markdown",
   "metadata": {},
   "source": [
    "<style>\n",
    "h1 {\n",
    "    font-size: 32pt;\n",
    "    color: #875BFF\n",
    "}\n",
    "h2 {\n",
    "    font-size: 24pt;\n",
    "    color: #5B82FF\n",
    "}\n",
    "h3 {\n",
    "    font-size: 20pt;\n",
    "    color: #93ADFF\n",
    "}\n",
    "p {\n",
    "    font-size: 14pt\n",
    "}\n",
    "code {\n",
    "    font-size: 14pt\n",
    "}\n",
    "</style>\n",
    "\n",
    "A key feature of PyOGRe is the ability to import and export tensors, and specifically import and export tensors between the Mathematica and Python versions of OGRe. To start, any tensor in PyOGRe can be exported by calling the `export()` method. This method will return a string which can later be used to import the tensor in either version of OGRe, or should you wish to export it to a file you can supply a filepath as an argument."
   ]
  },
  {
   "cell_type": "code",
   "execution_count": null,
   "metadata": {},
   "outputs": [],
   "source": [
    "# print(minkowski.export())"
   ]
  },
  {
   "cell_type": "code",
   "execution_count": null,
   "metadata": {},
   "outputs": [
    {
     "data": {
      "text/markdown": [
       "<div align=left style='font-size:12pt'> \n",
       "\n",
       "Exported Cartesian to cartesian.txt\n",
       "\n",
       " </div>"
      ],
      "text/plain": [
       "<IPython.core.display.Markdown object>"
      ]
     },
     "metadata": {},
     "output_type": "display_data"
    }
   ],
   "source": [
    "cartesian.export(\"cartesian.txt\")"
   ]
  },
  {
   "cell_type": "markdown",
   "metadata": {},
   "source": [
    "<style>\n",
    "h1 {\n",
    "    font-size: 32pt;\n",
    "    color: #875BFF\n",
    "}\n",
    "h2 {\n",
    "    font-size: 24pt;\n",
    "    color: #5B82FF\n",
    "}\n",
    "h3 {\n",
    "    font-size: 20pt;\n",
    "    color: #93ADFF\n",
    "}\n",
    "p {\n",
    "    font-size: 14pt\n",
    "}\n",
    "code {\n",
    "    font-size: 14pt\n",
    "}\n",
    "</style>\n",
    "\n",
    "If we instead wanted to export **all** tensors currently available, we can use the `export_all()` function. Just like the `export()` method, this function will return a string which can later be used to import the tensors in either version of OGRe, or should you wish to export it to a file you can supply a filepath as an argument."
   ]
  },
  {
   "cell_type": "code",
   "execution_count": null,
   "metadata": {},
   "outputs": [],
   "source": [
    "# print(og.export_all())"
   ]
  },
  {
   "cell_type": "code",
   "execution_count": null,
   "metadata": {},
   "outputs": [
    {
     "data": {
      "text/markdown": [
       "<div align=left style='font-size:14pt'> \n",
       "\n",
       "Exported all tensors to tensors.txt\n",
       "\n",
       " </div>"
      ],
      "text/plain": [
       "<IPython.core.display.Markdown object>"
      ]
     },
     "metadata": {},
     "output_type": "display_data"
    }
   ],
   "source": [
    "og.export_all(\"tensors.txt\")"
   ]
  },
  {
   "cell_type": "markdown",
   "metadata": {},
   "source": [
    "<style>\n",
    "h1 {\n",
    "    font-size: 32pt;\n",
    "    color: #875BFF\n",
    "}\n",
    "h2 {\n",
    "    font-size: 24pt;\n",
    "    color: #5B82FF\n",
    "}\n",
    "h3 {\n",
    "    font-size: 20pt;\n",
    "    color: #93ADFF\n",
    "}\n",
    "p {\n",
    "    font-size: 14pt\n",
    "}\n",
    "code {\n",
    "    font-size: 14pt\n",
    "}\n",
    "</style>\n",
    "\n",
    "## __Importing__"
   ]
  },
  {
   "cell_type": "markdown",
   "metadata": {},
   "source": [
    "<style>\n",
    "h1 {\n",
    "    font-size: 32pt;\n",
    "    color: #875BFF\n",
    "}\n",
    "h2 {\n",
    "    font-size: 24pt;\n",
    "    color: #5B82FF\n",
    "}\n",
    "h3 {\n",
    "    font-size: 20pt;\n",
    "    color: #93ADFF\n",
    "}\n",
    "p {\n",
    "    font-size: 14pt\n",
    "}\n",
    "code {\n",
    "    font-size: 14pt\n",
    "}\n",
    "</style>\n",
    "\n",
    "Given a string containing a tensor obtained either from exporting a tensor in PyOGRe or in OGRe, we can import it by calling the `import_from_string()` function. The function will simply return the new PyOGRe object."
   ]
  },
  {
   "cell_type": "code",
   "execution_count": null,
   "metadata": {},
   "outputs": [
    {
     "data": {
      "text/markdown": [
       "<div align=left style='font-size:16pt; margin-bottom:12pt'> \n",
       "\n",
       "Imported Minkowski:\n",
       "\n",
       " </div><div align=left style='font-size:12pt'> \n",
       "\n",
       "__Name:__ Imported Minkowski\n",
       "\n",
       "__Symbol:__ $g$\n",
       "\n",
       "__Type:__ Metric\n",
       "\n",
       "__Rank:__ 2\n",
       "\n",
       "__Default Coordinates:__ Cartesian\n",
       "\n",
       "__Default Indices:__ (-1, -1)\n",
       "\n",
       "__Tensors Using This Metric:__ Imported Minkowski\n",
       "\n",
       " </div>"
      ],
      "text/plain": [
       "<IPython.core.display.Markdown object>"
      ]
     },
     "metadata": {},
     "output_type": "display_data"
    }
   ],
   "source": [
    "og.import_from_string(\n",
    "'<|\"Imported Minkowski\"-><|\"Components\"-><|{{-1,-1},\"Cartesian\"}->{{-1, 0, 0, 0}, {0, 1, 0, 0}, {0, 0, 1, 0}, {0, 0, 0, 1}},{{1,-1},\"Cartesian\"}->{{1, 0, 0, 0}, {0, 1, 0, 0}, {0, 0, 1, 0}, {0, 0, 0, 1}},{{-1,1},\"Cartesian\"}->{{1, 0, 0, 0}, {0, 1, 0, 0}, {0, 0, 1, 0}, {0, 0, 0, 1}},{{1,1},\"Cartesian\"}->{{-1, 0, 0, 0}, {0, 1, 0, 0}, {0, 0, 1, 0}, {0, 0, 0, 1}},{{-1,-1},\"Spherical\"}->{{-1, 0, 0, 0}, {0, 1, 0, 0}, {0, 0, r^2, 0}, {0, 0, 0, r^2*Sin[theta]^2}},{{1,1},\"Spherical\"}->{{-1, 0, 0, 0}, {0, 1, 0, 0}, {0, 0, r^(-2), 0}, {0, 0, 0, 1/(r^2*Sin[theta]^2)}},{{-1,1},\"Spherical\"}->{{1, 0, 0, 0}, {0, 1, 0, 0}, {0, 0, 1, 0}, {0, 0, 0, 1}},{{1,-1},\"Spherical\"}->{{1, 0, 0, 0}, {0, 1, 0, 0}, {0, 0, 1, 0}, {0, 0, 0, 1}}|>,\"DefaultCoords\"->\"Cartesian\",\"DefaultIndices\"->{-1, -1},\"Role\"->\"Metric\",\"Symbol\"->g,\"Metric\"->\"Minkowski\",\"OGReVersion\"->\"PyOGRe v0.0.1\"|>|>'\n",
    ").info()"
   ]
  },
  {
   "cell_type": "markdown",
   "metadata": {},
   "source": [
    "<style>\n",
    "h1 {\n",
    "    font-size: 32pt;\n",
    "    color: #875BFF\n",
    "}\n",
    "h2 {\n",
    "    font-size: 24pt;\n",
    "    color: #5B82FF\n",
    "}\n",
    "h3 {\n",
    "    font-size: 20pt;\n",
    "    color: #93ADFF\n",
    "}\n",
    "p {\n",
    "    font-size: 14pt\n",
    "}\n",
    "code {\n",
    "    font-size: 14pt\n",
    "}\n",
    "</style>\n",
    "\n",
    "To import a tensor from a file containing a tensor, we can call the `import_from_file()` function. Just as before, the function will simply return the newly imported tensor object."
   ]
  },
  {
   "cell_type": "code",
   "execution_count": null,
   "metadata": {},
   "outputs": [
    {
     "data": {
      "text/markdown": [
       "<div align=center style='font-size:16pt;margin-bottom:14pt'> \n",
       "\n",
       "Imported Cartesian:\n",
       "\n",
       " </div><div align=center style='font-size:14pt'> \n",
       "\n",
       " $$x^{a}{ } = \\left(\\begin{matrix}t\\\\x\\\\y\\\\z\\end{matrix}\\right)$$ \n",
       "\n",
       " </div>"
      ],
      "text/plain": [
       "<IPython.core.display.Markdown object>"
      ]
     },
     "metadata": {},
     "output_type": "display_data"
    }
   ],
   "source": [
    "og.import_from_file(\"cartesian.txt\").change_name(\"Imported Cartesian\").show()"
   ]
  },
  {
   "cell_type": "markdown",
   "metadata": {},
   "source": [
    "<style>\n",
    "h1 {\n",
    "    font-size: 32pt;\n",
    "    color: #875BFF\n",
    "}\n",
    "h2 {\n",
    "    font-size: 24pt;\n",
    "    color: #5B82FF\n",
    "}\n",
    "h3 {\n",
    "    font-size: 20pt;\n",
    "    color: #93ADFF\n",
    "}\n",
    "p {\n",
    "    font-size: 14pt\n",
    "}\n",
    "code {\n",
    "    font-size: 14pt\n",
    "}\n",
    "</style>\n",
    "\n",
    "If we would instead like to import all tensors from a file or string, we can use either the `import_all_from_file()` or `import_all_from_string` functions respectively. These functions will return a list of all tensors imported from the file or string, but be warned, they will also **delete all current tensors** that are currently available."
   ]
  },
  {
   "cell_type": "code",
   "execution_count": null,
   "metadata": {},
   "outputs": [],
   "source": [
    "# tensors_list = og.import_all_from_file(\"tensors.txt\")"
   ]
  },
  {
   "cell_type": "markdown",
   "metadata": {},
   "source": [
    "<style>\n",
    "h1 {\n",
    "    font-size: 32pt;\n",
    "    color: #875BFF\n",
    "}\n",
    "h2 {\n",
    "    font-size: 24pt;\n",
    "    color: #5B82FF\n",
    "}\n",
    "h3 {\n",
    "    font-size: 20pt;\n",
    "    color: #93ADFF\n",
    "}\n",
    "p {\n",
    "    font-size: 14pt\n",
    "}\n",
    "code {\n",
    "    font-size: 14pt\n",
    "}\n",
    "</style>\n",
    "\n",
    "# __Built-in Tensors__"
   ]
  },
  {
   "cell_type": "markdown",
   "metadata": {},
   "source": [
    "<style>\n",
    "h1 {\n",
    "    font-size: 32pt;\n",
    "    color: #875BFF\n",
    "}\n",
    "h2 {\n",
    "    font-size: 24pt;\n",
    "    color: #5B82FF\n",
    "}\n",
    "h3 {\n",
    "    font-size: 20pt;\n",
    "    color: #93ADFF\n",
    "}\n",
    "p {\n",
    "    font-size: 14pt\n",
    "}\n",
    "code {\n",
    "    font-size: 14pt\n",
    "}\n",
    "li:not(:last-child) {\n",
    "    margin-bottom: 1em\n",
    "}\n",
    "</style>\n",
    "\n",
    "PyOGRe by default includes some common coordinates and metrics which can simply be imported for use. Currently, these are:\n",
    "\n",
    "- $3+1$ Cartesian coordinates $(t, x, y, z)$\n",
    "- $3+1$ Spherical coordinates $(t, r, \\theta, \\phi)$\n",
    "- The Minkowski metric with signature $(-, +, +, +)$\n",
    "- The Schwarzschild metric\n",
    "- The Friedmann–Lemaître–Robertson–Walker (FLRW) metric\n",
    "\n",
    "Note: The Cartesian and Spherical coordinates systems already have the coordinate transformations defined in both directions."
   ]
  },
  {
   "cell_type": "code",
   "execution_count": null,
   "metadata": {},
   "outputs": [],
   "source": [
    "from PyOGRe.Defaults import cartesian as default_cartesian\n",
    "from PyOGRe.Defaults import spherical as default_spherical\n",
    "from PyOGRe.Defaults import minkowski as default_minkowski\n",
    "from PyOGRe.Defaults import schwarzschild as default_schwarzschild\n",
    "from PyOGRe.Defaults import flrw as default_flrw"
   ]
  },
  {
   "cell_type": "code",
   "execution_count": null,
   "metadata": {},
   "outputs": [
    {
     "data": {
      "text/markdown": [
       "<div align=center style='font-size:16pt;margin-bottom:14pt'> \n",
       "\n",
       "4D Cartesian:\n",
       "\n",
       " </div><div align=center style='font-size:14pt'> \n",
       "\n",
       " $$x^{a}{ } = \\left(\\begin{matrix}t\\\\x\\\\y\\\\z\\end{matrix}\\right)$$ \n",
       "\n",
       " </div>"
      ],
      "text/plain": [
       "<IPython.core.display.Markdown object>"
      ]
     },
     "metadata": {},
     "output_type": "display_data"
    },
    {
     "data": {
      "text/markdown": [
       "<div align=center style='font-size:16pt;margin-bottom:14pt'> \n",
       "\n",
       "4D Spherical:\n",
       "\n",
       " </div><div align=center style='font-size:14pt'> \n",
       "\n",
       " $$x^{a}{ } = \\left(\\begin{matrix}t\\\\r\\\\\\theta\\\\\\phi\\end{matrix}\\right)$$ \n",
       "\n",
       " </div>"
      ],
      "text/plain": [
       "<IPython.core.display.Markdown object>"
      ]
     },
     "metadata": {},
     "output_type": "display_data"
    },
    {
     "data": {
      "text/markdown": [
       "<div align=center style='font-size:16pt;margin-bottom:12pt'> \n",
       "\n",
       "4D Minkowski:\n",
       "\n",
       " </div><div align=center style='font-size:14pt'> \n",
       "\n",
       " $$g_{a}{ }_{b}{ }\\left(t, x, y, z\\right) =\\left(\\begin{matrix}-1 & 0 & 0 & 0\\\\0 & 1 & 0 & 0\\\\0 & 0 & 1 & 0\\\\0 & 0 & 0 & 1\\end{matrix}\\right)$$ \n",
       "\n",
       " </div>"
      ],
      "text/plain": [
       "<IPython.core.display.Markdown object>"
      ]
     },
     "metadata": {},
     "output_type": "display_data"
    },
    {
     "data": {
      "text/markdown": [
       "<div align=center style='font-size:16pt;margin-bottom:12pt'> \n",
       "\n",
       "Schwarzschild:\n",
       "\n",
       " </div><div align=center style='font-size:14pt'> \n",
       "\n",
       " $$g_{a}{ }_{b}{ }\\left(t, r, \\theta, \\phi\\right) =\\left(\\begin{matrix}\\frac{2 M}{r} - 1 & 0 & 0 & 0\\\\[1em]0 & \\frac{1}{- \\frac{2 M}{r} + 1} & 0 & 0\\\\[1em]0 & 0 & r^{2} & 0\\\\[1em]0 & 0 & 0 & r^{2} \\sin^{2}{\\left(\\theta \\right)}\\end{matrix}\\right)$$ \n",
       "\n",
       " </div>"
      ],
      "text/plain": [
       "<IPython.core.display.Markdown object>"
      ]
     },
     "metadata": {},
     "output_type": "display_data"
    },
    {
     "data": {
      "text/markdown": [
       "<div align=center style='font-size:16pt;margin-bottom:12pt'> \n",
       "\n",
       "FLRW:\n",
       "\n",
       " </div><div align=center style='font-size:14pt'> \n",
       "\n",
       " $$g_{a}{ }_{b}{ }\\left(t, r, \\theta, \\phi\\right) =\\left(\\begin{matrix}-1 & 0 & 0 & 0\\\\[1em]0 & \\frac{a^{2}{\\left(t \\right)}}{- k r^{2} + 1} & 0 & 0\\\\[1em]0 & 0 & r^{2} a^{2}{\\left(t \\right)} & 0\\\\[1em]0 & 0 & 0 & r^{2} a^{2}{\\left(t \\right)} \\sin^{2}{\\left(\\theta \\right)}\\end{matrix}\\right)$$ \n",
       "\n",
       " </div>"
      ],
      "text/plain": [
       "<IPython.core.display.Markdown object>"
      ]
     },
     "metadata": {},
     "output_type": "display_data"
    }
   ],
   "source": [
    "default_cartesian.show()\n",
    "default_spherical.show()\n",
    "default_minkowski.show()\n",
    "default_schwarzschild.show()\n",
    "default_flrw.show()"
   ]
  },
  {
   "cell_type": "markdown",
   "metadata": {},
   "source": [
    "<style>\n",
    "h1 {\n",
    "    font-size: 32pt;\n",
    "    color: #875BFF\n",
    "}\n",
    "h2 {\n",
    "    font-size: 24pt;\n",
    "    color: #5B82FF\n",
    "}\n",
    "h3 {\n",
    "    font-size: 20pt;\n",
    "    color: #93ADFF\n",
    "}\n",
    "p {\n",
    "    font-size: 14pt\n",
    "}\n",
    "code {\n",
    "    font-size: 14pt\n",
    "}\n",
    "</style>\n",
    "\n",
    "# __Performing Tensor Calculations__"
   ]
  },
  {
   "cell_type": "markdown",
   "metadata": {},
   "source": [
    "<style>\n",
    "h1 {\n",
    "    font-size: 32pt;\n",
    "    color: #875BFF\n",
    "}\n",
    "h2 {\n",
    "    font-size: 24pt;\n",
    "    color: #5B82FF\n",
    "}\n",
    "h3 {\n",
    "    font-size: 20pt;\n",
    "    color: #93ADFF\n",
    "}\n",
    "p {\n",
    "    font-size: 14pt\n",
    "}\n",
    "code {\n",
    "    font-size: 14pt\n",
    "}\n",
    "</style>\n",
    "\n",
    "Now that we know how to create and manage tensor objects using PyOGRe, we can introduce the ability to perform calculations with tensors. Performing any calculation in PyOGRe is done by calling the `Calc()` function."
   ]
  },
  {
   "cell_type": "code",
   "execution_count": null,
   "metadata": {},
   "outputs": [
    {
     "name": "stdout",
     "output_type": "stream",
     "text": [
      "\n",
      "    (function) Calc(calc_object, name, symbol, indices)\n",
      "\n",
      "    Calculates a tensor formula.\n",
      "\n",
      "    `calc_object`: The tensor formula.\n",
      "    `name`: Defines the name of the resulting tensor. Defaults to \"Result\".\n",
      "    `symbol`: Defines the symbol used to represent the resulting tensor. A placeholder symbol will be used by default.\n",
      "    `indices`: A string representing the order of indices of the resulting tensor. Defaults to the order that appears in the tensor formula.\n",
      "    \n"
     ]
    }
   ],
   "source": [
    "print(og.Calc.__doc__)"
   ]
  },
  {
   "cell_type": "markdown",
   "metadata": {},
   "source": [
    "<style>\n",
    "h1 {\n",
    "    font-size: 32pt;\n",
    "    color: #875BFF\n",
    "}\n",
    "h2 {\n",
    "    font-size: 24pt;\n",
    "    color: #5B82FF\n",
    "}\n",
    "h3 {\n",
    "    font-size: 20pt;\n",
    "    color: #93ADFF\n",
    "}\n",
    "p {\n",
    "    font-size: 14pt\n",
    "}\n",
    "code {\n",
    "    font-size: 14pt\n",
    "}\n",
    "</style>\n",
    "\n",
    "The result of calling `Calc()` will be another tensor object. The formula used to calculate the resulting tensor may include any combination of addition, scalar multiplication, trace, contraction, partial derivatives, and covariant derivatives. We will cover each of these operations in more detail below, along with some examples."
   ]
  },
  {
   "cell_type": "markdown",
   "metadata": {},
   "source": [
    "<style>\n",
    "h1 {\n",
    "    font-size: 32pt;\n",
    "    color: #875BFF\n",
    "}\n",
    "h2 {\n",
    "    font-size: 24pt;\n",
    "    color: #5B82FF\n",
    "}\n",
    "h3 {\n",
    "    font-size: 20pt;\n",
    "    color: #93ADFF\n",
    "}\n",
    "p {\n",
    "    font-size: 14pt\n",
    "}\n",
    "code {\n",
    "    font-size: 14pt\n",
    "}\n",
    "</style>\n",
    "\n",
    "## __Simplifying Tensors__"
   ]
  },
  {
   "cell_type": "markdown",
   "metadata": {},
   "source": [
    "<style>\n",
    "h1 {\n",
    "    font-size: 32pt;\n",
    "    color: #875BFF\n",
    "}\n",
    "h2 {\n",
    "    font-size: 24pt;\n",
    "    color: #5B82FF\n",
    "}\n",
    "h3 {\n",
    "    font-size: 20pt;\n",
    "    color: #93ADFF\n",
    "}\n",
    "p {\n",
    "    font-size: 14pt\n",
    "}\n",
    "code {\n",
    "    font-size: 14pt\n",
    "}\n",
    "</style>\n",
    "\n",
    "To start, we can note that any tensor can be simplified by calling the `simplify()` method. This will not return a new object, but will simplify all known representations of the tensor, and return itself."
   ]
  },
  {
   "cell_type": "code",
   "execution_count": null,
   "metadata": {},
   "outputs": [
    {
     "data": {
      "application/vnd.jupyter.widget-view+json": {
       "model_id": "0a53bb690d374fe5867075e52c8e21e2",
       "version_major": 2,
       "version_minor": 0
      },
      "text/plain": [
       "Simplifying:   0%|          | 0/128 [00:00<?, ?it/s]"
      ]
     },
     "metadata": {},
     "output_type": "display_data"
    },
    {
     "data": {
      "text/markdown": [
       "<div align=center style='font-size:16pt;margin-bottom:12pt'> \n",
       "\n",
       "Minkowski:\n",
       "\n",
       " </div><div align=center style='font-size:14pt'> \n",
       "\n",
       " $$\\eta_{a}{ }_{b}{ }\\left(t, x, y, z\\right) =\\left(\\begin{matrix}-1 & 0 & 0 & 0\\\\0 & 1 & 0 & 0\\\\0 & 0 & 1 & 0\\\\0 & 0 & 0 & 1\\end{matrix}\\right)$$ \n",
       "\n",
       " </div>"
      ],
      "text/plain": [
       "<IPython.core.display.Markdown object>"
      ]
     },
     "metadata": {},
     "output_type": "display_data"
    }
   ],
   "source": [
    "minkowski.simplify().show()"
   ]
  },
  {
   "cell_type": "markdown",
   "metadata": {},
   "source": [
    "<style>\n",
    "h1 {\n",
    "    font-size: 32pt;\n",
    "    color: #875BFF\n",
    "}\n",
    "h2 {\n",
    "    font-size: 24pt;\n",
    "    color: #5B82FF\n",
    "}\n",
    "h3 {\n",
    "    font-size: 20pt;\n",
    "    color: #93ADFF\n",
    "}\n",
    "p {\n",
    "    font-size: 14pt\n",
    "}\n",
    "code {\n",
    "    font-size: 14pt\n",
    "}\n",
    "</style>\n",
    "\n",
    "## __Addition and Subtraction of Tensors__"
   ]
  },
  {
   "cell_type": "markdown",
   "metadata": {},
   "source": [
    "<style>\n",
    "h1 {\n",
    "    font-size: 32pt;\n",
    "    color: #875BFF\n",
    "}\n",
    "h2 {\n",
    "    font-size: 24pt;\n",
    "    color: #5B82FF\n",
    "}\n",
    "h3 {\n",
    "    font-size: 20pt;\n",
    "    color: #93ADFF\n",
    "}\n",
    "p {\n",
    "    font-size: 14pt\n",
    "}\n",
    "code {\n",
    "    font-size: 14pt\n",
    "}\n",
    "li:not(:last-child) {\n",
    "    margin-bottom: 1em;\n",
    "    margin-top: 1em\n",
    "}\n",
    "</style>\n",
    "\n",
    "Addition of tensors in PyOGRe is done by calling each tensor with a string of indices, and adding the resulting objects. When performing tensor addition we also have a handful of constraints to keep in mind:\n",
    "\n",
    "- Coordinates cannot be added to any other tensor, as they do not transform like tensors.\n",
    "- Two tensors that use different metrics may not be added together, as their sum would not have well-defined transformation rules.\n",
    "- Adding two tensors of different rank is not possible.\n",
    "- The indices of both tensors must be the same up to permutation:\n",
    "    - $M^{a}{}^{b}{} + N^{a}{}^{b}{}$ or $M^{a}{}^{b}{} + N^{b}{}^{a}{}$ are both allowed,\n",
    "    - $M^{a}{}^{b}{} + N^{a}{}^{c}{}$ or $M^{a}{}^{b}{} + N^{c}{}^{b}{}$ are not.\n",
    "\n",
    "This all sounds more complicated than it actually is, so let us start with an example:"
   ]
  },
  {
   "cell_type": "code",
   "execution_count": null,
   "metadata": {},
   "outputs": [
    {
     "data": {
      "text/markdown": [
       "<div align=center style='font-size:16pt;margin-bottom:12pt'> \n",
       "\n",
       "Result:\n",
       "\n",
       " </div><div align=center style='font-size:14pt'> \n",
       "\n",
       " $$\\square_{a}{ }_{b}{ }\\left(t, x, y, z\\right) =\\left(\\begin{matrix}\\rho - 1 & 0 & 0 & 0\\\\0 & p + 1 & 0 & 0\\\\0 & 0 & p + 1 & 0\\\\0 & 0 & 0 & p + 1\\end{matrix}\\right)$$ \n",
       "\n",
       " </div>"
      ],
      "text/plain": [
       "<IPython.core.display.Markdown object>"
      ]
     },
     "metadata": {},
     "output_type": "display_data"
    }
   ],
   "source": [
    "og.Calc(\n",
    "    minkowski(\"a b\") + perfect_fluid(\"a b\"),\n",
    ").show(replace={v: 0})"
   ]
  },
  {
   "cell_type": "markdown",
   "metadata": {},
   "source": [
    "<style>\n",
    "h1 {\n",
    "    font-size: 32pt;\n",
    "    color: #875BFF\n",
    "}\n",
    "h2 {\n",
    "    font-size: 24pt;\n",
    "    color: #5B82FF\n",
    "}\n",
    "h3 {\n",
    "    font-size: 20pt;\n",
    "    color: #93ADFF\n",
    "}\n",
    "p {\n",
    "    font-size: 14pt\n",
    "}\n",
    "code {\n",
    "    font-size: 14pt\n",
    "}\n",
    "</style>\n",
    "\n",
    "Here, we have added the Minkowski metric with the perfect fluid tensor we defined earlier (and requested that we show the result with $v=0$). The tensor formula is written as `tensor1(\"indices1\") + tensor2(\"indices2\")`. In this expression, `tensor1` and `tensor2` are the two PyOGRe objects we wish to add, and `\"indices1\"` and `\"indices2\"` are the index specifications for each tensor as a string. We should note that we don't need to specify whether each index is an upper or lower index, as PyOGRe deduces this automatically. Of course, the index letters have no real meaning and are simply placeholders, however we must remain cautious and ensure the indices are consistent.\n",
    "\n",
    "Returning to our example, we can pass the argument **symbol** to replace the default symbol for the resulting tensor, as well as the argument **name** to give our result a name."
   ]
  },
  {
   "cell_type": "code",
   "execution_count": null,
   "metadata": {},
   "outputs": [
    {
     "data": {
      "text/markdown": [
       "<div align=center style='font-size:16pt;margin-bottom:12pt'> \n",
       "\n",
       "Sum Result:\n",
       "\n",
       " </div><div align=center style='font-size:14pt'> \n",
       "\n",
       " $$S_{a}{ }_{b}{ }\\left(t, x, y, z\\right) =\\left(\\begin{matrix}\\rho - 1 & 0 & 0 & 0\\\\0 & p + 1 & 0 & 0\\\\0 & 0 & p + 1 & 0\\\\0 & 0 & 0 & p + 1\\end{matrix}\\right)$$ \n",
       "\n",
       " </div>"
      ],
      "text/plain": [
       "<IPython.core.display.Markdown object>"
      ]
     },
     "metadata": {},
     "output_type": "display_data"
    }
   ],
   "source": [
    "og.Calc(\n",
    "    minkowski(\"a b\") + perfect_fluid(\"a b\"),\n",
    "    symbol=\"S\",\n",
    "    name=\"Sum Result\"\n",
    ").show(replace={v: 0})"
   ]
  },
  {
   "cell_type": "markdown",
   "metadata": {},
   "source": [
    "<style>\n",
    "h1 {\n",
    "    font-size: 32pt;\n",
    "    color: #875BFF\n",
    "}\n",
    "h2 {\n",
    "    font-size: 24pt;\n",
    "    color: #5B82FF\n",
    "}\n",
    "h3 {\n",
    "    font-size: 20pt;\n",
    "    color: #93ADFF\n",
    "}\n",
    "p {\n",
    "    font-size: 14pt\n",
    "}\n",
    "code {\n",
    "    font-size: 14pt\n",
    "}\n",
    "</style>\n",
    "\n",
    "It can sometimes be useful to specify the resulting index order, which we can demonstrate in the following example. First, we will define a simple non-symmetric tensor:"
   ]
  },
  {
   "cell_type": "code",
   "execution_count": null,
   "metadata": {},
   "outputs": [
    {
     "data": {
      "text/markdown": [
       "<div align=center style='font-size:16pt;margin-bottom:12pt'> \n",
       "\n",
       "Non-Symmetric:\n",
       "\n",
       " </div><div align=center style='font-size:14pt'> \n",
       "\n",
       " $$N_{a}{ }_{b}{ }\\left(t, x, y, z\\right) =\\left(\\begin{matrix}0 & 0 & 0 & 1\\\\0 & 0 & 0 & 0\\\\0 & 0 & 0 & 0\\\\0 & 0 & 0 & 0\\end{matrix}\\right)$$ \n",
       "\n",
       " </div>"
      ],
      "text/plain": [
       "<IPython.core.display.Markdown object>"
      ]
     },
     "metadata": {},
     "output_type": "display_data"
    }
   ],
   "source": [
    "non_symmetric = minkowski.new_tensor(\n",
    "    name=\"Non-Symmetric\",\n",
    "    components=sym.Array([[0, 0, 0, 1], [0, 0, 0, 0], [0, 0, 0, 0], [0, 0, 0, 0]]),\n",
    "    symbol=\"N\",\n",
    "    indices=(-1, -1)\n",
    ")\n",
    "non_symmetric.show()"
   ]
  },
  {
   "cell_type": "markdown",
   "metadata": {},
   "source": [
    "<style>\n",
    "h1 {\n",
    "    font-size: 32pt;\n",
    "    color: #875BFF\n",
    "}\n",
    "h2 {\n",
    "    font-size: 24pt;\n",
    "    color: #5B82FF\n",
    "}\n",
    "h3 {\n",
    "    font-size: 20pt;\n",
    "    color: #93ADFF\n",
    "}\n",
    "p {\n",
    "    font-size: 14pt\n",
    "}\n",
    "code {\n",
    "    font-size: 14pt\n",
    "}\n",
    "li:not(:last-child) {\n",
    "    margin-bottom: 1em\n",
    "}\n",
    "</style>\n",
    "\n",
    "Now, let us compare the result of adding our non-symmetric tensor and the Minkowski metric in the following ways:\n",
    "\n",
    "1) $\\eta_{\\mu}{}_{\\nu}{} + N_{\\mu}{}_{\\nu}{}$\n",
    "1) $\\eta_{\\mu}{}_{\\nu}{} + N_{\\nu}{}_{\\mu}{}$\n",
    "\n",
    "First, with the same index order, we get:"
   ]
  },
  {
   "cell_type": "code",
   "execution_count": null,
   "metadata": {},
   "outputs": [
    {
     "data": {
      "text/markdown": [
       "<div align=center style='font-size:16pt;margin-bottom:12pt'> \n",
       "\n",
       "Result:\n",
       "\n",
       " </div><div align=center style='font-size:14pt'> \n",
       "\n",
       " $$\\square_{a}{ }_{b}{ }\\left(t, x, y, z\\right) =\\left(\\begin{matrix}-1 & 0 & 0 & 1\\\\0 & 1 & 0 & 0\\\\0 & 0 & 1 & 0\\\\0 & 0 & 0 & 1\\end{matrix}\\right)$$ \n",
       "\n",
       " </div>"
      ],
      "text/plain": [
       "<IPython.core.display.Markdown object>"
      ]
     },
     "metadata": {},
     "output_type": "display_data"
    }
   ],
   "source": [
    "og.Calc(\n",
    "    minkowski(\"a b\") + non_symmetric(\"a b\")\n",
    ").show()"
   ]
  },
  {
   "cell_type": "markdown",
   "metadata": {},
   "source": [
    "<style>\n",
    "h1 {\n",
    "    font-size: 32pt;\n",
    "    color: #875BFF\n",
    "}\n",
    "h2 {\n",
    "    font-size: 24pt;\n",
    "    color: #5B82FF\n",
    "}\n",
    "h3 {\n",
    "    font-size: 20pt;\n",
    "    color: #93ADFF\n",
    "}\n",
    "p {\n",
    "    font-size: 14pt\n",
    "}\n",
    "code {\n",
    "    font-size: 14pt\n",
    "}\n",
    "</style>\n",
    "\n",
    "And with the index order for the non-symmetric tensor reversed:"
   ]
  },
  {
   "cell_type": "code",
   "execution_count": null,
   "metadata": {},
   "outputs": [
    {
     "data": {
      "text/markdown": [
       "<div align=center style='font-size:16pt;margin-bottom:12pt'> \n",
       "\n",
       "Result:\n",
       "\n",
       " </div><div align=center style='font-size:14pt'> \n",
       "\n",
       " $$\\square_{a}{ }_{b}{ }\\left(t, x, y, z\\right) =\\left(\\begin{matrix}-1 & 0 & 0 & 0\\\\0 & 1 & 0 & 0\\\\0 & 0 & 1 & 0\\\\1 & 0 & 0 & 1\\end{matrix}\\right)$$ \n",
       "\n",
       " </div>"
      ],
      "text/plain": [
       "<IPython.core.display.Markdown object>"
      ]
     },
     "metadata": {},
     "output_type": "display_data"
    }
   ],
   "source": [
    "og.Calc(\n",
    "    minkowski(\"a b\") + non_symmetric(\"b a\")\n",
    ").show()"
   ]
  },
  {
   "cell_type": "markdown",
   "metadata": {},
   "source": [
    "<style>\n",
    "h1 {\n",
    "    font-size: 32pt;\n",
    "    color: #875BFF\n",
    "}\n",
    "h2 {\n",
    "    font-size: 24pt;\n",
    "    color: #5B82FF\n",
    "}\n",
    "h3 {\n",
    "    font-size: 20pt;\n",
    "    color: #93ADFF\n",
    "}\n",
    "p {\n",
    "    font-size: 14pt\n",
    "}\n",
    "code {\n",
    "    font-size: 14pt\n",
    "}\n",
    "</style>\n",
    "\n",
    "Since the order of the indices matters, we may want to explicitly specify the index order for the resulting tensor. We can pass the argument **indices** to indicate the order we want:"
   ]
  },
  {
   "cell_type": "code",
   "execution_count": null,
   "metadata": {},
   "outputs": [
    {
     "data": {
      "text/markdown": [
       "<div align=center style='font-size:16pt;margin-bottom:12pt'> \n",
       "\n",
       "Result:\n",
       "\n",
       " </div><div align=center style='font-size:14pt'> \n",
       "\n",
       " $$\\square_{a}{ }_{b}{ }\\left(t, x, y, z\\right) =\\left(\\begin{matrix}-1 & 0 & 0 & 1\\\\0 & 1 & 0 & 0\\\\0 & 0 & 1 & 0\\\\0 & 0 & 0 & 1\\end{matrix}\\right)$$ \n",
       "\n",
       " </div>"
      ],
      "text/plain": [
       "<IPython.core.display.Markdown object>"
      ]
     },
     "metadata": {},
     "output_type": "display_data"
    }
   ],
   "source": [
    "og.Calc(\n",
    "    minkowski(\"a b\") + non_symmetric(\"b a\"),\n",
    "    indices=\"b a\"\n",
    ").show()"
   ]
  },
  {
   "cell_type": "markdown",
   "metadata": {},
   "source": [
    "<style>\n",
    "h1 {\n",
    "    font-size: 32pt;\n",
    "    color: #875BFF\n",
    "}\n",
    "h2 {\n",
    "    font-size: 24pt;\n",
    "    color: #5B82FF\n",
    "}\n",
    "h3 {\n",
    "    font-size: 20pt;\n",
    "    color: #93ADFF\n",
    "}\n",
    "p {\n",
    "    font-size: 14pt\n",
    "}\n",
    "code {\n",
    "    font-size: 14pt\n",
    "}\n",
    "</style>\n",
    "As you can see, we have recovered the original result by specifying the order of the resulting tensor's indices. Finally, we can also choose to add more than just two tensors together, so long as we keep the indices consistent. For example, we can calculate the following sum:"
   ]
  },
  {
   "cell_type": "code",
   "execution_count": null,
   "metadata": {},
   "outputs": [
    {
     "data": {
      "text/markdown": [
       "<div align=center style='font-size:16pt;margin-bottom:12pt'> \n",
       "\n",
       "Result:\n",
       "\n",
       " </div><div align=center style='font-size:14pt'> \n",
       "\n",
       " $$\\square_{a}{ }_{b}{ }\\left(t, x, y, z\\right) =\\left(\\begin{matrix}\\rho - 1 & 0 & 0 & 1\\\\0 & p + 1 & 0 & 0\\\\0 & 0 & p + 1 & 0\\\\1 & 0 & 0 & p + 1\\end{matrix}\\right)$$ \n",
       "\n",
       " </div>"
      ],
      "text/plain": [
       "<IPython.core.display.Markdown object>"
      ]
     },
     "metadata": {},
     "output_type": "display_data"
    }
   ],
   "source": [
    "og.Calc(\n",
    "    minkowski(\"a b\") + perfect_fluid(\"a b\") + non_symmetric(\"a b\") + non_symmetric(\"b a\")\n",
    ").show(replace={v: 0})"
   ]
  },
  {
   "cell_type": "markdown",
   "metadata": {},
   "source": [
    "<style>\n",
    "h1 {\n",
    "    font-size: 32pt;\n",
    "    color: #875BFF\n",
    "}\n",
    "h2 {\n",
    "    font-size: 24pt;\n",
    "    color: #5B82FF\n",
    "}\n",
    "h3 {\n",
    "    font-size: 20pt;\n",
    "    color: #93ADFF\n",
    "}\n",
    "p {\n",
    "    font-size: 14pt\n",
    "}\n",
    "code {\n",
    "    font-size: 14pt\n",
    "}\n",
    "</style>\n",
    "\n",
    "## __Multiplication of Tensor by a Scalar__"
   ]
  },
  {
   "cell_type": "markdown",
   "metadata": {},
   "source": [
    "<style>\n",
    "h1 {\n",
    "    font-size: 32pt;\n",
    "    color: #875BFF\n",
    "}\n",
    "h2 {\n",
    "    font-size: 24pt;\n",
    "    color: #5B82FF\n",
    "}\n",
    "h3 {\n",
    "    font-size: 20pt;\n",
    "    color: #93ADFF\n",
    "}\n",
    "p {\n",
    "    font-size: 14pt\n",
    "}\n",
    "code {\n",
    "    font-size: 14pt\n",
    "}\n",
    "</style>\n",
    "\n",
    "The next operation one can perform with tensors is naturally the multiplication of a tensor by a scalar. The form of a tensor formula involving multiplication by a scalar is `scalar * tensor(\"indices\")`, where the `scalar` can be any SymPy expression, `tensor` is the tensor object, and `\"indices\"` is an index specification as it was for tensor addition. Additionally, `scalar` may also be a tensor object of rank 0.\n",
    "\n",
    "As an example, let us simply multiply the Minkowski metric by $10$:"
   ]
  },
  {
   "cell_type": "code",
   "execution_count": null,
   "metadata": {},
   "outputs": [
    {
     "data": {
      "text/markdown": [
       "<div align=center style='font-size:16pt;margin-bottom:12pt'> \n",
       "\n",
       "Result:\n",
       "\n",
       " </div><div align=center style='font-size:14pt'> \n",
       "\n",
       " $$\\square_{a}{ }_{b}{ }\\left(t, x, y, z\\right) =\\left(\\begin{matrix}-10 & 0 & 0 & 0\\\\0 & 10 & 0 & 0\\\\0 & 0 & 10 & 0\\\\0 & 0 & 0 & 10\\end{matrix}\\right)$$ \n",
       "\n",
       " </div>"
      ],
      "text/plain": [
       "<IPython.core.display.Markdown object>"
      ]
     },
     "metadata": {},
     "output_type": "display_data"
    }
   ],
   "source": [
    "og.Calc(\n",
    "    10 * minkowski(\"a b\")\n",
    ").show()"
   ]
  },
  {
   "cell_type": "markdown",
   "metadata": {},
   "source": [
    "<style>\n",
    "h1 {\n",
    "    font-size: 32pt;\n",
    "    color: #875BFF\n",
    "}\n",
    "h2 {\n",
    "    font-size: 24pt;\n",
    "    color: #5B82FF\n",
    "}\n",
    "h3 {\n",
    "    font-size: 20pt;\n",
    "    color: #93ADFF\n",
    "}\n",
    "p {\n",
    "    font-size: 14pt\n",
    "}\n",
    "code {\n",
    "    font-size: 14pt\n",
    "}\n",
    "</style>\n",
    "\n",
    "For an example with a tensor of rank $0$, let us multiply the Schwarzschild metric by the Kretschmann:"
   ]
  },
  {
   "cell_type": "code",
   "execution_count": null,
   "metadata": {},
   "outputs": [
    {
     "data": {
      "text/markdown": [
       "<div align=center style='font-size:16pt;margin-bottom:12pt'> \n",
       "\n",
       "Result:\n",
       "\n",
       " </div><div align=center style='font-size:14pt'> \n",
       "\n",
       " $$\\square_{a}{ }_{b}{ }\\left(t, r, \\theta, \\phi\\right) =\\left(\\begin{matrix}\\frac{48 M^{2} \\cdot \\left(2 M - r\\right)}{r^{7}} & 0 & 0 & 0\\\\[1em]0 & \\frac{48 M^{2}}{r^{5} \\left(- 2 M + r\\right)} & 0 & 0\\\\[1em]0 & 0 & \\frac{48 M^{2}}{r^{4}} & 0\\\\[1em]0 & 0 & 0 & \\frac{48 M^{2} \\sin^{2}{\\left(\\theta \\right)}}{r^{4}}\\end{matrix}\\right)$$ \n",
       "\n",
       " </div>"
      ],
      "text/plain": [
       "<IPython.core.display.Markdown object>"
      ]
     },
     "metadata": {},
     "output_type": "display_data"
    }
   ],
   "source": [
    "og.Calc(\n",
    "    kretschmann() * schwarzschild(\"a b\")\n",
    ").show()"
   ]
  },
  {
   "cell_type": "markdown",
   "metadata": {},
   "source": [
    "<style>\n",
    "h1 {\n",
    "    font-size: 32pt;\n",
    "    color: #875BFF\n",
    "}\n",
    "h2 {\n",
    "    font-size: 24pt;\n",
    "    color: #5B82FF\n",
    "}\n",
    "h3 {\n",
    "    font-size: 20pt;\n",
    "    color: #93ADFF\n",
    "}\n",
    "p {\n",
    "    font-size: 14pt\n",
    "}\n",
    "code {\n",
    "    font-size: 14pt\n",
    "}\n",
    "</style>\n",
    "\n",
    "\n",
    "At first glance, specifying the indices for the tensor may seem unnecessary, but we must remember that we would ultimately like to combine multiplication by a scalar with other operations, in which case the indices become necessary, as is demonstrated in the following example."
   ]
  },
  {
   "cell_type": "code",
   "execution_count": null,
   "metadata": {},
   "outputs": [
    {
     "data": {
      "text/markdown": [
       "<div align=center style='font-size:16pt;margin-bottom:12pt'> \n",
       "\n",
       "Result:\n",
       "\n",
       " </div><div align=center style='font-size:14pt'> \n",
       "\n",
       " $$\\square_{a}{ }_{b}{ }\\left(t, x, y, z\\right) =\\left(\\begin{matrix}- 3 \\rho x - 2 t & 0 & 0 & 4 y\\\\0 & - 3 p x + 2 t & 0 & 0\\\\0 & 0 & - 3 p x + 2 t & 0\\\\- 5 z & 0 & 0 & - 3 p x + 2 t\\end{matrix}\\right)$$ \n",
       "\n",
       " </div>"
      ],
      "text/plain": [
       "<IPython.core.display.Markdown object>"
      ]
     },
     "metadata": {},
     "output_type": "display_data"
    }
   ],
   "source": [
    "og.Calc(\n",
    "    2 * t * minkowski(\"a b\") - 3 * x * perfect_fluid(\"a b\") + 4 * y * non_symmetric(\"a b\") - 5 * z * non_symmetric(\"b a\")\n",
    ").show(replace={v: 0})"
   ]
  },
  {
   "cell_type": "markdown",
   "metadata": {},
   "source": [
    "<style>\n",
    "h1 {\n",
    "    font-size: 32pt;\n",
    "    color: #875BFF\n",
    "}\n",
    "h2 {\n",
    "    font-size: 24pt;\n",
    "    color: #5B82FF\n",
    "}\n",
    "h3 {\n",
    "    font-size: 20pt;\n",
    "    color: #93ADFF\n",
    "}\n",
    "p {\n",
    "    font-size: 14pt\n",
    "}\n",
    "code {\n",
    "    font-size: 14pt\n",
    "}\n",
    "</style>\n",
    "\n",
    "## __Traces and Contractions__"
   ]
  },
  {
   "cell_type": "markdown",
   "metadata": {},
   "source": [
    "<style>\n",
    "h1 {\n",
    "    font-size: 32pt;\n",
    "    color: #875BFF\n",
    "}\n",
    "h2 {\n",
    "    font-size: 24pt;\n",
    "    color: #5B82FF\n",
    "}\n",
    "h3 {\n",
    "    font-size: 20pt;\n",
    "    color: #93ADFF\n",
    "}\n",
    "p {\n",
    "    font-size: 14pt\n",
    "}\n",
    "code {\n",
    "    font-size: 14pt\n",
    "}\n",
    "</style>\n",
    "\n",
    "### __Theoretical Review__"
   ]
  },
  {
   "cell_type": "markdown",
   "metadata": {},
   "source": [
    "<style>\n",
    "h1 {\n",
    "    font-size: 32pt;\n",
    "    color: #875BFF\n",
    "}\n",
    "h2 {\n",
    "    font-size: 24pt;\n",
    "    color: #5B82FF\n",
    "}\n",
    "h3 {\n",
    "    font-size: 20pt;\n",
    "    color: #93ADFF\n",
    "}\n",
    "p {\n",
    "    font-size: 14pt\n",
    "}\n",
    "code {\n",
    "    font-size: 14pt\n",
    "}\n",
    "</style>\n",
    "\n",
    "The next operation one can perform with tensors is tensor **contraction**, which can be thought of as a generalization of the vector inner product. Contraction is performed by summing over a pair of indices, where each index appears once as a lower index and once as an upper index. An example of contraction that we have already seen is the contraction of a tensor with the metric, which raises or lowers an index. Similarly, the contraction of a tensor with a Jacobian or inverse Jacobian is a coordinate transformation.\n",
    "\n",
    "Let us start with the simplest example we can, which should highlight the connection with the vector inner product, which can be seen as the contraction of a vector (having one upper index) and a covector (having one lower index):\n",
    "\n",
    "$$\n",
    "v^{a}{} w_{a}{} = g_{a}{}_{b}{} v^{a}{} w^{b}{},\n",
    "$$\n",
    "\n",
    "where the right-hand side of the equality comes from the fact that lowering the index on a vector $w^{b}{}$ can be written as $w_{a}{} = g_{a}{}_{b}{} w^{b}{}$, where $g$ is the metric. Contractions involving higher rank tensors can then be seen as an extension of the inner product. For example:\n",
    "\n",
    "$$\n",
    "M^{a}{}^{b}{} N_{b}{}_{c}{} = g_{b}{}_{d}{} M^{a}{}^{b}{} N^{d}{}_{c}{}.\n",
    "$$\n",
    "\n",
    "Furthermore, we can also perform multiple contractions at the same time:\n",
    "\n",
    "$$\n",
    "M^{a}{}^{b}{} N_{a}{}_{b}{} = g_{a}{}_{c}{} g_{b}{}_{d}{} M^{a}{}^{b}{} N^{c}{}^{d}{}.\n",
    "$$\n",
    "\n",
    "We may even perform a contraction involving two indices on the same tensor, which is also known as taking the **trace**:\n",
    "\n",
    "$$\n",
    "M^{a}{}_{a}{} = g_{a}{}_{b}{} M^{a}{}^{b}{}.\n",
    "$$\n",
    "\n",
    "Finally, it is also perfectly valid to perform contractions on pairs of indices from more than two tensors at the same time, however such contractions may be broken down into individual operations. As an example, consider the following:\n",
    "\n",
    "$$\n",
    "M^{a}{}^{b}{} N_{b}{}_{c}{} L^{c}{}^{d}{} = g_{b}{}_{i}{} g_{c}{}_{j}{} M^{a}{}^{b}{} N^{i}{}^{j}{} L^{c}{}^{d}{}.\n",
    "$$\n",
    "\n",
    "The above contraction can be separated into individual contractions giving:\n",
    "\n",
    "$$\n",
    "M^{a}{}^{b}{} N_{b}{}_{c}{} L^{c}{}^{d}{} = M^{a}{}^{b}{} (N_{b}{}_{c}{} L^{c}{}^{d}{}).\n",
    "$$\n",
    "\n",
    "It is important to note that in a contraction, there are two different types of indices: the **contracted indices** which are summed over, and **free indices** which are not summed over. The result of performing a tensor contraction will be given by the number of free indices, so in the example above, the resulting tensor would have rank $2$ as $a$ and $d$ are both free indices, while $b$ and $c$ are contracted indices."
   ]
  },
  {
   "cell_type": "markdown",
   "metadata": {},
   "source": [
    "<style>\n",
    "h1 {\n",
    "    font-size: 32pt;\n",
    "    color: #875BFF\n",
    "}\n",
    "h2 {\n",
    "    font-size: 24pt;\n",
    "    color: #5B82FF\n",
    "}\n",
    "h3 {\n",
    "    font-size: 20pt;\n",
    "    color: #93ADFF\n",
    "}\n",
    "p {\n",
    "    font-size: 14pt\n",
    "}\n",
    "code {\n",
    "    font-size: 14pt\n",
    "}\n",
    "</style>\n",
    "\n",
    "### __PyOGRe Syntax__"
   ]
  },
  {
   "cell_type": "markdown",
   "metadata": {},
   "source": [
    "<style>\n",
    "h1 {\n",
    "    font-size: 32pt;\n",
    "    color: #875BFF\n",
    "}\n",
    "h2 {\n",
    "    font-size: 24pt;\n",
    "    color: #5B82FF\n",
    "}\n",
    "h3 {\n",
    "    font-size: 20pt;\n",
    "    color: #93ADFF\n",
    "}\n",
    "p {\n",
    "    font-size: 14pt\n",
    "}\n",
    "code {\n",
    "    font-size: 14pt\n",
    "}\n",
    "</style>\n",
    "\n",
    "Contractions are performed in PyOGRe by supplying a tensor formula of the form `tensor1(\"indices1\") @ tensor2(\"indices2\")`, where `tensor1` and `tensor2` are the tensor objects that are to be contracted, and `\"indices1\"` and `\"indices2\"` are the index strings for each tensor. Any **repeated index** in either index string will be contracted. \n",
    "\n",
    "This means that $v^{a}{} w_{a}{}$ can be calculated using `v(\"a\") @ w(\"a\")`, or $M^{a}{}^{b}{} N_{b}{}_{c}{} L^{c}{}^{d}{}$ can be calculated using `M(\"a b\") @ N(\"b c\") @ L(\"c d\")`. Notice that we do not specify whether each index is either an upper index or a lower index. This is because PyOGRe will automatically determine whether each index needs to be an upper index or lower index automatically, which can prevent one of the most common errors when performing these calculations by hand. The only important details is whether the index appears once or twice, and in what order they appear.\n",
    "\n",
    "Let us create the stress-energy tensor for a perfect fluid with a $4$-velocity $u$ as a first example, which is given by:\n",
    "\n",
    "$$\n",
    "T^{\\mu}{}^{\\nu}{} = (\\rho + p) u^{\\mu}{} u^{\\nu}{} + p \\eta^{\\mu}{}^{\\nu}{}\n",
    "$$\n",
    "\n",
    "Notice that the above expression does not actually contain any contractions. This will demonstrate how we can use contractions as an **outer product**. This example will not only include contractions, but we will also be combining all previously seen operations such as addition and multiplication by a scalar, which PyOGRe will handle for us automatically."
   ]
  },
  {
   "cell_type": "code",
   "execution_count": null,
   "metadata": {},
   "outputs": [
    {
     "data": {
      "text/markdown": [
       "<div align=center style='font-size:16pt;margin-bottom:12pt'> \n",
       "\n",
       "Perfect fluid:\n",
       "\n",
       " </div><div align=center style='font-size:14pt'> \n",
       "\n",
       " $$T_{a}{ }_{b}{ }\\left(t, x, y, z\\right) =\\left(\\begin{matrix}\\frac{- p v^{2} - \\rho}{v^{2} - 1} & \\frac{v \\left(p + \\rho\\right)}{v^{2} - 1} & 0 & 0\\\\[1em]\\frac{v \\left(p + \\rho\\right)}{v^{2} - 1} & \\frac{- p - \\rho v^{2}}{v^{2} - 1} & 0 & 0\\\\[1em]0 & 0 & p & 0\\\\[1em]0 & 0 & 0 & p\\end{matrix}\\right)$$ \n",
       "\n",
       " </div>"
      ],
      "text/plain": [
       "<IPython.core.display.Markdown object>"
      ]
     },
     "metadata": {},
     "output_type": "display_data"
    }
   ],
   "source": [
    "perfect_fluid_from_velocity = og.Calc(\n",
    "    (rho + p) * four_velocity(\"a\") @ four_velocity(\"b\") + p * minkowski(\"a b\"),\n",
    "    name=\"Perfect fluid\",\n",
    "    symbol=\"T\",\n",
    "    indices=\"a b\"\n",
    ")\n",
    "perfect_fluid_from_velocity.show()"
   ]
  },
  {
   "cell_type": "markdown",
   "metadata": {},
   "source": [
    "<style>\n",
    "h1 {\n",
    "    font-size: 32pt;\n",
    "    color: #875BFF\n",
    "}\n",
    "h2 {\n",
    "    font-size: 24pt;\n",
    "    color: #5B82FF\n",
    "}\n",
    "h3 {\n",
    "    font-size: 20pt;\n",
    "    color: #93ADFF\n",
    "}\n",
    "p {\n",
    "    font-size: 14pt\n",
    "}\n",
    "code {\n",
    "    font-size: 14pt\n",
    "}\n",
    "</style>\n",
    "\n",
    "Substituting $v=0$ we also recover the stress-energy tensor we defined earlier:"
   ]
  },
  {
   "cell_type": "code",
   "execution_count": null,
   "metadata": {},
   "outputs": [
    {
     "data": {
      "text/markdown": [
       "<div align=center style='font-size:16pt;margin-bottom:12pt'> \n",
       "\n",
       "Perfect fluid:\n",
       "\n",
       " </div><div align=center style='font-size:14pt'> \n",
       "\n",
       " $$T^{a}{ }^{b}{ }\\left(t, x, y, z\\right) =\\left(\\begin{matrix}\\rho & 0 & 0 & 0\\\\0 & p & 0 & 0\\\\0 & 0 & p & 0\\\\0 & 0 & 0 & p\\end{matrix}\\right)$$ \n",
       "\n",
       " </div>"
      ],
      "text/plain": [
       "<IPython.core.display.Markdown object>"
      ]
     },
     "metadata": {},
     "output_type": "display_data"
    }
   ],
   "source": [
    "perfect_fluid_from_velocity.show(indices=(1,1), replace={v: 0})"
   ]
  },
  {
   "cell_type": "markdown",
   "metadata": {},
   "source": [
    "<style>\n",
    "h1 {\n",
    "    font-size: 32pt;\n",
    "    color: #875BFF\n",
    "}\n",
    "h2 {\n",
    "    font-size: 24pt;\n",
    "    color: #5B82FF\n",
    "}\n",
    "h3 {\n",
    "    font-size: 20pt;\n",
    "    color: #93ADFF\n",
    "}\n",
    "p {\n",
    "    font-size: 14pt\n",
    "}\n",
    "code {\n",
    "    font-size: 14pt\n",
    "}\n",
    "</style>\n",
    "\n",
    "We can also use the contraction syntax to multiply a tensor by a rank $0$ tensor. Let us perform a contraction of the Kretschmann scalar with the Schwarzschild metric, which will give the same result as we saw for scalar multiplication:"
   ]
  },
  {
   "cell_type": "code",
   "execution_count": null,
   "metadata": {},
   "outputs": [
    {
     "data": {
      "text/markdown": [
       "<div align=center style='font-size:16pt;margin-bottom:12pt'> \n",
       "\n",
       "Result:\n",
       "\n",
       " </div><div align=center style='font-size:14pt'> \n",
       "\n",
       " $$\\square_{a}{ }_{b}{ }\\left(t, r, \\theta, \\phi\\right) =\\left(\\begin{matrix}\\frac{48 M^{2} \\cdot \\left(2 M - r\\right)}{r^{7}} & 0 & 0 & 0\\\\[1em]0 & \\frac{48 M^{2}}{r^{5} \\left(- 2 M + r\\right)} & 0 & 0\\\\[1em]0 & 0 & \\frac{48 M^{2}}{r^{4}} & 0\\\\[1em]0 & 0 & 0 & \\frac{48 M^{2} \\sin^{2}{\\left(\\theta \\right)}}{r^{4}}\\end{matrix}\\right)$$ \n",
       "\n",
       " </div>"
      ],
      "text/plain": [
       "<IPython.core.display.Markdown object>"
      ]
     },
     "metadata": {},
     "output_type": "display_data"
    }
   ],
   "source": [
    "og.Calc(\n",
    "    kretschmann() @ schwarzschild(\"a b\")\n",
    ").show()"
   ]
  },
  {
   "cell_type": "markdown",
   "metadata": {},
   "source": [
    "<style>\n",
    "h1 {\n",
    "    font-size: 32pt;\n",
    "    color: #875BFF\n",
    "}\n",
    "h2 {\n",
    "    font-size: 24pt;\n",
    "    color: #5B82FF\n",
    "}\n",
    "h3 {\n",
    "    font-size: 20pt;\n",
    "    color: #93ADFF\n",
    "}\n",
    "p {\n",
    "    font-size: 14pt\n",
    "}\n",
    "code {\n",
    "    font-size: 14pt\n",
    "}\n",
    "</style>\n",
    "\n",
    "Calculating the trace of a tensor may be done simply by supplying a matching pair of indices in that tensor's index string. As an example, the trace of the Minkowski metric can be calculated as follows:"
   ]
  },
  {
   "cell_type": "code",
   "execution_count": null,
   "metadata": {},
   "outputs": [
    {
     "data": {
      "text/markdown": [
       "<div align=center style='font-size:16pt;margin-bottom:12pt'> \n",
       "\n",
       "Result:\n",
       "\n",
       " </div><div align=center style='font-size:14pt'> \n",
       "\n",
       " $$\\square\\left(t, x, y, z\\right) =4$$ \n",
       "\n",
       " </div>"
      ],
      "text/plain": [
       "<IPython.core.display.Markdown object>"
      ]
     },
     "metadata": {},
     "output_type": "display_data"
    }
   ],
   "source": [
    "og.Calc(\n",
    "    minkowski(\"a a\")\n",
    ").show()"
   ]
  },
  {
   "cell_type": "markdown",
   "metadata": {},
   "source": [
    "<style>\n",
    "h1 {\n",
    "    font-size: 32pt;\n",
    "    color: #875BFF\n",
    "}\n",
    "h2 {\n",
    "    font-size: 24pt;\n",
    "    color: #5B82FF\n",
    "}\n",
    "h3 {\n",
    "    font-size: 20pt;\n",
    "    color: #93ADFF\n",
    "}\n",
    "p {\n",
    "    font-size: 14pt\n",
    "}\n",
    "code {\n",
    "    font-size: 14pt\n",
    "}\n",
    "</style>\n",
    "\n",
    "And similarly for the trace of the stress-energy tensor of a perfect fluid:"
   ]
  },
  {
   "cell_type": "code",
   "execution_count": null,
   "metadata": {},
   "outputs": [
    {
     "data": {
      "text/markdown": [
       "<div align=center style='font-size:16pt;margin-bottom:12pt'> \n",
       "\n",
       "Result:\n",
       "\n",
       " </div><div align=center style='font-size:14pt'> \n",
       "\n",
       " $$\\square\\left(t, x, y, z\\right) =3 p - \\rho$$ \n",
       "\n",
       " </div>"
      ],
      "text/plain": [
       "<IPython.core.display.Markdown object>"
      ]
     },
     "metadata": {},
     "output_type": "display_data"
    }
   ],
   "source": [
    "og.Calc(\n",
    "    perfect_fluid_from_velocity(\"a a\")\n",
    ").show()"
   ]
  },
  {
   "cell_type": "markdown",
   "metadata": {},
   "source": [
    "<style>\n",
    "h1 {\n",
    "    font-size: 32pt;\n",
    "    color: #875BFF\n",
    "}\n",
    "h2 {\n",
    "    font-size: 24pt;\n",
    "    color: #5B82FF\n",
    "}\n",
    "h3 {\n",
    "    font-size: 20pt;\n",
    "    color: #93ADFF\n",
    "}\n",
    "p {\n",
    "    font-size: 14pt\n",
    "}\n",
    "code {\n",
    "    font-size: 14pt\n",
    "}\n",
    "</style>\n",
    "\n",
    "PyOGRe also has a built-in helper function which can generate an index string using the same syntax as SymPy's `symbols()` function:"
   ]
  },
  {
   "cell_type": "code",
   "execution_count": null,
   "metadata": {},
   "outputs": [
    {
     "data": {
      "text/plain": [
       "'x0 x1 x2 x3 x4 x5 x6 x7 x8 x9'"
      ]
     },
     "metadata": {},
     "output_type": "display_data"
    }
   ],
   "source": [
    "display(\n",
    "    og.str_symbols(\"x0:10\")\n",
    ")"
   ]
  },
  {
   "cell_type": "markdown",
   "metadata": {},
   "source": [
    "<style>\n",
    "h1 {\n",
    "    font-size: 32pt;\n",
    "    color: #875BFF\n",
    "}\n",
    "h2 {\n",
    "    font-size: 24pt;\n",
    "    color: #5B82FF\n",
    "}\n",
    "h3 {\n",
    "    font-size: 20pt;\n",
    "    color: #93ADFF\n",
    "}\n",
    "p {\n",
    "    font-size: 14pt\n",
    "}\n",
    "code {\n",
    "    font-size: 14pt\n",
    "}\n",
    "</style>\n",
    "\n",
    "The output of `str_symbols()` may be supplied directly as an index string, which may be helpful in some scenarios. As an example, we can calculate the norm squared (the contraction of a tensor with itself in all indices) of the stress-energy tensor for a perfect fluid as follows using the `str_symbols()` function:"
   ]
  },
  {
   "cell_type": "code",
   "execution_count": null,
   "metadata": {},
   "outputs": [
    {
     "data": {
      "text/markdown": [
       "<div align=center style='font-size:16pt;margin-bottom:12pt'> \n",
       "\n",
       "Result:\n",
       "\n",
       " </div><div align=center style='font-size:14pt'> \n",
       "\n",
       " $$\\square\\left(t, x, y, z\\right) =3 p^{2} + \\rho^{2}$$ \n",
       "\n",
       " </div>"
      ],
      "text/plain": [
       "<IPython.core.display.Markdown object>"
      ]
     },
     "metadata": {},
     "output_type": "display_data"
    }
   ],
   "source": [
    "og.Calc(\n",
    "    perfect_fluid_from_velocity(og.str_symbols(\"x0:2\")) @ perfect_fluid_from_velocity(og.str_symbols(\"x0:2\"))\n",
    ").show()"
   ]
  },
  {
   "cell_type": "markdown",
   "metadata": {},
   "source": [
    "<style>\n",
    "h1 {\n",
    "    font-size: 32pt;\n",
    "    color: #875BFF\n",
    "}\n",
    "h2 {\n",
    "    font-size: 24pt;\n",
    "    color: #5B82FF\n",
    "}\n",
    "h3 {\n",
    "    font-size: 20pt;\n",
    "    color: #93ADFF\n",
    "}\n",
    "p {\n",
    "    font-size: 14pt\n",
    "}\n",
    "code {\n",
    "    font-size: 14pt\n",
    "}\n",
    "</style>\n",
    "\n",
    "## __Norm Squared__"
   ]
  },
  {
   "cell_type": "markdown",
   "metadata": {},
   "source": [
    "<style>\n",
    "h1 {\n",
    "    font-size: 32pt;\n",
    "    color: #875BFF\n",
    "}\n",
    "h2 {\n",
    "    font-size: 24pt;\n",
    "    color: #5B82FF\n",
    "}\n",
    "h3 {\n",
    "    font-size: 20pt;\n",
    "    color: #93ADFF\n",
    "}\n",
    "p {\n",
    "    font-size: 14pt\n",
    "}\n",
    "code {\n",
    "    font-size: 14pt\n",
    "}\n",
    "</style>\n",
    "\n",
    "A shorthand method for calculating the norm squared of any tensor is provided by simply calling the `calc_norm_squared()` method. The result is always a scalar and is simply the contraction of a tensor with itself in all indices. For a rank $2$ tensor, that would be:\n",
    "\n",
    "$$\n",
    "|T|^2 = T^{a}{}_{b}{} T_{a}{}^{b}{}.\n",
    "$$\n",
    "\n",
    "For the Minkowski metric, we can calculate the norm squared as follows:"
   ]
  },
  {
   "cell_type": "code",
   "execution_count": null,
   "metadata": {},
   "outputs": [
    {
     "data": {
      "text/markdown": [
       "<div align=center style='font-size:16pt;margin-bottom:12pt'> \n",
       "\n",
       "Minkowski Norm Squared:\n",
       "\n",
       " </div><div align=center style='font-size:14pt'> \n",
       "\n",
       " $$\\square\\left(t, r, \\theta, \\phi\\right) =4$$ \n",
       "\n",
       " </div>"
      ],
      "text/plain": [
       "<IPython.core.display.Markdown object>"
      ]
     },
     "metadata": {},
     "output_type": "display_data"
    }
   ],
   "source": [
    "minkowski.calc_norm_squared().show(coords=spherical)"
   ]
  },
  {
   "cell_type": "markdown",
   "metadata": {},
   "source": [
    "<style>\n",
    "h1 {\n",
    "    font-size: 32pt;\n",
    "    color: #875BFF\n",
    "}\n",
    "h2 {\n",
    "    font-size: 24pt;\n",
    "    color: #5B82FF\n",
    "}\n",
    "h3 {\n",
    "    font-size: 20pt;\n",
    "    color: #93ADFF\n",
    "}\n",
    "p {\n",
    "    font-size: 14pt\n",
    "}\n",
    "code {\n",
    "    font-size: 14pt\n",
    "}\n",
    "</style>\n",
    "\n",
    "Which for any metric, simply gives the number of dimensions in that metric. As another example, we can calculate the norm squared of the 4-velocity vector to ensure it has a norm squared of $-1$:"
   ]
  },
  {
   "cell_type": "code",
   "execution_count": null,
   "metadata": {},
   "outputs": [
    {
     "data": {
      "text/markdown": [
       "<div align=center style='font-size:16pt;margin-bottom:12pt'> \n",
       "\n",
       "Four Velocity Norm Squared:\n",
       "\n",
       " </div><div align=center style='font-size:14pt'> \n",
       "\n",
       " $$\\square\\left(t, x, y, z\\right) =-1$$ \n",
       "\n",
       " </div>"
      ],
      "text/plain": [
       "<IPython.core.display.Markdown object>"
      ]
     },
     "metadata": {},
     "output_type": "display_data"
    }
   ],
   "source": [
    "four_velocity.calc_norm_squared().show()"
   ]
  },
  {
   "cell_type": "markdown",
   "metadata": {},
   "source": [
    "<style>\n",
    "h1 {\n",
    "    font-size: 32pt;\n",
    "    color: #875BFF\n",
    "}\n",
    "h2 {\n",
    "    font-size: 24pt;\n",
    "    color: #5B82FF\n",
    "}\n",
    "h3 {\n",
    "    font-size: 20pt;\n",
    "    color: #93ADFF\n",
    "}\n",
    "p {\n",
    "    font-size: 14pt\n",
    "}\n",
    "code {\n",
    "    font-size: 14pt\n",
    "}\n",
    "</style>\n",
    "\n",
    "## __Derivatives and Christoffel Symbols__"
   ]
  },
  {
   "cell_type": "markdown",
   "metadata": {},
   "source": [
    "<style>\n",
    "h1 {\n",
    "    font-size: 32pt;\n",
    "    color: #875BFF\n",
    "}\n",
    "h2 {\n",
    "    font-size: 24pt;\n",
    "    color: #5B82FF\n",
    "}\n",
    "h3 {\n",
    "    font-size: 20pt;\n",
    "    color: #93ADFF\n",
    "}\n",
    "p {\n",
    "    font-size: 14pt\n",
    "}\n",
    "code {\n",
    "    font-size: 14pt\n",
    "}\n",
    "</style>\n",
    "\n",
    "### __Partial Derivative__"
   ]
  },
  {
   "cell_type": "markdown",
   "metadata": {},
   "source": [
    "<style>\n",
    "h1 {\n",
    "    font-size: 32pt;\n",
    "    color: #875BFF\n",
    "}\n",
    "h2 {\n",
    "    font-size: 24pt;\n",
    "    color: #5B82FF\n",
    "}\n",
    "h3 {\n",
    "    font-size: 20pt;\n",
    "    color: #93ADFF\n",
    "}\n",
    "p {\n",
    "    font-size: 14pt\n",
    "}\n",
    "code {\n",
    "    font-size: 14pt\n",
    "}\n",
    "</style>\n",
    "\n",
    "The **partial derivative** $\\partial_{\\mu}{}$ can be used by importing the `PartialD` function from PyOGRe. This function can be contracted with other tensors using the same contraction syntax we saw earlier. We can calculate both gradients and divergences by supplying an appropriate index string."
   ]
  },
  {
   "cell_type": "code",
   "execution_count": null,
   "metadata": {},
   "outputs": [
    {
     "name": "stdout",
     "output_type": "stream",
     "text": [
      "\n",
      "    (function) PartialD(index)\n",
      "\n",
      "    Represents the partial derivative when used within Calc()\n",
      "\n",
      "    `index`: The index of the partial derivative used in tensor formulae.\n",
      "    \n"
     ]
    }
   ],
   "source": [
    "from PyOGRe import PartialD\n",
    "print(PartialD.__doc__)"
   ]
  },
  {
   "cell_type": "markdown",
   "metadata": {},
   "source": [
    "<style>\n",
    "h1 {\n",
    "    font-size: 32pt;\n",
    "    color: #875BFF\n",
    "}\n",
    "h2 {\n",
    "    font-size: 24pt;\n",
    "    color: #5B82FF\n",
    "}\n",
    "h3 {\n",
    "    font-size: 20pt;\n",
    "    color: #93ADFF\n",
    "}\n",
    "p {\n",
    "    font-size: 14pt\n",
    "}\n",
    "code {\n",
    "    font-size: 14pt\n",
    "}\n",
    "</style>\n",
    "\n",
    "The **gradient** of a tensor is the partial derivative acting with a free index on a tensor, which results in a tensor with a rank one higher than the tensor being acted on. As an example, we can calculate the gradient of the Kretschmann scalar as follows:"
   ]
  },
  {
   "cell_type": "code",
   "execution_count": null,
   "metadata": {},
   "outputs": [
    {
     "data": {
      "text/markdown": [
       "<div align=center style='font-size:16pt;margin-bottom:12pt'> \n",
       "\n",
       "Result:\n",
       "\n",
       " </div><div align=center style='font-size:14pt'> \n",
       "\n",
       " $$\\square_{a}{ }\\left(t, r, \\theta, \\phi\\right) =\\left(\\begin{matrix}0\\\\[1em]- \\frac{288 M^{2}}{r^{7}}\\\\[1em]0\\\\[1em]0\\end{matrix}\\right)$$ \n",
       "\n",
       " </div>"
      ],
      "text/plain": [
       "<IPython.core.display.Markdown object>"
      ]
     },
     "metadata": {},
     "output_type": "display_data"
    }
   ],
   "source": [
    "og.Calc(\n",
    "    PartialD(\"a\") @ kretschmann()\n",
    ").show(coords=spherical)"
   ]
  },
  {
   "cell_type": "markdown",
   "metadata": {},
   "source": [
    "<style>\n",
    "h1 {\n",
    "    font-size: 32pt;\n",
    "    color: #875BFF\n",
    "}\n",
    "h2 {\n",
    "    font-size: 24pt;\n",
    "    color: #5B82FF\n",
    "}\n",
    "h3 {\n",
    "    font-size: 20pt;\n",
    "    color: #93ADFF\n",
    "}\n",
    "p {\n",
    "    font-size: 14pt\n",
    "}\n",
    "code {\n",
    "    font-size: 14pt\n",
    "}\n",
    "</style>\n",
    "\n",
    "The **divergence** of a tensor is instead the contraction of the partial derivative with one of the tensor's indices, resulting in a tensor of one rank lower than the tensor being acted on. Consider calculating the divergence of the Schwarzschild metric as an example:"
   ]
  },
  {
   "cell_type": "code",
   "execution_count": null,
   "metadata": {},
   "outputs": [
    {
     "data": {
      "text/markdown": [
       "<div align=center style='font-size:16pt;margin-bottom:12pt'> \n",
       "\n",
       "Result:\n",
       "\n",
       " </div><div align=center style='font-size:14pt'> No Non-Zero Elements </div>"
      ],
      "text/plain": [
       "<IPython.core.display.Markdown object>"
      ]
     },
     "metadata": {},
     "output_type": "display_data"
    }
   ],
   "source": [
    "og.Calc(\n",
    "    PartialD(\"a\") @ schwarzschild(\"a b\")\n",
    ").list()"
   ]
  },
  {
   "cell_type": "markdown",
   "metadata": {},
   "source": [
    "<style>\n",
    "h1 {\n",
    "    font-size: 32pt;\n",
    "    color: #875BFF\n",
    "}\n",
    "h2 {\n",
    "    font-size: 24pt;\n",
    "    color: #5B82FF\n",
    "}\n",
    "h3 {\n",
    "    font-size: 20pt;\n",
    "    color: #93ADFF\n",
    "}\n",
    "p {\n",
    "    font-size: 14pt\n",
    "}\n",
    "code {\n",
    "    font-size: 14pt\n",
    "}\n",
    "</style>\n",
    "\n",
    "As we can see, the syntax for both the gradient and divergence is the same. Instead, if the index specification for the partial derivative matches one of the indices of the tensor, we get the divergence, otherwise if the index does not match, we get the gradient.\n",
    "\n",
    "When working with the partial derivative, one should be mindful that in general, the result of applying the partial derivative to a tensor does not result in another tensor. This means that the result will not transform in the same way as a tensor does under a change of coordinates. It is for this reason that when working in general relativity, the **covariant derivative** is used instead of the partial derivative. \n",
    "\n",
    "The partial derivative finds use in the definition of the covariant derivative itself, the Levi-Cevita connection, and the Riemann tensor, which will soon be discussed. Of these cases, both the covariant derivative and the Riemann tensor transform like tensors, while the Levi-Cevita connection whose components are known as the Christoffel symbols do not, and must be treated with special transformation rules. The partial derivative then should be avoided when doing calculations with the `Calc()` function unless you are familiar with these caveats."
   ]
  },
  {
   "cell_type": "markdown",
   "metadata": {},
   "source": [
    "<style>\n",
    "h1 {\n",
    "    font-size: 32pt;\n",
    "    color: #875BFF\n",
    "}\n",
    "h2 {\n",
    "    font-size: 24pt;\n",
    "    color: #5B82FF\n",
    "}\n",
    "h3 {\n",
    "    font-size: 20pt;\n",
    "    color: #93ADFF\n",
    "}\n",
    "p {\n",
    "    font-size: 14pt\n",
    "}\n",
    "code {\n",
    "    font-size: 14pt\n",
    "}\n",
    "</style>\n",
    "\n",
    "### __Christoffel Symbols__"
   ]
  },
  {
   "cell_type": "markdown",
   "metadata": {},
   "source": [
    "<style>\n",
    "h1 {\n",
    "    font-size: 32pt;\n",
    "    color: #875BFF\n",
    "}\n",
    "h2 {\n",
    "    font-size: 24pt;\n",
    "    color: #5B82FF\n",
    "}\n",
    "h3 {\n",
    "    font-size: 20pt;\n",
    "    color: #93ADFF\n",
    "}\n",
    "p {\n",
    "    font-size: 14pt\n",
    "}\n",
    "code {\n",
    "    font-size: 14pt\n",
    "}\n",
    "</style>\n",
    "\n",
    "As mentioned above, the **Christoffel symbols** are a class of very important \"tensor-like\" objects in differential geometry. They are the components of the **Levi-Civita connection**, which is the **unique** torsion-free connection that preserves the metric. They are \"tensor-like\" due to the fact that they do not transform as a tensor does, and must be transformed using a special set of rules under coordinate transformations.\n",
    "\n",
    "The Christoffel symbols are defined as follows:\n",
    "\n",
    "$$\n",
    "\\Gamma^{\\lambda}{}_{\\mu}{}_{\\nu}{} = \\cfrac{1}{2} g^{\\lambda}{}^{\\sigma}{} \\left( \n",
    "    \\partial_{\\mu}{} g_{\\nu}{}_{\\sigma}{} + \\partial_{\\nu}{} g_{\\sigma}{}_{\\mu}{} - \\partial_{\\sigma}{} g_{\\mu}{}_{\\nu}{}\n",
    "\\right).\n",
    "$$\n",
    "\n",
    "Each term in the parentheses is a gradient of the metric, each with a slightly different index configuration. We can calculate the Christoffel symbols manually in PyOGRe as follows:"
   ]
  },
  {
   "cell_type": "code",
   "execution_count": null,
   "metadata": {},
   "outputs": [
    {
     "data": {
      "text/markdown": [
       "<div align=center style='font-size:16pt;margin-bottom:12pt'> \n",
       "\n",
       "Schwarzschild Christoffel Manual:\n",
       "\n",
       " </div><div align=center style='font-size:14pt'> \n",
       "\n",
       " $$ \n",
       "\\begin{aligned} \n",
       "\\Gamma^{t}{ }_{t}{ }_{r}{ } = \\Gamma^{t}{ }_{r}{ }_{t}{ } &= \\frac{M}{r \\left(- 2 M + r\\right)}\\\\[10pt]\\Gamma^{r}{ }_{t}{ }_{t}{ } &= \\frac{M \\left(- 2 M + r\\right)}{r^{3}}\\\\[10pt]\\Gamma^{r}{ }_{r}{ }_{r}{ } &= \\frac{M}{r \\left(2 M - r\\right)}\\\\[10pt]\\Gamma^{r}{ }_{\\theta}{ }_{\\theta}{ } &= 2 M - r\\\\[10pt]\\Gamma^{r}{ }_{\\phi}{ }_{\\phi}{ } &= \\left(2 M - r\\right) \\sin^{2}{\\left(\\theta \\right)}\\\\[10pt]\\Gamma^{\\theta}{ }_{r}{ }_{\\theta}{ } = \\Gamma^{\\theta}{ }_{\\theta}{ }_{r}{ } = \\Gamma^{\\phi}{ }_{r}{ }_{\\phi}{ } = \\Gamma^{\\phi}{ }_{\\phi}{ }_{r}{ } &= \\frac{1}{r}\\\\[10pt]\\Gamma^{\\theta}{ }_{\\phi}{ }_{\\phi}{ } &= - \\frac{\\sin{\\left(2 \\theta \\right)}}{2}\\\\[10pt]\\Gamma^{\\phi}{ }_{\\theta}{ }_{\\phi}{ } = \\Gamma^{\\phi}{ }_{\\phi}{ }_{\\theta}{ } &= \\frac{1}{\\tan{\\left(\\theta \\right)}}\n",
       " \\end{aligned} \n",
       " $$ \n",
       "\n",
       " </div>"
      ],
      "text/plain": [
       "<IPython.core.display.Markdown object>"
      ]
     },
     "metadata": {},
     "output_type": "display_data"
    }
   ],
   "source": [
    "og.Calc(\n",
    "    (1/2) * schwarzschild(\"a b\") @ (\n",
    "        PartialD(\"c\") @ schwarzschild(\"d b\") +\n",
    "        PartialD(\"d\") @ schwarzschild(\"b c\") -\n",
    "        PartialD(\"b\") @ schwarzschild(\"c d\")\n",
    "    ),\n",
    "    name=\"Schwarzschild Christoffel Manual\",\n",
    "    symbol=\"Gamma\",\n",
    ").change_default_indices(indices=(1, -1, -1)).list()"
   ]
  },
  {
   "cell_type": "markdown",
   "metadata": {},
   "source": [
    "<style>\n",
    "h1 {\n",
    "    font-size: 32pt;\n",
    "    color: #875BFF\n",
    "}\n",
    "h2 {\n",
    "    font-size: 24pt;\n",
    "    color: #5B82FF\n",
    "}\n",
    "h3 {\n",
    "    font-size: 20pt;\n",
    "    color: #93ADFF\n",
    "}\n",
    "p {\n",
    "    font-size: 14pt\n",
    "}\n",
    "code {\n",
    "    font-size: 14pt\n",
    "}\n",
    "</style>\n",
    "\n",
    "There is an easier way to calculate the Christoffel symbols in PyOGRe, which can simply be done by calling the `calc_christoffel()` method on any metric. Comparing the manual calculation above with the shorthand method below shows that the two calculations are equivalent."
   ]
  },
  {
   "cell_type": "code",
   "execution_count": null,
   "metadata": {},
   "outputs": [
    {
     "data": {
      "text/markdown": [
       "<div align=center style='font-size:16pt;margin-bottom:12pt'> \n",
       "\n",
       "Schwarzschild Christoffel:\n",
       "\n",
       " </div><div align=center style='font-size:14pt'> \n",
       "\n",
       " $$ \n",
       "\\begin{aligned} \n",
       "\\Gamma^{t}{ }_{t}{ }_{r}{ } = \\Gamma^{t}{ }_{r}{ }_{t}{ } &= \\frac{M}{r \\left(- 2 M + r\\right)}\\\\[10pt]\\Gamma^{r}{ }_{t}{ }_{t}{ } &= \\frac{M \\left(- 2 M + r\\right)}{r^{3}}\\\\[10pt]\\Gamma^{r}{ }_{r}{ }_{r}{ } &= \\frac{M}{r \\left(2 M - r\\right)}\\\\[10pt]\\Gamma^{r}{ }_{\\theta}{ }_{\\theta}{ } &= 2 M - r\\\\[10pt]\\Gamma^{r}{ }_{\\phi}{ }_{\\phi}{ } &= \\left(2 M - r\\right) \\sin^{2}{\\left(\\theta \\right)}\\\\[10pt]\\Gamma^{\\theta}{ }_{r}{ }_{\\theta}{ } = \\Gamma^{\\theta}{ }_{\\theta}{ }_{r}{ } = \\Gamma^{\\phi}{ }_{r}{ }_{\\phi}{ } = \\Gamma^{\\phi}{ }_{\\phi}{ }_{r}{ } &= \\frac{1}{r}\\\\[10pt]\\Gamma^{\\theta}{ }_{\\phi}{ }_{\\phi}{ } &= - \\frac{\\sin{\\left(2 \\theta \\right)}}{2}\\\\[10pt]\\Gamma^{\\phi}{ }_{\\theta}{ }_{\\phi}{ } = \\Gamma^{\\phi}{ }_{\\phi}{ }_{\\theta}{ } &= \\frac{1}{\\tan{\\left(\\theta \\right)}}\n",
       " \\end{aligned} \n",
       " $$ \n",
       "\n",
       " </div>"
      ],
      "text/plain": [
       "<IPython.core.display.Markdown object>"
      ]
     },
     "metadata": {},
     "output_type": "display_data"
    }
   ],
   "source": [
    "schwarzschild_cs = schwarzschild.calc_christoffel()\n",
    "schwarzschild_cs.list()"
   ]
  },
  {
   "cell_type": "markdown",
   "metadata": {},
   "source": [
    "<style>\n",
    "h1 {\n",
    "    font-size: 32pt;\n",
    "    color: #875BFF\n",
    "}\n",
    "h2 {\n",
    "    font-size: 24pt;\n",
    "    color: #5B82FF\n",
    "}\n",
    "h3 {\n",
    "    font-size: 20pt;\n",
    "    color: #93ADFF\n",
    "}\n",
    "p {\n",
    "    font-size: 14pt\n",
    "}\n",
    "code {\n",
    "    font-size: 14pt\n",
    "}\n",
    "</style>\n",
    "\n",
    "We do have an issue though. We mentioned earlier that the Christoffel symbols are not true tensors as they do not transform like tensors. To demonstrate this, let us first define a simple metric:"
   ]
  },
  {
   "cell_type": "code",
   "execution_count": null,
   "metadata": {},
   "outputs": [
    {
     "data": {
      "text/markdown": [
       "<div align=center style='font-size:16pt;margin-bottom:12pt'> \n",
       "\n",
       "Simple Metric:\n",
       "\n",
       " </div><div align=center style='font-size:14pt'> \n",
       "\n",
       " $$g_{a}{ }_{b}{ }\\left(t, x, y, z\\right) =\\left(\\begin{matrix}- x & 0 & 0 & 0\\\\0 & 1 & 0 & 0\\\\0 & 0 & 1 & 0\\\\0 & 0 & 0 & 1\\end{matrix}\\right)$$ \n",
       "\n",
       " </div>"
      ],
      "text/plain": [
       "<IPython.core.display.Markdown object>"
      ]
     },
     "metadata": {},
     "output_type": "display_data"
    }
   ],
   "source": [
    "simple_metric = cartesian.new_metric(\n",
    "    name=\"Simple Metric\",\n",
    "    components=sym.Array(\n",
    "        [\n",
    "            [-x, 0, 0, 0],\n",
    "            [0, 1, 0, 0],\n",
    "            [0, 0, 1, 0],\n",
    "            [0, 0, 0, 1]\n",
    "        ]\n",
    "    ),\n",
    ")\n",
    "simple_metric.show()"
   ]
  },
  {
   "cell_type": "markdown",
   "metadata": {},
   "source": [
    "<style>\n",
    "h1 {\n",
    "    font-size: 32pt;\n",
    "    color: #875BFF\n",
    "}\n",
    "h2 {\n",
    "    font-size: 24pt;\n",
    "    color: #5B82FF\n",
    "}\n",
    "h3 {\n",
    "    font-size: 20pt;\n",
    "    color: #93ADFF\n",
    "}\n",
    "p {\n",
    "    font-size: 14pt\n",
    "}\n",
    "code {\n",
    "    font-size: 14pt\n",
    "}\n",
    "</style>\n",
    "\n",
    "Then we can calculate the Christoffel symbols using the built-in method `calc_christoffel()`. Having PyOGRe display the components in both Cartesian and Spherical coordinates gives us the following:"
   ]
  },
  {
   "cell_type": "code",
   "execution_count": null,
   "metadata": {},
   "outputs": [
    {
     "data": {
      "text/markdown": [
       "<div align=center style='font-size:16pt;margin-bottom:12pt'> \n",
       "\n",
       "Simple Metric Christoffel:\n",
       "\n",
       " </div><div align=center style='font-size:14pt'> \n",
       "\n",
       " $$ \n",
       "\\begin{aligned} \n",
       "\\Gamma^{t}{ }_{t}{ }_{x}{ } = \\Gamma^{t}{ }_{x}{ }_{t}{ } &= \\frac{1}{2 x}\\\\[10pt]\\Gamma^{x}{ }_{t}{ }_{t}{ } &= \\frac{1}{2}\n",
       " \\end{aligned} \n",
       " $$ \n",
       "\n",
       " </div>"
      ],
      "text/plain": [
       "<IPython.core.display.Markdown object>"
      ]
     },
     "metadata": {},
     "output_type": "display_data"
    },
    {
     "data": {
      "text/markdown": [
       "<div align=center style='font-size:16pt;margin-bottom:12pt'> \n",
       "\n",
       "Simple Metric Christoffel:\n",
       "\n",
       " </div><div align=center style='font-size:14pt'> \n",
       "\n",
       " $$ \n",
       "\\begin{aligned} \n",
       "\\Gamma^{t}{ }_{t}{ }_{r}{ } = \\Gamma^{t}{ }_{r}{ }_{t}{ } &= \\frac{1}{2 r}\\\\[10pt]\\Gamma^{t}{ }_{t}{ }_{\\theta}{ } = \\Gamma^{t}{ }_{\\theta}{ }_{t}{ } &= \\frac{1}{2 \\tan{\\left(\\theta \\right)}}\\\\[10pt]\\Gamma^{t}{ }_{t}{ }_{\\phi}{ } = \\Gamma^{t}{ }_{\\phi}{ }_{t}{ } &= - \\frac{\\tan{\\left(\\phi \\right)}}{2}\\\\[10pt]\\Gamma^{r}{ }_{t}{ }_{t}{ } &= \\frac{\\sin{\\left(\\theta \\right)} \\cos{\\left(\\phi \\right)}}{2}\\\\[10pt]\\Gamma^{r}{ }_{\\theta}{ }_{\\theta}{ } &= - r\\\\[10pt]\\Gamma^{r}{ }_{\\phi}{ }_{\\phi}{ } &= - r \\sin^{2}{\\left(\\theta \\right)}\\\\[10pt]\\Gamma^{\\theta}{ }_{t}{ }_{t}{ } &= \\frac{\\cos{\\left(\\phi \\right)} \\cos{\\left(\\theta \\right)}}{2 r}\\\\[10pt]\\Gamma^{\\theta}{ }_{r}{ }_{\\theta}{ } = \\Gamma^{\\theta}{ }_{\\theta}{ }_{r}{ } = \\Gamma^{\\phi}{ }_{r}{ }_{\\phi}{ } = \\Gamma^{\\phi}{ }_{\\phi}{ }_{r}{ } &= \\frac{1}{r}\\\\[10pt]\\Gamma^{\\theta}{ }_{\\phi}{ }_{\\phi}{ } &= - \\frac{\\sin{\\left(2 \\theta \\right)}}{2}\\\\[10pt]\\Gamma^{\\phi}{ }_{t}{ }_{t}{ } &= - \\frac{\\sin{\\left(\\phi \\right)}}{2 r \\sin{\\left(\\theta \\right)}}\\\\[10pt]\\Gamma^{\\phi}{ }_{\\theta}{ }_{\\phi}{ } = \\Gamma^{\\phi}{ }_{\\phi}{ }_{\\theta}{ } &= \\frac{1}{\\tan{\\left(\\theta \\right)}}\n",
       " \\end{aligned} \n",
       " $$ \n",
       "\n",
       " </div>"
      ],
      "text/plain": [
       "<IPython.core.display.Markdown object>"
      ]
     },
     "metadata": {},
     "output_type": "display_data"
    }
   ],
   "source": [
    "christoffel_auto = simple_metric.calc_christoffel()\n",
    "christoffel_auto.list()\n",
    "christoffel_auto.list(coords=spherical)"
   ]
  },
  {
   "cell_type": "markdown",
   "metadata": {},
   "source": [
    "<style>\n",
    "h1 {\n",
    "    font-size: 32pt;\n",
    "    color: #875BFF\n",
    "}\n",
    "h2 {\n",
    "    font-size: 24pt;\n",
    "    color: #5B82FF\n",
    "}\n",
    "h3 {\n",
    "    font-size: 20pt;\n",
    "    color: #93ADFF\n",
    "}\n",
    "p {\n",
    "    font-size: 14pt\n",
    "}\n",
    "code {\n",
    "    font-size: 14pt\n",
    "}\n",
    "</style>\n",
    "\n",
    "Let us compare the above result with a manual calculation. First we can calculate the Christoffel symbols manually as we did for the Schwarzschild metric, and the request that PyOGRe display the components in both Cartesian and Spherical coordinates."
   ]
  },
  {
   "cell_type": "code",
   "execution_count": null,
   "metadata": {},
   "outputs": [
    {
     "data": {
      "text/markdown": [
       "<div align=center style='font-size:16pt;margin-bottom:12pt'> \n",
       "\n",
       "Simple Metric Christoffel Manual:\n",
       "\n",
       " </div><div align=center style='font-size:14pt'> \n",
       "\n",
       " $$ \n",
       "\\begin{aligned} \n",
       "\\Gamma^{t}{ }_{t}{ }_{x}{ } = \\Gamma^{t}{ }_{x}{ }_{t}{ } &= \\frac{1}{2 x}\\\\[10pt]\\Gamma^{x}{ }_{t}{ }_{t}{ } &= \\frac{1}{2}\n",
       " \\end{aligned} \n",
       " $$ \n",
       "\n",
       " </div>"
      ],
      "text/plain": [
       "<IPython.core.display.Markdown object>"
      ]
     },
     "metadata": {},
     "output_type": "display_data"
    },
    {
     "data": {
      "text/markdown": [
       "<div align=center style='font-size:16pt;margin-bottom:12pt'> \n",
       "\n",
       "Simple Metric Christoffel Manual:\n",
       "\n",
       " </div><div align=center style='font-size:14pt'> \n",
       "\n",
       " $$ \n",
       "\\begin{aligned} \n",
       "\\Gamma^{t}{ }_{t}{ }_{r}{ } = \\Gamma^{t}{ }_{r}{ }_{t}{ } &= \\frac{1}{2 r}\\\\[10pt]\\Gamma^{t}{ }_{t}{ }_{\\theta}{ } = \\Gamma^{t}{ }_{\\theta}{ }_{t}{ } &= \\frac{1}{2 \\tan{\\left(\\theta \\right)}}\\\\[10pt]\\Gamma^{t}{ }_{t}{ }_{\\phi}{ } = \\Gamma^{t}{ }_{\\phi}{ }_{t}{ } &= - \\frac{\\tan{\\left(\\phi \\right)}}{2}\\\\[10pt]\\Gamma^{r}{ }_{t}{ }_{t}{ } &= \\frac{\\sin{\\left(\\theta \\right)} \\cos{\\left(\\phi \\right)}}{2}\\\\[10pt]\\Gamma^{\\theta}{ }_{t}{ }_{t}{ } &= \\frac{\\cos{\\left(\\phi \\right)} \\cos{\\left(\\theta \\right)}}{2 r}\\\\[10pt]\\Gamma^{\\phi}{ }_{t}{ }_{t}{ } &= - \\frac{\\sin{\\left(\\phi \\right)}}{2 r \\sin{\\left(\\theta \\right)}}\n",
       " \\end{aligned} \n",
       " $$ \n",
       "\n",
       " </div>"
      ],
      "text/plain": [
       "<IPython.core.display.Markdown object>"
      ]
     },
     "metadata": {},
     "output_type": "display_data"
    }
   ],
   "source": [
    "christoffel_manual = og.Calc(\n",
    "    (1/2) * simple_metric(\"a b\") @ (\n",
    "        PartialD(\"c\") @ simple_metric(\"d b\") +\n",
    "        PartialD(\"d\") @ simple_metric(\"b c\") -\n",
    "        PartialD(\"b\") @ simple_metric(\"c d\")\n",
    "    ),\n",
    "    name=\"Simple Metric Christoffel Manual\",\n",
    "    symbol=\"Gamma\"\n",
    ")\n",
    "christoffel_manual.change_default_indices(indices=(1,-1,-1))\n",
    "christoffel_manual.list()\n",
    "christoffel_manual.list(coords=spherical)"
   ]
  },
  {
   "cell_type": "markdown",
   "metadata": {},
   "source": [
    "<style>\n",
    "h1 {\n",
    "    font-size: 32pt;\n",
    "    color: #875BFF\n",
    "}\n",
    "h2 {\n",
    "    font-size: 24pt;\n",
    "    color: #5B82FF\n",
    "}\n",
    "h3 {\n",
    "    font-size: 20pt;\n",
    "    color: #93ADFF\n",
    "}\n",
    "p {\n",
    "    font-size: 14pt\n",
    "}\n",
    "code {\n",
    "    font-size: 14pt\n",
    "}\n",
    "</style>\n",
    "\n",
    "As you can see, calculating the Christoffel symbols in Cartesian coordinates manually agrees with the result of PyOGRe's calculation. However, when transforming the components of the manually calculated Christoffel symbols, we get the wrong answer. This is because PyOGRe does not know that the manually calculated Christoffel symbols do not transform like a tensor.\n",
    "\n",
    "For this reason, when calculating the Christoffel symbols, we should **always** use the built-in method `calc_christoffel()` as PyOGRe will automatically flag the Christoffel symbols as a special tensor object. This then allows PyOGRe to apply the proper transformation rules.\n",
    "\n",
    "As another example, let us first define the **Friedmann–Lemaitre–Robertson–Walker (FLRW) metric**, which describes an expanding universe:"
   ]
  },
  {
   "cell_type": "code",
   "execution_count": null,
   "metadata": {},
   "outputs": [
    {
     "data": {
      "text/markdown": [
       "<div align=center style='font-size:16pt;margin-bottom:12pt'> \n",
       "\n",
       "FLRW:\n",
       "\n",
       " </div><div align=center style='font-size:14pt'> \n",
       "\n",
       " $$g_{a}{ }_{b}{ }\\left(t, r, \\theta, \\phi\\right) =\\left(\\begin{matrix}-1 & 0 & 0 & 0\\\\[1em]0 & \\frac{a^{2}{\\left(t \\right)}}{- k r^{2} + 1} & 0 & 0\\\\[1em]0 & 0 & r^{2} a^{2}{\\left(t \\right)} & 0\\\\[1em]0 & 0 & 0 & r^{2} a^{2}{\\left(t \\right)} \\sin^{2}{\\left(\\theta \\right)}\\end{matrix}\\right)$$ \n",
       "\n",
       " </div>"
      ],
      "text/plain": [
       "<IPython.core.display.Markdown object>"
      ]
     },
     "metadata": {},
     "output_type": "display_data"
    }
   ],
   "source": [
    "a = sym.Function(\"a\")(t)\n",
    "k = sym.symbols(\"k\")\n",
    "flrw = spherical.new_metric(\n",
    "    name=\"FLRW\",\n",
    "    components=sym.Array(\n",
    "        [\n",
    "            [-1, 0, 0, 0],\n",
    "            [0, a**2/(1-k*r**2), 0, 0],\n",
    "            [0, 0, a**2*r**2, 0],\n",
    "            [0, 0, 0, a**2*r**2*sym.sin(theta)**2]\n",
    "        ]\n",
    "    )\n",
    ")\n",
    "flrw.show()"
   ]
  },
  {
   "cell_type": "markdown",
   "metadata": {},
   "source": [
    "<style>\n",
    "h1 {\n",
    "    font-size: 32pt;\n",
    "    color: #875BFF\n",
    "}\n",
    "h2 {\n",
    "    font-size: 24pt;\n",
    "    color: #5B82FF\n",
    "}\n",
    "h3 {\n",
    "    font-size: 20pt;\n",
    "    color: #93ADFF\n",
    "}\n",
    "p {\n",
    "    font-size: 14pt\n",
    "}\n",
    "code {\n",
    "    font-size: 14pt\n",
    "}\n",
    "</style>\n",
    "\n",
    "The function $a(t)$ is the **scale factor** and the parameter **k** is the curvature of the spatial surfaces. That is, $k=-1$ corresponds to positive curvature, $k=0$ corresponds to a flat universe, and $k=1$ corresponds to negative curvature. The Christoffel symbols are then easily calculated by calling the `calc_christoffel()` method on the metric:"
   ]
  },
  {
   "cell_type": "code",
   "execution_count": null,
   "metadata": {},
   "outputs": [
    {
     "data": {
      "text/markdown": [
       "<div align=center style='font-size:16pt;margin-bottom:12pt'> \n",
       "\n",
       "FLRW Christoffel:\n",
       "\n",
       " </div><div align=center style='font-size:14pt'> \n",
       "\n",
       " $$ \n",
       "\\begin{aligned} \n",
       "\\Gamma^{t}{ }_{r}{ }_{r}{ } &= - \\frac{a{\\left(t \\right)} \\frac{d}{d t} a{\\left(t \\right)}}{k r^{2} - 1}\\\\[10pt]\\Gamma^{t}{ }_{\\theta}{ }_{\\theta}{ } &= r^{2} a{\\left(t \\right)} \\frac{d}{d t} a{\\left(t \\right)}\\\\[10pt]\\Gamma^{t}{ }_{\\phi}{ }_{\\phi}{ } &= r^{2} a{\\left(t \\right)} \\sin^{2}{\\left(\\theta \\right)} \\frac{d}{d t} a{\\left(t \\right)}\\\\[10pt]\\Gamma^{r}{ }_{t}{ }_{r}{ } = \\Gamma^{r}{ }_{r}{ }_{t}{ } = \\Gamma^{\\theta}{ }_{t}{ }_{\\theta}{ } = \\Gamma^{\\theta}{ }_{\\theta}{ }_{t}{ } = \\Gamma^{\\phi}{ }_{t}{ }_{\\phi}{ } = \\Gamma^{\\phi}{ }_{\\phi}{ }_{t}{ } &= \\frac{\\frac{d}{d t} a{\\left(t \\right)}}{a{\\left(t \\right)}}\\\\[10pt]\\Gamma^{r}{ }_{r}{ }_{r}{ } &= - \\frac{k r}{k r^{2} - 1}\\\\[10pt]\\Gamma^{r}{ }_{\\theta}{ }_{\\theta}{ } &= k r^{3} - r\\\\[10pt]\\Gamma^{r}{ }_{\\phi}{ }_{\\phi}{ } &= r \\left(k r^{2} - 1\\right) \\sin^{2}{\\left(\\theta \\right)}\\\\[10pt]\\Gamma^{\\theta}{ }_{r}{ }_{\\theta}{ } = \\Gamma^{\\theta}{ }_{\\theta}{ }_{r}{ } = \\Gamma^{\\phi}{ }_{r}{ }_{\\phi}{ } = \\Gamma^{\\phi}{ }_{\\phi}{ }_{r}{ } &= \\frac{1}{r}\\\\[10pt]\\Gamma^{\\theta}{ }_{\\phi}{ }_{\\phi}{ } &= - \\frac{\\sin{\\left(2 \\theta \\right)}}{2}\\\\[10pt]\\Gamma^{\\phi}{ }_{\\theta}{ }_{\\phi}{ } = \\Gamma^{\\phi}{ }_{\\phi}{ }_{\\theta}{ } &= \\frac{1}{\\tan{\\left(\\theta \\right)}}\n",
       " \\end{aligned} \n",
       " $$ \n",
       "\n",
       " </div>"
      ],
      "text/plain": [
       "<IPython.core.display.Markdown object>"
      ]
     },
     "metadata": {},
     "output_type": "display_data"
    }
   ],
   "source": [
    "flrw.calc_christoffel().list()"
   ]
  },
  {
   "cell_type": "markdown",
   "metadata": {},
   "source": [
    "<style>\n",
    "h1 {\n",
    "    font-size: 32pt;\n",
    "    color: #875BFF\n",
    "}\n",
    "h2 {\n",
    "    font-size: 24pt;\n",
    "    color: #5B82FF\n",
    "}\n",
    "h3 {\n",
    "    font-size: 20pt;\n",
    "    color: #93ADFF\n",
    "}\n",
    "p {\n",
    "    font-size: 14pt\n",
    "}\n",
    "code {\n",
    "    font-size: 14pt\n",
    "}\n",
    "</style>\n",
    "\n",
    "### __Covariant Derivative__"
   ]
  },
  {
   "cell_type": "markdown",
   "metadata": {},
   "source": [
    "<style>\n",
    "h1 {\n",
    "    font-size: 32pt;\n",
    "    color: #875BFF\n",
    "}\n",
    "h2 {\n",
    "    font-size: 24pt;\n",
    "    color: #5B82FF\n",
    "}\n",
    "h3 {\n",
    "    font-size: 20pt;\n",
    "    color: #93ADFF\n",
    "}\n",
    "p {\n",
    "    font-size: 14pt\n",
    "}\n",
    "code {\n",
    "    font-size: 14pt\n",
    "}\n",
    "li:not(:last-child) {\n",
    "    margin-bottom: 1em\n",
    "}\n",
    "</style>\n",
    "\n",
    "Since the partial derivative does not transform like a tensor, it is less than ideal for use in general relativity, apart from it being used in a handful of cases such as the Christoffel symbols. The **covariant derivative** $\\nabla_\\mu$ on the other hand, does in-fact transform like a tensor and is simply a generalization of the partial derivative. The covariant derivative can be defined as follows:\n",
    "\n",
    "- For a scalar $s$, the covariant derivative is simply the partial derivative $\\nabla_\\mu s = \\partial_\\mu s$.\n",
    "- For a vector $v^{\\nu}{}$, the covariant derivative is given by $\\nabla_\\mu v^{\\nu}{} = \\partial_\\mu v^{\\nu}{} + \\Gamma^{\\nu}{}_{\\mu}{}_{\\lambda}{} v^{\\lambda}{}$.\n",
    "- For a covector $w_{\\nu}{}$, the covariant derivative is given by $\\nabla_\\mu v_{\\nu}{} = \\partial_\\mu w_{\\nu}{} - \\Gamma^{\\lambda}{}_{\\mu}{}_{\\nu}{} w_{\\lambda}{}$.\n",
    "\n",
    "The above definitions can be generalized to work on a rank $(p,q)$ tensor $T^{a_1 \\ldots a_p}_{b_1 \\ldots b_q}$, giving the covariant derivative $\\nabla_\\mu T^{a_1 \\ldots a_p}_{b_1 \\ldots b_q}$ as:\n",
    "\n",
    "- The partial derivative $\\partial_\\mu T^{a_1 \\ldots a_p}_{b_1 \\ldots b_q}$.\n",
    "- **Adding** one term $\\Gamma^{a_i}{}_{\\mu}{}_{\\lambda}{} T^{a_1 \\ldots \\lambda \\ldots a_p}_{b_1 \\ldots b_q}$ for each upper index $a_i$.\n",
    "- And **subtracting** one term $\\Gamma^{\\lambda}{}_{\\mu}{}_{b_i}{} T^{a_1 \\ldots a_p}_{b_1 \\ldots \\lambda \\ldots b_q}$ for each lower index $b_i$.\n",
    "\n",
    "Even though the above definition includes the partial derivative, it turns out that the covariant derivative does actually transform like a tensor. Under a change of coordinates, the unwanted terms from the partial derivative exactly cancel the additional unwanted terms from the Christoffel symbols. \n",
    "\n",
    "Using PyOGRe, we can manually calculate the covariant derivative just like any other tensor formula. As an example, we can calculate the covariant divergence of the Schwarzschild metric as follows:"
   ]
  },
  {
   "cell_type": "code",
   "execution_count": null,
   "metadata": {},
   "outputs": [
    {
     "data": {
      "text/markdown": [
       "<div align=center style='font-size:16pt;margin-bottom:12pt'> \n",
       "\n",
       "Result:\n",
       "\n",
       " </div><div align=center style='font-size:14pt'> No Non-Zero Elements </div>"
      ],
      "text/plain": [
       "<IPython.core.display.Markdown object>"
      ]
     },
     "metadata": {},
     "output_type": "display_data"
    }
   ],
   "source": [
    "og.Calc(\n",
    "    PartialD(\"a\") @ schwarzschild(\"b c\") -\n",
    "    schwarzschild_cs(\"d a b\") @ schwarzschild(\"d c\") -\n",
    "    schwarzschild_cs(\"d a c\") @ schwarzschild(\"b d\"),\n",
    ").list()"
   ]
  },
  {
   "cell_type": "markdown",
   "metadata": {},
   "source": [
    "<style>\n",
    "h1 {\n",
    "    font-size: 32pt;\n",
    "    color: #875BFF\n",
    "}\n",
    "h2 {\n",
    "    font-size: 24pt;\n",
    "    color: #5B82FF\n",
    "}\n",
    "h3 {\n",
    "    font-size: 20pt;\n",
    "    color: #93ADFF\n",
    "}\n",
    "p {\n",
    "    font-size: 14pt\n",
    "}\n",
    "code {\n",
    "    font-size: 14pt\n",
    "}\n",
    "</style>\n",
    "\n",
    "However, PyOGRe provides a simpler way of calculating the covariant derivative using `CovariantD()`, which will automatically add in the required terms as detailed above for each of the tensor's indices. Using the `CovariantD()` function in a tensor formula is identical to the partial derivative."
   ]
  },
  {
   "cell_type": "code",
   "execution_count": null,
   "metadata": {},
   "outputs": [
    {
     "name": "stdout",
     "output_type": "stream",
     "text": [
      "\n",
      "    (function) CovariantD(index)\n",
      "\n",
      "    Represents the covariant derivative when used within Calc()\n",
      "\n",
      "    `index`: The index of the covariant derivative used in tensor formulae.\n",
      "    \n"
     ]
    }
   ],
   "source": [
    "from PyOGRe import CovariantD\n",
    "print(CovariantD.__doc__)"
   ]
  },
  {
   "cell_type": "markdown",
   "metadata": {},
   "source": [
    "<style>\n",
    "h1 {\n",
    "    font-size: 32pt;\n",
    "    color: #875BFF\n",
    "}\n",
    "h2 {\n",
    "    font-size: 24pt;\n",
    "    color: #5B82FF\n",
    "}\n",
    "h3 {\n",
    "    font-size: 20pt;\n",
    "    color: #93ADFF\n",
    "}\n",
    "p {\n",
    "    font-size: 14pt\n",
    "}\n",
    "code {\n",
    "    font-size: 14pt\n",
    "}\n",
    "</style>\n",
    "\n",
    "As an example, let us re-calculate the covariant divergence of the Schwarzschild metric using `CovariantD()`:"
   ]
  },
  {
   "cell_type": "code",
   "execution_count": null,
   "metadata": {},
   "outputs": [
    {
     "data": {
      "text/markdown": [
       "<div align=center style='font-size:16pt;margin-bottom:12pt'> \n",
       "\n",
       "Result:\n",
       "\n",
       " </div><div align=center style='font-size:14pt'> No Non-Zero Elements </div>"
      ],
      "text/plain": [
       "<IPython.core.display.Markdown object>"
      ]
     },
     "metadata": {},
     "output_type": "display_data"
    }
   ],
   "source": [
    "og.Calc(\n",
    "    CovariantD(\"a\") @ schwarzschild(\"b c\")\n",
    ").list()"
   ]
  },
  {
   "cell_type": "markdown",
   "metadata": {},
   "source": [
    "<style>\n",
    "h1 {\n",
    "    font-size: 32pt;\n",
    "    color: #875BFF\n",
    "}\n",
    "h2 {\n",
    "    font-size: 24pt;\n",
    "    color: #5B82FF\n",
    "}\n",
    "h3 {\n",
    "    font-size: 20pt;\n",
    "    color: #93ADFF\n",
    "}\n",
    "p {\n",
    "    font-size: 14pt\n",
    "}\n",
    "code {\n",
    "    font-size: 14pt\n",
    "}\n",
    "</style>\n",
    "\n",
    "As we can see, the covariant divergence is identically zero for the Schwarschild metric, which should be the case, since as we noted previously, the Levi-Cevita connection preserves the metric. As further proof to this claim, we can calculate the covariant divergence of the FLRW metric and we see that it also vanishes:"
   ]
  },
  {
   "cell_type": "code",
   "execution_count": null,
   "metadata": {},
   "outputs": [
    {
     "data": {
      "text/markdown": [
       "<div align=center style='font-size:16pt;margin-bottom:12pt'> \n",
       "\n",
       "Result:\n",
       "\n",
       " </div><div align=center style='font-size:14pt'> No Non-Zero Elements </div>"
      ],
      "text/plain": [
       "<IPython.core.display.Markdown object>"
      ]
     },
     "metadata": {},
     "output_type": "display_data"
    }
   ],
   "source": [
    "og.Calc(\n",
    "    CovariantD(\"a\") @ flrw(\"b c\")\n",
    ").list()"
   ]
  },
  {
   "cell_type": "markdown",
   "metadata": {},
   "source": [
    "<style>\n",
    "h1 {\n",
    "    font-size: 32pt;\n",
    "    color: #875BFF\n",
    "}\n",
    "h2 {\n",
    "    font-size: 24pt;\n",
    "    color: #5B82FF\n",
    "}\n",
    "h3 {\n",
    "    font-size: 20pt;\n",
    "    color: #93ADFF\n",
    "}\n",
    "p {\n",
    "    font-size: 14pt\n",
    "}\n",
    "code {\n",
    "    font-size: 14pt\n",
    "}\n",
    "</style>\n",
    "\n",
    "## __Curvature Tensors__"
   ]
  },
  {
   "cell_type": "markdown",
   "metadata": {},
   "source": [
    "<style>\n",
    "h1 {\n",
    "    font-size: 32pt;\n",
    "    color: #875BFF\n",
    "}\n",
    "h2 {\n",
    "    font-size: 24pt;\n",
    "    color: #5B82FF\n",
    "}\n",
    "h3 {\n",
    "    font-size: 20pt;\n",
    "    color: #93ADFF\n",
    "}\n",
    "p {\n",
    "    font-size: 14pt\n",
    "}\n",
    "code {\n",
    "    font-size: 14pt\n",
    "}\n",
    "</style>\n",
    "\n",
    "### __Riemann Tensor__"
   ]
  },
  {
   "cell_type": "markdown",
   "metadata": {},
   "source": [
    "<style>\n",
    "h1 {\n",
    "    font-size: 32pt;\n",
    "    color: #875BFF\n",
    "}\n",
    "h2 {\n",
    "    font-size: 24pt;\n",
    "    color: #5B82FF\n",
    "}\n",
    "h3 {\n",
    "    font-size: 20pt;\n",
    "    color: #93ADFF\n",
    "}\n",
    "p {\n",
    "    font-size: 14pt\n",
    "}\n",
    "code {\n",
    "    font-size: 14pt\n",
    "}\n",
    "</style>\n",
    "\n",
    "The **Riemann curvature tensor** $R^{\\rho}{}_{\\sigma}{}_{\\mu}{}_{\\nu}{}$ can be calculated from the Christoffel symbols given the following definition:\n",
    "\n",
    "$$\n",
    "R^{\\rho}{}_{\\sigma}{}_{\\mu}{}_{\\nu}{} =\n",
    "\\partial_\\mu \\Gamma^{\\rho}{}_{\\nu}{}_{\\sigma}{}\n",
    "- \\partial_\\nu \\Gamma^{\\rho}{}_{\\mu}{}_{\\sigma}{}\n",
    "+ \\Gamma^{\\rho}{}_{\\mu}{}_{\\lambda}{} \\Gamma^{\\lambda}{}_{\\nu}{}_{\\sigma}{}\n",
    "- \\Gamma^{\\rho}{}_{\\nu}{}_{\\lambda}{} \\Gamma^{\\lambda}{}_{\\mu}{}_{\\sigma}{}.\n",
    "$$\n",
    "\n",
    "Again, just like the covariant derivative, the Riemann tensor still transforms like a tensor does under a change of coordinates since the unwanted terms from the partial derivatives and Christoffel symbols cancel each other. PyOGRe provides a shorthand method `calc_riemann_tensor()` which can be called on any metric tensor to calculate the Riemann tensor using the above definition. \n",
    "\n",
    "As an example, let us calculate the Riemann tensor for the FLRW metric:"
   ]
  },
  {
   "cell_type": "code",
   "execution_count": null,
   "metadata": {},
   "outputs": [
    {
     "data": {
      "text/markdown": [
       "<div align=center style='font-size:16pt;margin-bottom:12pt'> \n",
       "\n",
       "Schwarzschild Riemann:\n",
       "\n",
       " </div><div align=center style='font-size:14pt'> \n",
       "\n",
       " $$ \n",
       "\\begin{aligned} \n",
       "R^{t}{ }_{r}{ }_{t}{ }_{r}{ } &= \\frac{2 M}{r^{2} \\left(- 2 M + r\\right)}\\\\[10pt]R^{t}{ }_{r}{ }_{r}{ }_{t}{ } &= \\frac{2 M}{r^{2} \\cdot \\left(2 M - r\\right)}\\\\[10pt]R^{t}{ }_{\\theta}{ }_{t}{ }_{\\theta}{ } = -R^{t}{ }_{\\theta}{ }_{\\theta}{ }_{t}{ } = R^{r}{ }_{\\theta}{ }_{r}{ }_{\\theta}{ } = -R^{r}{ }_{\\theta}{ }_{\\theta}{ }_{r}{ } &= - \\frac{M}{r}\\\\[10pt]R^{t}{ }_{\\phi}{ }_{t}{ }_{\\phi}{ } = -R^{t}{ }_{\\phi}{ }_{\\phi}{ }_{t}{ } = R^{r}{ }_{\\phi}{ }_{r}{ }_{\\phi}{ } = -R^{r}{ }_{\\phi}{ }_{\\phi}{ }_{r}{ } &= - \\frac{M \\sin^{2}{\\left(\\theta \\right)}}{r}\\\\[10pt]R^{r}{ }_{t}{ }_{t}{ }_{r}{ } &= \\frac{2 M \\left(- 2 M + r\\right)}{r^{4}}\\\\[10pt]R^{r}{ }_{t}{ }_{r}{ }_{t}{ } &= \\frac{2 M \\left(2 M - r\\right)}{r^{4}}\\\\[10pt]R^{\\theta}{ }_{t}{ }_{t}{ }_{\\theta}{ } = R^{\\phi}{ }_{t}{ }_{t}{ }_{\\phi}{ } &= \\frac{M \\left(2 M - r\\right)}{r^{4}}\\\\[10pt]R^{\\theta}{ }_{t}{ }_{\\theta}{ }_{t}{ } = R^{\\phi}{ }_{t}{ }_{\\phi}{ }_{t}{ } &= \\frac{M \\left(- 2 M + r\\right)}{r^{4}}\\\\[10pt]R^{\\theta}{ }_{r}{ }_{r}{ }_{\\theta}{ } = R^{\\phi}{ }_{r}{ }_{r}{ }_{\\phi}{ } &= \\frac{M}{r^{2} \\left(- 2 M + r\\right)}\\\\[10pt]R^{\\theta}{ }_{r}{ }_{\\theta}{ }_{r}{ } = R^{\\phi}{ }_{r}{ }_{\\phi}{ }_{r}{ } &= \\frac{M}{r^{2} \\cdot \\left(2 M - r\\right)}\\\\[10pt]R^{\\theta}{ }_{\\phi}{ }_{\\theta}{ }_{\\phi}{ } = -R^{\\theta}{ }_{\\phi}{ }_{\\phi}{ }_{\\theta}{ } &= \\frac{2 M \\sin^{2}{\\left(\\theta \\right)}}{r}\\\\[10pt]R^{\\phi}{ }_{\\theta}{ }_{\\theta}{ }_{\\phi}{ } = -R^{\\phi}{ }_{\\theta}{ }_{\\phi}{ }_{\\theta}{ } &= - \\frac{2 M}{r}\n",
       " \\end{aligned} \n",
       " $$ \n",
       "\n",
       " </div>"
      ],
      "text/plain": [
       "<IPython.core.display.Markdown object>"
      ]
     },
     "metadata": {},
     "output_type": "display_data"
    }
   ],
   "source": [
    "schwarzschild.calc_riemann_tensor().list()"
   ]
  },
  {
   "cell_type": "markdown",
   "metadata": {},
   "source": [
    "<style>\n",
    "h1 {\n",
    "    font-size: 32pt;\n",
    "    color: #875BFF\n",
    "}\n",
    "h2 {\n",
    "    font-size: 24pt;\n",
    "    color: #5B82FF\n",
    "}\n",
    "h3 {\n",
    "    font-size: 20pt;\n",
    "    color: #93ADFF\n",
    "}\n",
    "p {\n",
    "    font-size: 14pt\n",
    "}\n",
    "code {\n",
    "    font-size: 14pt\n",
    "}\n",
    "</style>\n",
    "\n",
    "Using the built-in method for calculating the Riemann tensor not only makes the calculation simpler, but it can also be more performant. Whenever PyOGRe calculates any of the pre-defined curvature tensors, PyOGRe will also calculate and store any of the intermediate steps for later use. If any of the prerequisite curvature tensors have already been calculated, then PyOGRe will **not** re-perform the calculation and will instead retrieve the previous result. For this reason, it is recommended to use the built-in methods for calculating any of the curvature tensors instead of calculating them manually.\n",
    "\n",
    "As a final example, we can calculate the **Kretschmann scalar** directly from the Schwarzschild metric, which is simply the norm squared of the Riemann tensor:"
   ]
  },
  {
   "cell_type": "code",
   "execution_count": null,
   "metadata": {},
   "outputs": [
    {
     "data": {
      "text/markdown": [
       "<div align=center style='font-size:16pt;margin-bottom:12pt'> \n",
       "\n",
       "Schwarzschild Riemann Norm Squared:\n",
       "\n",
       " </div><div align=center style='font-size:14pt'> \n",
       "\n",
       " $$\\square\\left(t, r, \\theta, \\phi\\right) =\\frac{48 M^{2}}{r^{6}}$$ \n",
       "\n",
       " </div>"
      ],
      "text/plain": [
       "<IPython.core.display.Markdown object>"
      ]
     },
     "metadata": {},
     "output_type": "display_data"
    }
   ],
   "source": [
    "schwarzschild.calc_riemann_tensor().calc_norm_squared().show()"
   ]
  },
  {
   "cell_type": "markdown",
   "metadata": {},
   "source": [
    "<style>\n",
    "h1 {\n",
    "    font-size: 32pt;\n",
    "    color: #875BFF\n",
    "}\n",
    "h2 {\n",
    "    font-size: 24pt;\n",
    "    color: #5B82FF\n",
    "}\n",
    "h3 {\n",
    "    font-size: 20pt;\n",
    "    color: #93ADFF\n",
    "}\n",
    "p {\n",
    "    font-size: 14pt\n",
    "}\n",
    "code {\n",
    "    font-size: 14pt\n",
    "}\n",
    "</style>\n",
    "\n",
    "### __Ricci Tensor__"
   ]
  },
  {
   "cell_type": "markdown",
   "metadata": {},
   "source": [
    "<style>\n",
    "h1 {\n",
    "    font-size: 32pt;\n",
    "    color: #875BFF\n",
    "}\n",
    "h2 {\n",
    "    font-size: 24pt;\n",
    "    color: #5B82FF\n",
    "}\n",
    "h3 {\n",
    "    font-size: 20pt;\n",
    "    color: #93ADFF\n",
    "}\n",
    "p {\n",
    "    font-size: 14pt\n",
    "}\n",
    "code {\n",
    "    font-size: 14pt\n",
    "}\n",
    "</style>\n",
    "\n",
    "The **Ricci tensor** $R_{\\mu}{}_{\\nu}{}$ is the trace of the first and third indices of the Riemann tensor:\n",
    "\n",
    "$$\n",
    "R_{\\mu}{}_{\\nu}{} = R^{\\lambda}{}_{\\mu}{}_{\\lambda}{}_{\\nu}{}.\n",
    "$$\n",
    "\n",
    "The shorthand method `calc_ricci_tensor()` can be called on any metric tensor to calculate the Ricci tensor using the above definition, just as we did for the Riemann tensor. Let us calculate the Ricci tensor for the FLRW metric as an example:"
   ]
  },
  {
   "cell_type": "code",
   "execution_count": null,
   "metadata": {},
   "outputs": [
    {
     "data": {
      "text/markdown": [
       "<div align=center style='font-size:16pt;margin-bottom:12pt'> \n",
       "\n",
       "Schwarzschild Ricci Tensor:\n",
       "\n",
       " </div><div align=center style='font-size:14pt'> No Non-Zero Elements </div>"
      ],
      "text/plain": [
       "<IPython.core.display.Markdown object>"
      ]
     },
     "metadata": {},
     "output_type": "display_data"
    }
   ],
   "source": [
    "schwarzschild.calc_ricci_tensor().list()"
   ]
  },
  {
   "cell_type": "markdown",
   "metadata": {},
   "source": [
    "<style>\n",
    "h1 {\n",
    "    font-size: 32pt;\n",
    "    color: #875BFF\n",
    "}\n",
    "h2 {\n",
    "    font-size: 24pt;\n",
    "    color: #5B82FF\n",
    "}\n",
    "h3 {\n",
    "    font-size: 20pt;\n",
    "    color: #93ADFF\n",
    "}\n",
    "p {\n",
    "    font-size: 14pt\n",
    "}\n",
    "code {\n",
    "    font-size: 14pt\n",
    "}\n",
    "</style>\n",
    "\n",
    "### __Ricci Scalar__"
   ]
  },
  {
   "cell_type": "markdown",
   "metadata": {},
   "source": [
    "<style>\n",
    "h1 {\n",
    "    font-size: 32pt;\n",
    "    color: #875BFF\n",
    "}\n",
    "h2 {\n",
    "    font-size: 24pt;\n",
    "    color: #5B82FF\n",
    "}\n",
    "h3 {\n",
    "    font-size: 20pt;\n",
    "    color: #93ADFF\n",
    "}\n",
    "p {\n",
    "    font-size: 14pt\n",
    "}\n",
    "code {\n",
    "    font-size: 14pt\n",
    "}\n",
    "</style>\n",
    "\n",
    "In a similar vain, the **Ricci scalar** $R$ is the trace of the Ricci tensor:\n",
    "\n",
    "$$\n",
    "R = R^{\\lambda}{}_{\\lambda}{}.\n",
    "$$\n",
    "\n",
    "The Ricci scalar can be calculated in PyOGRe by simply calling the `calc_ricci_scalar()` method on any metric tensor. Continuing our examples with the FLRW metric, let us calculate the Ricci scalar:"
   ]
  },
  {
   "cell_type": "code",
   "execution_count": null,
   "metadata": {},
   "outputs": [
    {
     "data": {
      "text/markdown": [
       "<div align=center style='font-size:16pt;margin-bottom:12pt'> \n",
       "\n",
       "FLRW Ricci Scalar:\n",
       "\n",
       " </div><div align=center style='font-size:14pt'> \n",
       "\n",
       " $$ \n",
       "\\begin{aligned} \n",
       "R &= \\frac{6 \\left(k + a{\\left(t \\right)} \\frac{d^{2}}{d t^{2}} a{\\left(t \\right)} + \\left(\\frac{d}{d t} a{\\left(t \\right)}\\right)^{2}\\right)}{a^{2}{\\left(t \\right)}}\n",
       " \\end{aligned} \n",
       " $$ \n",
       "\n",
       " </div>"
      ],
      "text/plain": [
       "<IPython.core.display.Markdown object>"
      ]
     },
     "metadata": {},
     "output_type": "display_data"
    }
   ],
   "source": [
    "flrw.calc_ricci_scalar().list()"
   ]
  },
  {
   "cell_type": "markdown",
   "metadata": {},
   "source": [
    "<style>\n",
    "h1 {\n",
    "    font-size: 32pt;\n",
    "    color: #875BFF\n",
    "}\n",
    "h2 {\n",
    "    font-size: 24pt;\n",
    "    color: #5B82FF\n",
    "}\n",
    "h3 {\n",
    "    font-size: 20pt;\n",
    "    color: #93ADFF\n",
    "}\n",
    "p {\n",
    "    font-size: 14pt\n",
    "}\n",
    "code {\n",
    "    font-size: 14pt\n",
    "}\n",
    "</style>\n",
    "\n",
    "### __Einstein Tensor__"
   ]
  },
  {
   "cell_type": "markdown",
   "metadata": {},
   "source": [
    "<style>\n",
    "h1 {\n",
    "    font-size: 32pt;\n",
    "    color: #875BFF\n",
    "}\n",
    "h2 {\n",
    "    font-size: 24pt;\n",
    "    color: #5B82FF\n",
    "}\n",
    "h3 {\n",
    "    font-size: 20pt;\n",
    "    color: #93ADFF\n",
    "}\n",
    "p {\n",
    "    font-size: 14pt\n",
    "}\n",
    "code {\n",
    "    font-size: 14pt\n",
    "}\n",
    "</style>\n",
    "\n",
    "Moving on, the **Einstein tensor** $G_{\\mu}{}_{\\nu}{}$ can be calculated using the following definition:\n",
    "\n",
    "$$\n",
    "G_{\\mu}{}_{\\nu}{} = R_{\\mu}{}_{\\nu}{} - \\cfrac{1}{2} g_{\\mu}{}_{\\nu}{} R.\n",
    "$$\n",
    "\n",
    "As with all the other curvature tensors, PyOGRe provides a shortcut method of calculating the Einstein tensor by calling the `calc_einstein_tensor()` method on any metric tensor. Let us calculate the Einstein tensor for the FLRW metric as an example:"
   ]
  },
  {
   "cell_type": "code",
   "execution_count": null,
   "metadata": {},
   "outputs": [
    {
     "data": {
      "text/markdown": [
       "<div align=center style='font-size:16pt;margin-bottom:12pt'> \n",
       "\n",
       "FLRW Einstein:\n",
       "\n",
       " </div><div align=center style='font-size:14pt'> \n",
       "\n",
       " $$ \n",
       "\\begin{aligned} \n",
       "G_{t}{ }_{t}{ } &= \\frac{3 \\left(k + \\left(\\frac{d}{d t} a{\\left(t \\right)}\\right)^{2}\\right)}{a^{2}{\\left(t \\right)}}\\\\[10pt]G_{r}{ }_{r}{ } &= \\frac{k + 2 a{\\left(t \\right)} \\frac{d^{2}}{d t^{2}} a{\\left(t \\right)} + \\left(\\frac{d}{d t} a{\\left(t \\right)}\\right)^{2}}{k r^{2} - 1}\\\\[10pt]G_{\\theta}{ }_{\\theta}{ } &= r^{2} \\left(- k - 2 a{\\left(t \\right)} \\frac{d^{2}}{d t^{2}} a{\\left(t \\right)} - \\left(\\frac{d}{d t} a{\\left(t \\right)}\\right)^{2}\\right)\\\\[10pt]G_{\\phi}{ }_{\\phi}{ } &= r^{2} \\left(- k - 2 a{\\left(t \\right)} \\frac{d^{2}}{d t^{2}} a{\\left(t \\right)} - \\left(\\frac{d}{d t} a{\\left(t \\right)}\\right)^{2}\\right) \\sin^{2}{\\left(\\theta \\right)}\n",
       " \\end{aligned} \n",
       " $$ \n",
       "\n",
       " </div>"
      ],
      "text/plain": [
       "<IPython.core.display.Markdown object>"
      ]
     },
     "metadata": {},
     "output_type": "display_data"
    }
   ],
   "source": [
    "flrw.calc_einstein_tensor().list()"
   ]
  },
  {
   "cell_type": "markdown",
   "metadata": {},
   "source": [
    "<style>\n",
    "h1 {\n",
    "    font-size: 32pt;\n",
    "    color: #875BFF\n",
    "}\n",
    "h2 {\n",
    "    font-size: 24pt;\n",
    "    color: #5B82FF\n",
    "}\n",
    "h3 {\n",
    "    font-size: 20pt;\n",
    "    color: #93ADFF\n",
    "}\n",
    "p {\n",
    "    font-size: 14pt\n",
    "}\n",
    "code {\n",
    "    font-size: 14pt\n",
    "}\n",
    "</style>\n",
    "\n",
    "### __Weyl Tensor__"
   ]
  },
  {
   "cell_type": "markdown",
   "metadata": {},
   "source": [
    "<style>\n",
    "h1 {\n",
    "    font-size: 32pt;\n",
    "    color: #875BFF\n",
    "}\n",
    "h2 {\n",
    "    font-size: 24pt;\n",
    "    color: #5B82FF\n",
    "}\n",
    "h3 {\n",
    "    font-size: 20pt;\n",
    "    color: #93ADFF\n",
    "}\n",
    "p {\n",
    "    font-size: 14pt\n",
    "}\n",
    "code {\n",
    "    font-size: 14pt\n",
    "}\n",
    "</style>\n",
    "\n",
    "The **Weyl tensor** $C_{\\rho}{}_{\\sigma}{}_{\\mu}{}_{\\nu}{}$ can be calculated using the definition:\n",
    "\n",
    "$$\n",
    "C_{\\rho}{}_{\\sigma}{}_{\\mu}{}_{\\nu}{} = R_{\\rho}{}_{\\sigma}{}_{\\mu}{}_{\\nu}{}\n",
    "- \\cfrac{2}{n - 2} (\n",
    "    R_{\\rho}{}_{\\nu}{} g_{\\sigma}{}_{\\mu}{}\n",
    "    - R_{\\rho}{}_{\\mu}{} g_{\\sigma}{}_{\\nu}{}\n",
    "    + R_{\\sigma}{}_{\\mu}{} g_{\\rho}{}_{\\nu}{}\n",
    "    - R_{\\sigma}{}_{\\nu}{} g_{\\rho}{}_{\\mu}{}\n",
    ")\n",
    "+ \\cfrac{1}{(n-1)(n-2)} (R (g_{\\rho}{}_{\\mu}{} g_{\\sigma}{}_{m}{} - g_{\\rho}{}_{\\nu}{} g_{\\sigma}{}_{\\mu}{})).\n",
    "$$\n",
    "\n",
    "where $n$ is the number of dimensions. Note that the Weyl tensor is only defined in three or more dimensions, but otherwise it is very similar to the Riemann tensor. In PyOGRe, the Weyl tensor can be calculated by using the `calc_weyl_tensor()` method on any metric tensor. Let us calculate the Weyl tensor for the FLRW metric to continue our examples:"
   ]
  },
  {
   "cell_type": "code",
   "execution_count": null,
   "metadata": {},
   "outputs": [
    {
     "data": {
      "text/markdown": [
       "<div align=center style='font-size:16pt;margin-bottom:12pt'> \n",
       "\n",
       "Schwarzschild Weyl Tensor:\n",
       "\n",
       " </div><div align=center style='font-size:14pt'> \n",
       "\n",
       " $$ \n",
       "\\begin{aligned} \n",
       "C_{t}{ }_{r}{ }_{t}{ }_{r}{ } = -C_{t}{ }_{r}{ }_{r}{ }_{t}{ } = -C_{r}{ }_{t}{ }_{t}{ }_{r}{ } = C_{r}{ }_{t}{ }_{r}{ }_{t}{ } &= - \\frac{2 M}{r^{3}}\\\\[10pt]C_{t}{ }_{\\theta}{ }_{t}{ }_{\\theta}{ } = C_{\\theta}{ }_{t}{ }_{\\theta}{ }_{t}{ } &= \\frac{M \\left(- 2 M + r\\right)}{r^{2}}\\\\[10pt]C_{t}{ }_{\\theta}{ }_{\\theta}{ }_{t}{ } = C_{\\theta}{ }_{t}{ }_{t}{ }_{\\theta}{ } &= \\frac{M \\left(2 M - r\\right)}{r^{2}}\\\\[10pt]C_{t}{ }_{\\phi}{ }_{t}{ }_{\\phi}{ } = C_{\\phi}{ }_{t}{ }_{\\phi}{ }_{t}{ } &= \\frac{M \\left(- 2 M + r\\right) \\sin^{2}{\\left(\\theta \\right)}}{r^{2}}\\\\[10pt]C_{t}{ }_{\\phi}{ }_{\\phi}{ }_{t}{ } = C_{\\phi}{ }_{t}{ }_{t}{ }_{\\phi}{ } &= \\frac{M \\left(2 M - r\\right) \\sin^{2}{\\left(\\theta \\right)}}{r^{2}}\\\\[10pt]C_{r}{ }_{\\theta}{ }_{r}{ }_{\\theta}{ } = C_{\\theta}{ }_{r}{ }_{\\theta}{ }_{r}{ } &= \\frac{M}{2 M - r}\\\\[10pt]C_{r}{ }_{\\theta}{ }_{\\theta}{ }_{r}{ } = C_{\\theta}{ }_{r}{ }_{r}{ }_{\\theta}{ } &= \\frac{M}{- 2 M + r}\\\\[10pt]C_{r}{ }_{\\phi}{ }_{r}{ }_{\\phi}{ } = C_{\\phi}{ }_{r}{ }_{\\phi}{ }_{r}{ } &= \\frac{M \\sin^{2}{\\left(\\theta \\right)}}{2 M - r}\\\\[10pt]C_{r}{ }_{\\phi}{ }_{\\phi}{ }_{r}{ } = C_{\\phi}{ }_{r}{ }_{r}{ }_{\\phi}{ } &= \\frac{M \\sin^{2}{\\left(\\theta \\right)}}{- 2 M + r}\\\\[10pt]C_{\\theta}{ }_{\\phi}{ }_{\\theta}{ }_{\\phi}{ } = -C_{\\theta}{ }_{\\phi}{ }_{\\phi}{ }_{\\theta}{ } = -C_{\\phi}{ }_{\\theta}{ }_{\\theta}{ }_{\\phi}{ } = C_{\\phi}{ }_{\\theta}{ }_{\\phi}{ }_{\\theta}{ } &= 2 M r \\sin^{2}{\\left(\\theta \\right)}\n",
       " \\end{aligned} \n",
       " $$ \n",
       "\n",
       " </div>"
      ],
      "text/plain": [
       "<IPython.core.display.Markdown object>"
      ]
     },
     "metadata": {},
     "output_type": "display_data"
    }
   ],
   "source": [
    "ws = schwarzschild.calc_weyl_tensor()\n",
    "ws.list()"
   ]
  },
  {
   "cell_type": "markdown",
   "metadata": {},
   "source": [
    "<style>\n",
    "h1 {\n",
    "    font-size: 32pt;\n",
    "    color: #875BFF\n",
    "}\n",
    "h2 {\n",
    "    font-size: 24pt;\n",
    "    color: #5B82FF\n",
    "}\n",
    "h3 {\n",
    "    font-size: 20pt;\n",
    "    color: #93ADFF\n",
    "}\n",
    "p {\n",
    "    font-size: 14pt\n",
    "}\n",
    "code {\n",
    "    font-size: 14pt\n",
    "}\n",
    "</style>\n",
    "\n",
    "The Weyl tensor is designed so that any possible contraction vanishes, which we can verify for the first two indices as follows:"
   ]
  },
  {
   "cell_type": "code",
   "execution_count": null,
   "metadata": {},
   "outputs": [
    {
     "data": {
      "text/markdown": [
       "<div align=center style='font-size:16pt;margin-bottom:12pt'> \n",
       "\n",
       "Result:\n",
       "\n",
       " </div><div align=center style='font-size:14pt'> No Non-Zero Elements </div>"
      ],
      "text/plain": [
       "<IPython.core.display.Markdown object>"
      ]
     },
     "metadata": {},
     "output_type": "display_data"
    }
   ],
   "source": [
    "og.Calc(\n",
    "    ws(\"a a b c\")\n",
    ").list()"
   ]
  },
  {
   "cell_type": "markdown",
   "metadata": {},
   "source": [
    "<style>\n",
    "h1 {\n",
    "    font-size: 32pt;\n",
    "    color: #875BFF\n",
    "}\n",
    "h2 {\n",
    "    font-size: 24pt;\n",
    "    color: #5B82FF\n",
    "}\n",
    "h3 {\n",
    "    font-size: 20pt;\n",
    "    color: #93ADFF\n",
    "}\n",
    "p {\n",
    "    font-size: 14pt\n",
    "}\n",
    "code {\n",
    "    font-size: 14pt\n",
    "}\n",
    "</style>\n",
    "\n",
    "### __Non-trivial Covariant Derivative Example__"
   ]
  },
  {
   "cell_type": "markdown",
   "metadata": {},
   "source": [
    "<style>\n",
    "h1 {\n",
    "    font-size: 32pt;\n",
    "    color: #875BFF\n",
    "}\n",
    "h2 {\n",
    "    font-size: 24pt;\n",
    "    color: #5B82FF\n",
    "}\n",
    "h3 {\n",
    "    font-size: 20pt;\n",
    "    color: #93ADFF\n",
    "}\n",
    "p {\n",
    "    font-size: 14pt\n",
    "}\n",
    "code {\n",
    "    font-size: 14pt\n",
    "}\n",
    "</style>\n",
    "\n",
    "Before moving on to the next section, let us provide a non-trivial example of the covariant derivative by calculating the **energy-momentum conservation equations** for the FLRW metric. First, let us consider the covariant divergence of the Einstein tensor which is given by:\n",
    "\n",
    "$$\n",
    "\\nabla_\\mu G^{\\mu}{}^{\\nu}{} = \n",
    "\\partial_\\mu G^{\\mu}{}^{\\nu}{} + \\Gamma^{\\mu}{}_{\\mu}{}_{\\lambda}{} G^{\\lambda}{}^{\\nu}{} + \\Gamma^{\\nu}{}_{\\mu}{}_{\\lambda}{} G^{\\mu}{}^{\\lambda}{} = 0.\n",
    "$$\n",
    "\n",
    "The divergence of the Einstein tensor vanishes due to the **Bianchi identity**:\n",
    "\n",
    "$$\n",
    "\\nabla_\\mu R^{\\mu}{}^{\\nu}{} - \\cfrac{1}{2} \\nabla^\\nu R \\rightarrow \\nabla_\\mu G^{\\mu}{}^{\\nu}{} = 0.\n",
    "$$\n",
    "\n",
    "In PyOGRe, this can be calculated as follows:"
   ]
  },
  {
   "cell_type": "code",
   "execution_count": null,
   "metadata": {},
   "outputs": [
    {
     "data": {
      "text/markdown": [
       "<div align=center style='font-size:16pt;margin-bottom:12pt'> \n",
       "\n",
       "Result:\n",
       "\n",
       " </div><div align=center style='font-size:14pt'> No Non-Zero Elements </div>"
      ],
      "text/plain": [
       "<IPython.core.display.Markdown object>"
      ]
     },
     "metadata": {},
     "output_type": "display_data"
    }
   ],
   "source": [
    "flrw_einstein = flrw.calc_einstein_tensor()\n",
    "og.Calc(\n",
    "    CovariantD(\"a\") @ flrw_einstein(\"a b\")\n",
    ").list()"
   ]
  },
  {
   "cell_type": "markdown",
   "metadata": {},
   "source": [
    "<style>\n",
    "h1 {\n",
    "    font-size: 32pt;\n",
    "    color: #875BFF\n",
    "}\n",
    "h2 {\n",
    "    font-size: 24pt;\n",
    "    color: #5B82FF\n",
    "}\n",
    "h3 {\n",
    "    font-size: 20pt;\n",
    "    color: #93ADFF\n",
    "}\n",
    "p {\n",
    "    font-size: 14pt\n",
    "}\n",
    "code {\n",
    "    font-size: 14pt\n",
    "}\n",
    "</style>\n",
    "\n",
    "Next, we note that the stress-energy tensor should be **conserved**, that is:\n",
    "\n",
    "$$\n",
    "\\nabla_\\mu T^{\\mu}{}^{\\nu}{} = \n",
    "\\partial_\\mu T^{\\mu}{}^{\\nu}{} + \\Gamma^{\\mu}{}_{\\mu}{}_{\\lambda}{} T^{\\lambda}{}^{\\nu}{} + \\Gamma^{\\nu}{}_{\\mu}{}_{\\lambda}{} T^{\\mu}{}^{\\lambda}{} = 0.\n",
    "$$\n",
    "\n",
    "This follows from the fact that the divergence of the Einstein tensor vanishes, together with the **Einstein equation**:\n",
    "\n",
    "$$\n",
    "G_{\\mu}{}_{\\nu}{} = \\alpha T_{\\mu}{}_{\\nu}{},\n",
    "$$\n",
    "\n",
    "where the value of $\\alpha$ is dependent on the system of units (we will work with $\\alpha=1$). In order to derive the energy-momentum conservation equations for the FLRW metric, we must first define the stress-energy tensor. To start, we can define the rest-frame 4-velocity $u^{\\mu}{}$:"
   ]
  },
  {
   "cell_type": "code",
   "execution_count": null,
   "metadata": {},
   "outputs": [
    {
     "data": {
      "text/markdown": [
       "<div align=center style='font-size:16pt;margin-bottom:12pt'> \n",
       "\n",
       "FLRW Rest Velocity:\n",
       "\n",
       " </div><div align=center style='font-size:14pt'> \n",
       "\n",
       " $$u^{a}{ }\\left(t, r, \\theta, \\phi\\right) =\\left(\\begin{matrix}1\\\\0\\\\0\\\\0\\end{matrix}\\right)$$ \n",
       "\n",
       " </div>"
      ],
      "text/plain": [
       "<IPython.core.display.Markdown object>"
      ]
     },
     "metadata": {},
     "output_type": "display_data"
    }
   ],
   "source": [
    "flrw_rest_velocity = flrw.new_tensor(\n",
    "    name=\"FLRW Rest Velocity\",\n",
    "    components=sym.Array(\n",
    "        [1, 0, 0, 0]\n",
    "    ),\n",
    "    indices=(1,),\n",
    "    symbol=\"u\"\n",
    ")\n",
    "flrw_rest_velocity.show()"
   ]
  },
  {
   "cell_type": "markdown",
   "metadata": {},
   "source": [
    "<style>\n",
    "h1 {\n",
    "    font-size: 32pt;\n",
    "    color: #875BFF\n",
    "}\n",
    "h2 {\n",
    "    font-size: 24pt;\n",
    "    color: #5B82FF\n",
    "}\n",
    "h3 {\n",
    "    font-size: 20pt;\n",
    "    color: #93ADFF\n",
    "}\n",
    "p {\n",
    "    font-size: 14pt\n",
    "}\n",
    "code {\n",
    "    font-size: 14pt\n",
    "}\n",
    "</style>\n",
    "\n",
    "Then using the four velocity, we can define the stress-energy tensor for a perfect fluid using the formula:\n",
    "\n",
    "$$\n",
    "T^{\\mu}{}^{\\nu}{} = (\\rho + p) u^{\\mu}{} u^{\\nu}{} + p g^{\\mu}{}^{\\nu}{},\n",
    "$$\n",
    "\n",
    "where both $\\rho$ and $p$ can be given a coordinate dependence."
   ]
  },
  {
   "cell_type": "code",
   "execution_count": null,
   "metadata": {},
   "outputs": [
    {
     "data": {
      "text/markdown": [
       "<div align=center style='font-size:16pt;margin-bottom:12pt'> \n",
       "\n",
       "FLRW Perfect Fluid:\n",
       "\n",
       " </div><div align=center style='font-size:14pt'> \n",
       "\n",
       " $$T^{a}{ }^{b}{ }\\left(t, r, \\theta, \\phi\\right) =\\left(\\begin{matrix}\\rho{\\left(t,r,\\theta,\\phi \\right)} & 0 & 0 & 0\\\\[1em]0 & \\frac{\\left(- k r^{2} + 1\\right) p{\\left(t,r,\\theta,\\phi \\right)}}{a^{2}{\\left(t \\right)}} & 0 & 0\\\\[1em]0 & 0 & \\frac{p{\\left(t,r,\\theta,\\phi \\right)}}{r^{2} a^{2}{\\left(t \\right)}} & 0\\\\[1em]0 & 0 & 0 & \\frac{p{\\left(t,r,\\theta,\\phi \\right)}}{r^{2} a^{2}{\\left(t \\right)} \\sin^{2}{\\left(\\theta \\right)}}\\end{matrix}\\right)$$ \n",
       "\n",
       " </div>"
      ],
      "text/plain": [
       "<IPython.core.display.Markdown object>"
      ]
     },
     "metadata": {},
     "output_type": "display_data"
    }
   ],
   "source": [
    "f_rho = sym.Function(\"rho\")(t, r, theta, phi)\n",
    "f_p = sym.Function(\"p\")(t, r, theta, phi)\n",
    "\n",
    "flrw_perfect_fluid = og.Calc(\n",
    "    (f_rho + f_p) * flrw_rest_velocity(\"a\") @ flrw_rest_velocity(\"b\") + f_p * flrw(\"a b\"),\n",
    "    name=\"FLRW Perfect Fluid\",\n",
    "    symbol=\"T\"\n",
    ")\n",
    "flrw_perfect_fluid.show()"
   ]
  },
  {
   "cell_type": "markdown",
   "metadata": {},
   "source": [
    "<style>\n",
    "h1 {\n",
    "    font-size: 32pt;\n",
    "    color: #875BFF\n",
    "}\n",
    "h2 {\n",
    "    font-size: 24pt;\n",
    "    color: #5B82FF\n",
    "}\n",
    "h3 {\n",
    "    font-size: 20pt;\n",
    "    color: #93ADFF\n",
    "}\n",
    "p {\n",
    "    font-size: 14pt\n",
    "}\n",
    "code {\n",
    "    font-size: 14pt\n",
    "}\n",
    "</style>\n",
    "\n",
    "Finally, we can take the covariant divergence of the stress-energy tensor:"
   ]
  },
  {
   "cell_type": "code",
   "execution_count": null,
   "metadata": {},
   "outputs": [
    {
     "data": {
      "text/markdown": [
       "<div align=center style='font-size:16pt;margin-bottom:12pt'> \n",
       "\n",
       "FLRW Conservation:\n",
       "\n",
       " </div><div align=center style='font-size:14pt'> \n",
       "\n",
       " $$ \n",
       "\\begin{aligned} \n",
       "C^{t}{ } &= \\frac{3 \\left(p{\\left(t,r,\\theta,\\phi \\right)} + \\rho{\\left(t,r,\\theta,\\phi \\right)}\\right) \\frac{d}{d t} a{\\left(t \\right)} + a{\\left(t \\right)} \\frac{\\partial}{\\partial t} \\rho{\\left(t,r,\\theta,\\phi \\right)}}{a{\\left(t \\right)}}\\\\[10pt]C^{r}{ } &= \\frac{\\left(- k r^{2} + 1\\right) \\frac{\\partial}{\\partial r} p{\\left(t,r,\\theta,\\phi \\right)}}{a^{2}{\\left(t \\right)}}\\\\[10pt]C^{\\theta}{ } &= \\frac{\\frac{\\partial}{\\partial \\theta} p{\\left(t,r,\\theta,\\phi \\right)}}{r^{2} a^{2}{\\left(t \\right)}}\\\\[10pt]C^{\\phi}{ } &= \\frac{\\frac{\\partial}{\\partial \\phi} p{\\left(t,r,\\theta,\\phi \\right)}}{r^{2} a^{2}{\\left(t \\right)} \\sin^{2}{\\left(\\theta \\right)}}\n",
       " \\end{aligned} \n",
       " $$ \n",
       "\n",
       " </div>"
      ],
      "text/plain": [
       "<IPython.core.display.Markdown object>"
      ]
     },
     "metadata": {},
     "output_type": "display_data"
    }
   ],
   "source": [
    "flrw_conservation = og.Calc(\n",
    "    CovariantD(\"a\") @ flrw_perfect_fluid(\"a b\"),\n",
    "    name=\"FLRW Conservation\",\n",
    "    symbol=\"C\"\n",
    ")\n",
    "flrw_conservation.list()"
   ]
  },
  {
   "cell_type": "markdown",
   "metadata": {},
   "source": [
    "<style>\n",
    "h1 {\n",
    "    font-size: 32pt;\n",
    "    color: #875BFF\n",
    "}\n",
    "h2 {\n",
    "    font-size: 24pt;\n",
    "    color: #5B82FF\n",
    "}\n",
    "h3 {\n",
    "    font-size: 20pt;\n",
    "    color: #93ADFF\n",
    "}\n",
    "p {\n",
    "    font-size: 14pt\n",
    "}\n",
    "code {\n",
    "    font-size: 14pt\n",
    "}\n",
    "</style>\n",
    "\n",
    "By requiring the $t$ component vanishes, we find the following equation:\n",
    "\n",
    "$$\n",
    "\\dot{\\rho} = -3 (\\rho + p) \\cfrac{\\dot{a}}{a}\n",
    "$$\n",
    "\n",
    "That is, in an expanding universe, energy is **not** conserved, but instead the energy density changes in a way that is dependent on the scale factor. Should the universe not be expanding, the $\\dot{a}=0$ and energy is once again conserved."
   ]
  },
  {
   "cell_type": "markdown",
   "metadata": {},
   "source": [
    "<style>\n",
    "h1 {\n",
    "    font-size: 32pt;\n",
    "    color: #875BFF\n",
    "}\n",
    "h2 {\n",
    "    font-size: 24pt;\n",
    "    color: #5B82FF\n",
    "}\n",
    "h3 {\n",
    "    font-size: 20pt;\n",
    "    color: #93ADFF\n",
    "}\n",
    "p {\n",
    "    font-size: 14pt\n",
    "}\n",
    "code {\n",
    "    font-size: 14pt\n",
    "}\n",
    "</style>\n",
    "\n",
    "# __Curves and Geodesics__"
   ]
  },
  {
   "cell_type": "markdown",
   "metadata": {},
   "source": [
    "<style>\n",
    "h1 {\n",
    "    font-size: 32pt;\n",
    "    color: #875BFF\n",
    "}\n",
    "h2 {\n",
    "    font-size: 24pt;\n",
    "    color: #5B82FF\n",
    "}\n",
    "h3 {\n",
    "    font-size: 20pt;\n",
    "    color: #93ADFF\n",
    "}\n",
    "p {\n",
    "    font-size: 14pt\n",
    "}\n",
    "code {\n",
    "    font-size: 14pt\n",
    "}\n",
    "</style>\n",
    "\n",
    "The next major feature of PyOGRe is the ability to calculate geodesic equations. The geodesic equations describe the **worldline** of a particle that is free from all external forces, and they are dependent on the geometry of the spacetime."
   ]
  },
  {
   "cell_type": "markdown",
   "metadata": {},
   "source": [
    "<style>\n",
    "h1 {\n",
    "    font-size: 32pt;\n",
    "    color: #875BFF\n",
    "}\n",
    "h2 {\n",
    "    font-size: 24pt;\n",
    "    color: #5B82FF\n",
    "}\n",
    "h3 {\n",
    "    font-size: 20pt;\n",
    "    color: #93ADFF\n",
    "}\n",
    "p {\n",
    "    font-size: 14pt\n",
    "}\n",
    "code {\n",
    "    font-size: 14pt\n",
    "}\n",
    "</style>\n",
    "\n",
    "## __Setting the Curve Parameter__"
   ]
  },
  {
   "cell_type": "markdown",
   "metadata": {},
   "source": [
    "<style>\n",
    "h1 {\n",
    "    font-size: 32pt;\n",
    "    color: #875BFF\n",
    "}\n",
    "h2 {\n",
    "    font-size: 24pt;\n",
    "    color: #5B82FF\n",
    "}\n",
    "h3 {\n",
    "    font-size: 20pt;\n",
    "    color: #93ADFF\n",
    "}\n",
    "p {\n",
    "    font-size: 14pt\n",
    "}\n",
    "code {\n",
    "    font-size: 14pt\n",
    "}\n",
    "</style>\n",
    "\n",
    "Before we start calculating geodesics, it may be useful to choose a **curve parameter**. By default, PyOGRe will use $\\lambda$ to parameterize the geodesic equations, but this may be changed using the `set_curve_parameter()` function."
   ]
  },
  {
   "cell_type": "code",
   "execution_count": null,
   "metadata": {},
   "outputs": [
    {
     "name": "stdout",
     "output_type": "stream",
     "text": [
      "\n",
      "    (function) set_curve_parameter(symbol)\n",
      "\n",
      "    This function will either print the existing curve parameter, or will overwrite it if an argument is given.\n",
      "\n",
      "    `symbol`: The symbol to set as the curve parameter. Supplying an argument of 'automatic' will set the index letters to the default.\n",
      "    \n"
     ]
    }
   ],
   "source": [
    "print(og.set_curve_parameter.__doc__)"
   ]
  },
  {
   "cell_type": "markdown",
   "metadata": {},
   "source": [
    "<style>\n",
    "h1 {\n",
    "    font-size: 32pt;\n",
    "    color: #875BFF\n",
    "}\n",
    "h2 {\n",
    "    font-size: 24pt;\n",
    "    color: #5B82FF\n",
    "}\n",
    "h3 {\n",
    "    font-size: 20pt;\n",
    "    color: #93ADFF\n",
    "}\n",
    "p {\n",
    "    font-size: 14pt\n",
    "}\n",
    "code {\n",
    "    font-size: 14pt\n",
    "}\n",
    "</style>\n",
    "\n",
    "To see the current curve parameter, we can call the function with no argument:"
   ]
  },
  {
   "cell_type": "code",
   "execution_count": null,
   "metadata": {},
   "outputs": [
    {
     "data": {
      "text/markdown": [
       "$\\lambda$"
      ],
      "text/plain": [
       "<IPython.core.display.Markdown object>"
      ]
     },
     "metadata": {},
     "output_type": "display_data"
    }
   ],
   "source": [
    "og.set_curve_parameter()"
   ]
  },
  {
   "cell_type": "markdown",
   "metadata": {},
   "source": [
    "<style>\n",
    "h1 {\n",
    "    font-size: 32pt;\n",
    "    color: #875BFF\n",
    "}\n",
    "h2 {\n",
    "    font-size: 24pt;\n",
    "    color: #5B82FF\n",
    "}\n",
    "h3 {\n",
    "    font-size: 20pt;\n",
    "    color: #93ADFF\n",
    "}\n",
    "p {\n",
    "    font-size: 14pt\n",
    "}\n",
    "code {\n",
    "    font-size: 14pt\n",
    "}\n",
    "</style>\n",
    "\n",
    "To change the parameter, we can call the function with a string which will be used to define the curve parameter, or a SymPy symbol:"
   ]
  },
  {
   "cell_type": "code",
   "execution_count": null,
   "metadata": {},
   "outputs": [
    {
     "data": {
      "text/markdown": [
       "$\\kappa$"
      ],
      "text/plain": [
       "<IPython.core.display.Markdown object>"
      ]
     },
     "metadata": {},
     "output_type": "display_data"
    }
   ],
   "source": [
    "og.set_curve_parameter(\"kappa\")"
   ]
  },
  {
   "cell_type": "code",
   "execution_count": null,
   "metadata": {},
   "outputs": [
    {
     "data": {
      "text/markdown": [
       "$\\tau$"
      ],
      "text/plain": [
       "<IPython.core.display.Markdown object>"
      ]
     },
     "metadata": {},
     "output_type": "display_data"
    }
   ],
   "source": [
    "og.set_curve_parameter(sym.symbols(\"tau\"))"
   ]
  },
  {
   "cell_type": "markdown",
   "metadata": {},
   "source": [
    "<style>\n",
    "h1 {\n",
    "    font-size: 32pt;\n",
    "    color: #875BFF\n",
    "}\n",
    "h2 {\n",
    "    font-size: 24pt;\n",
    "    color: #5B82FF\n",
    "}\n",
    "h3 {\n",
    "    font-size: 20pt;\n",
    "    color: #93ADFF\n",
    "}\n",
    "p {\n",
    "    font-size: 14pt\n",
    "}\n",
    "code {\n",
    "    font-size: 14pt\n",
    "}\n",
    "</style>\n",
    "\n",
    "To reset the curve parameter to the default value $\\lambda$, we can call the function with \"automatic\" as the argument:"
   ]
  },
  {
   "cell_type": "code",
   "execution_count": null,
   "metadata": {},
   "outputs": [
    {
     "data": {
      "text/markdown": [
       "$\\lambda$"
      ],
      "text/plain": [
       "<IPython.core.display.Markdown object>"
      ]
     },
     "metadata": {},
     "output_type": "display_data"
    }
   ],
   "source": [
    "og.set_curve_parameter(\"automatic\")"
   ]
  },
  {
   "cell_type": "markdown",
   "metadata": {},
   "source": [
    "<style>\n",
    "h1 {\n",
    "    font-size: 32pt;\n",
    "    color: #875BFF\n",
    "}\n",
    "h2 {\n",
    "    font-size: 24pt;\n",
    "    color: #5B82FF\n",
    "}\n",
    "h3 {\n",
    "    font-size: 20pt;\n",
    "    color: #93ADFF\n",
    "}\n",
    "p {\n",
    "    font-size: 14pt\n",
    "}\n",
    "code {\n",
    "    font-size: 14pt\n",
    "}\n",
    "</style>\n",
    "\n",
    "## __The Curve Lagrangian__"
   ]
  },
  {
   "cell_type": "markdown",
   "metadata": {},
   "source": [
    "<style>\n",
    "h1 {\n",
    "    font-size: 32pt;\n",
    "    color: #875BFF\n",
    "}\n",
    "h2 {\n",
    "    font-size: 24pt;\n",
    "    color: #5B82FF\n",
    "}\n",
    "h3 {\n",
    "    font-size: 20pt;\n",
    "    color: #93ADFF\n",
    "}\n",
    "p {\n",
    "    font-size: 14pt\n",
    "}\n",
    "code {\n",
    "    font-size: 14pt\n",
    "}\n",
    "</style>\n",
    "\n",
    "Let us assume we are given a **curve** that is a function $x^{\\mu}{}(\\lambda)$ in the given spacetime, where $\\lambda$ is the curve parameter. Then, the **curve Lagrangian** of the metric is defined to be the norm squared of the tangent to said curve:\n",
    "\n",
    "$$\n",
    "L = g^{\\mu}{}^{\\nu}{} \\dot{x}^{\\mu}{} \\dot{x}^{\\nu}{},\n",
    "$$\n",
    "\n",
    "where $\\dot{x}^{\\mu}{}$ is the first derivative of $x^{\\mu}{}$ with respect to the curve parameter using Newtownian dot notation. In PyOGRe, the curve lagrangian can be calculated using the `calc_lagrangian()` method on a metric. As an example, below is the curve lagrangian of the Minkowski metric:"
   ]
  },
  {
   "cell_type": "code",
   "execution_count": null,
   "metadata": {},
   "outputs": [
    {
     "data": {
      "text/markdown": [
       "<div align=center style='font-size:16pt;margin-bottom:12pt'> \n",
       "\n",
       "Minkowski Lagrangian:\n",
       "\n",
       " </div><div align=center style='font-size:14pt'> \n",
       "\n",
       " $$L\\left(t, x, y, z\\right) =- \\dot{t}^{2} + \\dot{x}^{2} + \\dot{y}^{2} + \\dot{z}^{2}$$ \n",
       "\n",
       " </div>"
      ],
      "text/plain": [
       "<IPython.core.display.Markdown object>"
      ]
     },
     "metadata": {},
     "output_type": "display_data"
    }
   ],
   "source": [
    "minkowski.calc_lagrangian().show()"
   ]
  },
  {
   "cell_type": "markdown",
   "metadata": {},
   "source": [
    "<style>\n",
    "h1 {\n",
    "    font-size: 32pt;\n",
    "    color: #875BFF\n",
    "}\n",
    "h2 {\n",
    "    font-size: 24pt;\n",
    "    color: #5B82FF\n",
    "}\n",
    "h3 {\n",
    "    font-size: 20pt;\n",
    "    color: #93ADFF\n",
    "}\n",
    "p {\n",
    "    font-size: 14pt\n",
    "}\n",
    "code {\n",
    "    font-size: 14pt\n",
    "}\n",
    "</style>\n",
    "\n",
    "Just like any other object in PyOGRe, we can have PyOGRe display the curve lagrangian in any coordinate system as long as the transformation rules are supplied:"
   ]
  },
  {
   "cell_type": "code",
   "execution_count": null,
   "metadata": {},
   "outputs": [
    {
     "data": {
      "text/markdown": [
       "<div align=center style='font-size:16pt;margin-bottom:12pt'> \n",
       "\n",
       "Minkowski Lagrangian:\n",
       "\n",
       " </div><div align=center style='font-size:14pt'> \n",
       "\n",
       " $$L\\left(t, r, \\theta, \\phi\\right) =\\dot{\\phi}^{2} r^{2} \\sin^{2}{\\left(\\theta \\right)} + r^{2} \\dot{\\theta}^{2} + \\dot{r}^{2} - \\dot{t}^{2}$$ \n",
       "\n",
       " </div>"
      ],
      "text/plain": [
       "<IPython.core.display.Markdown object>"
      ]
     },
     "metadata": {},
     "output_type": "display_data"
    },
    {
     "data": {
      "text/markdown": [
       "<div align=center style='font-size:16pt;margin-bottom:12pt'> \n",
       "\n",
       "Minkowski Lagrangian:\n",
       "\n",
       " </div><div align=center style='font-size:14pt'> \n",
       "\n",
       " $$L\\left(t, r, \\theta, \\phi\\right) =\\dot{\\phi}^{2} r^{2} \\sin^{2}{\\left(\\theta \\right)} + r^{2} \\dot{\\theta}^{2} + \\dot{r}^{2} - \\dot{t}^{2}$$ \n",
       "\n",
       " </div>"
      ],
      "text/plain": [
       "<IPython.core.display.Markdown object>"
      ]
     },
     "metadata": {},
     "output_type": "display_data"
    }
   ],
   "source": [
    "minkowski.calc_lagrangian().show(coords=spherical)\n",
    "minkowski.calc_lagrangian(coords=spherical).show()"
   ]
  },
  {
   "cell_type": "markdown",
   "metadata": {},
   "source": [
    "<style>\n",
    "h1 {\n",
    "    font-size: 32pt;\n",
    "    color: #875BFF\n",
    "}\n",
    "h2 {\n",
    "    font-size: 24pt;\n",
    "    color: #5B82FF\n",
    "}\n",
    "h3 {\n",
    "    font-size: 20pt;\n",
    "    color: #93ADFF\n",
    "}\n",
    "p {\n",
    "    font-size: 14pt\n",
    "}\n",
    "code {\n",
    "    font-size: 14pt\n",
    "}\n",
    "</style>\n",
    "\n",
    "As a final example, we can calculate the curve lagrangian of both the Schwarzschild metric and the FLRW metric:"
   ]
  },
  {
   "cell_type": "code",
   "execution_count": null,
   "metadata": {},
   "outputs": [
    {
     "data": {
      "text/markdown": [
       "<div align=center style='font-size:16pt;margin-bottom:12pt'> \n",
       "\n",
       "Schwarzschild Lagrangian:\n",
       "\n",
       " </div><div align=center style='font-size:14pt'> \n",
       "\n",
       " $$ \n",
       "\\begin{aligned} \n",
       "L &= \\frac{r^{3} \\cdot \\left(2 M - r\\right) \\left(\\dot{\\phi}^{2} \\sin^{2}{\\left(\\theta \\right)} + \\dot{\\theta}^{2}\\right) - r^{2} \\dot{r}^{2} + \\dot{t}^{2} \\left(2 M - r\\right)^{2}}{r \\left(2 M - r\\right)}\n",
       " \\end{aligned} \n",
       " $$ \n",
       "\n",
       " </div>"
      ],
      "text/plain": [
       "<IPython.core.display.Markdown object>"
      ]
     },
     "metadata": {},
     "output_type": "display_data"
    },
    {
     "data": {
      "text/markdown": [
       "<div align=center style='font-size:16pt;margin-bottom:12pt'> \n",
       "\n",
       "FLRW Lagrangian:\n",
       "\n",
       " </div><div align=center style='font-size:14pt'> \n",
       "\n",
       " $$L\\left(t, r, \\theta, \\phi\\right) =\\frac{- \\dot{r}^{2} a^{2}{\\left(t \\right)} + \\left(k r^{2} - 1\\right) \\left(\\dot{\\phi}^{2} r^{2} a^{2}{\\left(t \\right)} \\sin^{2}{\\left(\\theta \\right)} + r^{2} \\dot{\\theta}^{2} a^{2}{\\left(t \\right)} - \\dot{t}^{2}\\right)}{k r^{2} - 1}$$ \n",
       "\n",
       " </div>"
      ],
      "text/plain": [
       "<IPython.core.display.Markdown object>"
      ]
     },
     "metadata": {},
     "output_type": "display_data"
    }
   ],
   "source": [
    "schwarzschild.calc_lagrangian().list()\n",
    "flrw.calc_lagrangian().show()"
   ]
  },
  {
   "cell_type": "markdown",
   "metadata": {},
   "source": [
    "<style>\n",
    "h1 {\n",
    "    font-size: 32pt;\n",
    "    color: #875BFF\n",
    "}\n",
    "h2 {\n",
    "    font-size: 24pt;\n",
    "    color: #5B82FF\n",
    "}\n",
    "h3 {\n",
    "    font-size: 20pt;\n",
    "    color: #93ADFF\n",
    "}\n",
    "p {\n",
    "    font-size: 14pt\n",
    "}\n",
    "code {\n",
    "    font-size: 14pt\n",
    "}\n",
    "</style>\n",
    "\n",
    "## __Geodesics From the Lagrangian__"
   ]
  },
  {
   "cell_type": "markdown",
   "metadata": {},
   "source": [
    "<style>\n",
    "h1 {\n",
    "    font-size: 32pt;\n",
    "    color: #875BFF\n",
    "}\n",
    "h2 {\n",
    "    font-size: 24pt;\n",
    "    color: #5B82FF\n",
    "}\n",
    "h3 {\n",
    "    font-size: 20pt;\n",
    "    color: #93ADFF\n",
    "}\n",
    "p {\n",
    "    font-size: 14pt\n",
    "}\n",
    "code {\n",
    "    font-size: 14pt\n",
    "}\n",
    "</style>\n",
    "\n",
    "Once we have the curve lagrangian, we can calculate the geodesic equations from it using the **Euler-Lagrange** equations:\n",
    "\n",
    "$$\n",
    "\\cfrac{\\partial L}{\\partial x^{\\mu}{}} - \\cfrac{\\text{d}}{\\text{d} \\lambda} \\left( \\cfrac{\\partial L}{\\partial \\dot{x}^{\\mu}{}} \\right) = 0\n",
    "$$\n",
    "\n",
    "In PyOGRe, we can calculate the geodesic equations from the Euler-Lagrange equations by calling the `calc_geodesic_from_lagrangian()` method on a metric. So, for the Minkowski metric, we get:"
   ]
  },
  {
   "cell_type": "code",
   "execution_count": null,
   "metadata": {},
   "outputs": [
    {
     "data": {
      "text/markdown": [
       "<div align=center style='font-size:16pt;margin-bottom:12pt'> \n",
       "\n",
       "Minkowski:\n",
       "\n",
       " </div><div align=center style='font-size:14pt'> \n",
       "\n",
       " $$\\eta_{a}{ }_{b}{ }\\left(t, x, y, z\\right) =\\left(\\begin{matrix}-1 & 0 & 0 & 0\\\\0 & 1 & 0 & 0\\\\0 & 0 & 1 & 0\\\\0 & 0 & 0 & 1\\end{matrix}\\right)$$ \n",
       "\n",
       " </div>"
      ],
      "text/plain": [
       "<IPython.core.display.Markdown object>"
      ]
     },
     "metadata": {},
     "output_type": "display_data"
    }
   ],
   "source": [
    "minkowski.show()"
   ]
  },
  {
   "cell_type": "code",
   "execution_count": null,
   "metadata": {},
   "outputs": [
    {
     "data": {
      "text/markdown": [
       "<div align=center style='font-size:16pt;margin-bottom:12pt'> \n",
       "\n",
       "Minkowski Geodesic From Lagrangian:\n",
       "\n",
       " </div><div align=center style='font-size:14pt'> \n",
       "\n",
       " $$ \n",
       "\\begin{aligned} \n",
       "0^{t}{ } &= - \\ddot{t}\\\\[10pt]0^{x}{ } &= \\ddot{x}\\\\[10pt]0^{y}{ } &= \\ddot{y}\\\\[10pt]0^{z}{ } &= \\ddot{z}\n",
       " \\end{aligned} \n",
       " $$ \n",
       "\n",
       " </div>"
      ],
      "text/plain": [
       "<IPython.core.display.Markdown object>"
      ]
     },
     "metadata": {},
     "output_type": "display_data"
    }
   ],
   "source": [
    "minkowski.calc_geodesic_from_lagrangian().list()"
   ]
  },
  {
   "cell_type": "markdown",
   "metadata": {},
   "source": [
    "<style>\n",
    "h1 {\n",
    "    font-size: 32pt;\n",
    "    color: #875BFF\n",
    "}\n",
    "h2 {\n",
    "    font-size: 24pt;\n",
    "    color: #5B82FF\n",
    "}\n",
    "h3 {\n",
    "    font-size: 20pt;\n",
    "    color: #93ADFF\n",
    "}\n",
    "p {\n",
    "    font-size: 14pt\n",
    "}\n",
    "code {\n",
    "    font-size: 14pt\n",
    "}\n",
    "</style>\n",
    "\n",
    "Notice that the coordinate dependence on the curve parameter is not included when using the `show()` or `list()` methods. If instead we requested the components as a SymPy array, the curve parameter dependence would become clear:"
   ]
  },
  {
   "cell_type": "code",
   "execution_count": null,
   "metadata": {},
   "outputs": [
    {
     "data": {
      "text/latex": [
       "$\\displaystyle \\left[\\begin{matrix}- \\ddot{t}{\\left(\\lambda \\right)} & \\ddot{x}{\\left(\\lambda \\right)} & \\ddot{y}{\\left(\\lambda \\right)} & \\ddot{z}{\\left(\\lambda \\right)}\\end{matrix}\\right]$"
      ],
      "text/plain": [
       "[-tddot(lambda), xddot(lambda), yddot(lambda), zddot(lambda)]"
      ]
     },
     "execution_count": 109,
     "metadata": {},
     "output_type": "execute_result"
    }
   ],
   "source": [
    "minkowski.calc_geodesic_from_lagrangian().get_components()"
   ]
  },
  {
   "cell_type": "markdown",
   "metadata": {},
   "source": [
    "<style>\n",
    "h1 {\n",
    "    font-size: 32pt;\n",
    "    color: #875BFF\n",
    "}\n",
    "h2 {\n",
    "    font-size: 24pt;\n",
    "    color: #5B82FF\n",
    "}\n",
    "h3 {\n",
    "    font-size: 20pt;\n",
    "    color: #93ADFF\n",
    "}\n",
    "p {\n",
    "    font-size: 14pt\n",
    "}\n",
    "code {\n",
    "    font-size: 14pt\n",
    "}\n",
    "</style>\n",
    "\n",
    "Next, for the Schwarzschild metric, we get:"
   ]
  },
  {
   "cell_type": "code",
   "execution_count": null,
   "metadata": {},
   "outputs": [
    {
     "data": {
      "text/markdown": [
       "<div align=center style='font-size:16pt;margin-bottom:12pt'> \n",
       "\n",
       "Schwarzschild Geodesic From Lagrangian:\n",
       "\n",
       " </div><div align=center style='font-size:14pt'> \n",
       "\n",
       " $$ \n",
       "\\begin{aligned} \n",
       "0^{t}{ } &= - \\ddot{t} + \\frac{2 \\ddot{t}}{r} - \\frac{2 \\dot{r} \\dot{t}}{r^{2}}\\\\[10pt]0^{r}{ } &= r^{4} \\ddot{r} - 2 r^{3} \\ddot{r} - r^{2} \\dot{r}^{2} + r^{2} \\dot{t}^{2} - 4 r \\dot{t}^{2} + 4 \\dot{t}^{2}\n",
       " \\end{aligned} \n",
       " $$ \n",
       "\n",
       " </div>"
      ],
      "text/plain": [
       "<IPython.core.display.Markdown object>"
      ]
     },
     "metadata": {},
     "output_type": "display_data"
    }
   ],
   "source": [
    "schwarzschild.calc_geodesic_from_lagrangian().list(replace={M: 1, theta: 0, phi: 0})"
   ]
  },
  {
   "cell_type": "markdown",
   "metadata": {},
   "source": [
    "<style>\n",
    "h1 {\n",
    "    font-size: 32pt;\n",
    "    color: #875BFF\n",
    "}\n",
    "h2 {\n",
    "    font-size: 24pt;\n",
    "    color: #5B82FF\n",
    "}\n",
    "h3 {\n",
    "    font-size: 20pt;\n",
    "    color: #93ADFF\n",
    "}\n",
    "p {\n",
    "    font-size: 14pt\n",
    "}\n",
    "code {\n",
    "    font-size: 14pt\n",
    "}\n",
    "</style>\n",
    "\n",
    "Notice that we were also able to supply substitutions to the geodesic equations. When performing substitutions in the geodesic equations, PyOGRe will automatically perform the substitutions for any derivatives as well. In the above example, since we substituted $\\theta=0$ and $\\phi=0$, PyOGRe automatically knew to substitute $\\dot{\\theta} = \\ddot{\\theta} = \\dot{\\phi} = \\ddot{\\phi} = 0$ as well.\n",
    "\n",
    "As a final example, the geodesic equations for the FLRW metric with $k=0$, $\\theta=0$, and $\\phi=0$ are given by:"
   ]
  },
  {
   "cell_type": "code",
   "execution_count": null,
   "metadata": {},
   "outputs": [
    {
     "data": {
      "text/markdown": [
       "<div align=center style='font-size:16pt;margin-bottom:12pt'> \n",
       "\n",
       "FLRW Geodesic From Lagrangian:\n",
       "\n",
       " </div><div align=center style='font-size:14pt'> \n",
       "\n",
       " $$ \n",
       "\\begin{aligned} \n",
       "0^{t}{ } &= \\dot{r}^{2} a{\\left(t \\right)} \\frac{d}{d t} a{\\left(t \\right)} + \\ddot{t}\\\\[10pt]0^{r}{ } &= \\left(\\ddot{r} a{\\left(t \\right)} + 2 \\dot{r} \\dot{t} \\frac{d}{d t} a{\\left(t \\right)}\\right) a{\\left(t \\right)}\n",
       " \\end{aligned} \n",
       " $$ \n",
       "\n",
       " </div>"
      ],
      "text/plain": [
       "<IPython.core.display.Markdown object>"
      ]
     },
     "metadata": {},
     "output_type": "display_data"
    }
   ],
   "source": [
    "flrw.calc_geodesic_from_lagrangian().list(replace={k: 0, theta: 0, phi: 0})"
   ]
  },
  {
   "cell_type": "markdown",
   "metadata": {},
   "source": [
    "<style>\n",
    "h1 {\n",
    "    font-size: 32pt;\n",
    "    color: #875BFF\n",
    "}\n",
    "h2 {\n",
    "    font-size: 24pt;\n",
    "    color: #5B82FF\n",
    "}\n",
    "h3 {\n",
    "    font-size: 20pt;\n",
    "    color: #93ADFF\n",
    "}\n",
    "p {\n",
    "    font-size: 14pt\n",
    "}\n",
    "code {\n",
    "    font-size: 14pt\n",
    "}\n",
    "</style>\n",
    "\n",
    "## __Geodesics From the Christoffel Symbols__"
   ]
  },
  {
   "cell_type": "markdown",
   "metadata": {},
   "source": [
    "<style>\n",
    "h1 {\n",
    "    font-size: 32pt;\n",
    "    color: #875BFF\n",
    "}\n",
    "h2 {\n",
    "    font-size: 24pt;\n",
    "    color: #5B82FF\n",
    "}\n",
    "h3 {\n",
    "    font-size: 20pt;\n",
    "    color: #93ADFF\n",
    "}\n",
    "p {\n",
    "    font-size: 14pt\n",
    "}\n",
    "code {\n",
    "    font-size: 14pt\n",
    "}\n",
    "</style>\n",
    "\n",
    "An alternative method of obtaining the geodesic equations can be done using the covariant derivative and the Christoffel symbols. With this method, the geodesic equations are given by:\n",
    "\n",
    "$$\n",
    "\\dot{x}^{\\mu}{} \\nabla_\\mu \\dot{x}^{\\nu}{} = 0 \\rightarrow \\ddot{x}^{\\mu}{} + \\Gamma^{\\mu}{}_{\\rho}{}_{\\sigma}{} \\dot{x}^{\\rho}{} \\dot{x}^{\\sigma}{} = 0.\n",
    "$$\n",
    "\n",
    "In PyOGRe, the above equation can be calculated using the `calc_geodesic_from_christoffel()` method on a metric. For example:"
   ]
  },
  {
   "cell_type": "code",
   "execution_count": null,
   "metadata": {},
   "outputs": [
    {
     "data": {
      "text/markdown": [
       "<div align=center style='font-size:16pt;margin-bottom:12pt'> \n",
       "\n",
       "Minkowski Geodesic From Christoffel:\n",
       "\n",
       " </div><div align=center style='font-size:14pt'> \n",
       "\n",
       " $$ \n",
       "\\begin{aligned} \n",
       "0^{t}{ } &= \\ddot{t}\\\\[10pt]0^{x}{ } &= \\ddot{x}\\\\[10pt]0^{y}{ } &= \\ddot{y}\\\\[10pt]0^{z}{ } &= \\ddot{z}\n",
       " \\end{aligned} \n",
       " $$ \n",
       "\n",
       " </div>"
      ],
      "text/plain": [
       "<IPython.core.display.Markdown object>"
      ]
     },
     "metadata": {},
     "output_type": "display_data"
    },
    {
     "data": {
      "text/markdown": [
       "<div align=center style='font-size:16pt;margin-bottom:12pt'> \n",
       "\n",
       "Schwarzschild Geodesic From Christoffel:\n",
       "\n",
       " </div><div align=center style='font-size:14pt'> \n",
       "\n",
       " $$ \n",
       "\\begin{aligned} \n",
       "0^{t}{ } &= r^{2} \\ddot{t} - 2 r \\ddot{t} + 2 \\dot{r} \\dot{t}\\\\[10pt]0^{r}{ } &= r^{4} \\ddot{r} - 2 r^{3} \\ddot{r} - r^{2} \\dot{r}^{2} + r^{2} \\dot{t}^{2} - 4 r \\dot{t}^{2} + 4 \\dot{t}^{2}\n",
       " \\end{aligned} \n",
       " $$ \n",
       "\n",
       " </div>"
      ],
      "text/plain": [
       "<IPython.core.display.Markdown object>"
      ]
     },
     "metadata": {},
     "output_type": "display_data"
    },
    {
     "data": {
      "text/markdown": [
       "<div align=center style='font-size:16pt;margin-bottom:12pt'> \n",
       "\n",
       "FLRW Geodesic From Christoffel:\n",
       "\n",
       " </div><div align=center style='font-size:14pt'> \n",
       "\n",
       " $$ \n",
       "\\begin{aligned} \n",
       "0^{t}{ } &= - \\dot{r}^{2} a{\\left(t \\right)} \\frac{d}{d t} a{\\left(t \\right)} - \\ddot{t}\\\\[10pt]0^{r}{ } &= - \\ddot{r} a{\\left(t \\right)} - 2 \\dot{r} \\dot{t} \\frac{d}{d t} a{\\left(t \\right)}\n",
       " \\end{aligned} \n",
       " $$ \n",
       "\n",
       " </div>"
      ],
      "text/plain": [
       "<IPython.core.display.Markdown object>"
      ]
     },
     "metadata": {},
     "output_type": "display_data"
    }
   ],
   "source": [
    "minkowski.calc_geodesic_from_christoffel().list()\n",
    "schwarzschild.calc_geodesic_from_christoffel().list(replace={M: 1, theta: 0, phi: 0})\n",
    "flrw.calc_geodesic_from_christoffel().list(replace={k: 0, theta:0, phi: 0})"
   ]
  },
  {
   "cell_type": "markdown",
   "metadata": {},
   "source": [
    "<style>\n",
    "h1 {\n",
    "    font-size: 32pt;\n",
    "    color: #875BFF\n",
    "}\n",
    "h2 {\n",
    "    font-size: 24pt;\n",
    "    color: #5B82FF\n",
    "}\n",
    "h3 {\n",
    "    font-size: 20pt;\n",
    "    color: #93ADFF\n",
    "}\n",
    "p {\n",
    "    font-size: 14pt\n",
    "}\n",
    "code {\n",
    "    font-size: 14pt\n",
    "}\n",
    "</style>\n",
    "\n",
    "Both methods of determining the geodesic equations can be useful; in some cases one method will yield simpler equations that can more easily be solved than the other. The best thing one can do is to simply try both methods and see which one gives nicer and/or simpler equations for the specific metric in question."
   ]
  },
  {
   "cell_type": "markdown",
   "metadata": {},
   "source": [
    "<style>\n",
    "h1 {\n",
    "    font-size: 32pt;\n",
    "    color: #875BFF\n",
    "}\n",
    "h2 {\n",
    "    font-size: 24pt;\n",
    "    color: #5B82FF\n",
    "}\n",
    "h3 {\n",
    "    font-size: 20pt;\n",
    "    color: #93ADFF\n",
    "}\n",
    "p {\n",
    "    font-size: 14pt\n",
    "}\n",
    "code {\n",
    "    font-size: 14pt\n",
    "}\n",
    "</style>\n",
    "\n",
    "## __Geodesics in Terms of the Time Coordinate__"
   ]
  },
  {
   "cell_type": "markdown",
   "metadata": {},
   "source": [
    "<style>\n",
    "h1 {\n",
    "    font-size: 32pt;\n",
    "    color: #875BFF\n",
    "}\n",
    "h2 {\n",
    "    font-size: 24pt;\n",
    "    color: #5B82FF\n",
    "}\n",
    "h3 {\n",
    "    font-size: 20pt;\n",
    "    color: #93ADFF\n",
    "}\n",
    "p {\n",
    "    font-size: 14pt\n",
    "}\n",
    "code {\n",
    "    font-size: 14pt\n",
    "}\n",
    "</style>\n",
    "\n",
    "Finally, if we have a spacetime metric, it may be useful to instead parameterize the geodesic equations in terms of the time coordinate. It can be shown that the geodesic equations would be given by the following expression when put in terms of the time coordinate:\n",
    "\n",
    "$$\n",
    "\\cfrac{\\text{d}^2 x^{\\mu}{}}{\\text{d} t^2} + \\left( \n",
    "    \\Gamma^{\\mu}{}_{\\rho}{}_{\\sigma}{} - \\Gamma^{0}{}_{\\rho}{}_{\\sigma}{} \\cfrac{\\text{d} x^{\\mu}{}}{\\text{d} t}\n",
    "\\right) \\cfrac{\\text{d} x^{\\rho}{}}{\\text{d} t} \\cfrac{\\text{d} x^{\\sigma}}{\\text{d} t} = 0.\n",
    "$$\n",
    "\n",
    "In PyOGRe, these equations can be obtained by using the `calc_geodesic_with_time_parameter()` method on a metric. For example:"
   ]
  },
  {
   "cell_type": "code",
   "execution_count": null,
   "metadata": {},
   "outputs": [
    {
     "data": {
      "text/markdown": [
       "<div align=center style='font-size:16pt;margin-bottom:12pt'> \n",
       "\n",
       "Minkowski Geodesic With Time Parameter:\n",
       "\n",
       " </div><div align=center style='font-size:14pt'> \n",
       "\n",
       " $$ \n",
       "\\begin{aligned} \n",
       "0^{x}{ } &= \\ddot{x}\\\\[10pt]0^{y}{ } &= \\ddot{y}\\\\[10pt]0^{z}{ } &= \\ddot{z}\n",
       " \\end{aligned} \n",
       " $$ \n",
       "\n",
       " </div>"
      ],
      "text/plain": [
       "<IPython.core.display.Markdown object>"
      ]
     },
     "metadata": {},
     "output_type": "display_data"
    },
    {
     "data": {
      "text/markdown": [
       "<div align=center style='font-size:16pt;margin-bottom:12pt'> \n",
       "\n",
       "Schwarzschild Geodesic With Time Parameter:\n",
       "\n",
       " </div><div align=center style='font-size:14pt'> \n",
       "\n",
       " $$ \n",
       "\\begin{aligned} \n",
       "0^{r}{ } &= r^{4} \\ddot{r} - 2 r^{3} \\ddot{r} - 3 r^{2} \\dot{r}^{2} + r^{2} - 4 r + 4\n",
       " \\end{aligned} \n",
       " $$ \n",
       "\n",
       " </div>"
      ],
      "text/plain": [
       "<IPython.core.display.Markdown object>"
      ]
     },
     "metadata": {},
     "output_type": "display_data"
    },
    {
     "data": {
      "text/markdown": [
       "<div align=center style='font-size:16pt;margin-bottom:12pt'> \n",
       "\n",
       "FLRW Geodesic With Time Parameter:\n",
       "\n",
       " </div><div align=center style='font-size:14pt'> \n",
       "\n",
       " $$ \n",
       "\\begin{aligned} \n",
       "0^{r}{ } &= - \\ddot{r} a{\\left(t \\right)} + \\dot{r}^{3} a^{2}{\\left(t \\right)} \\frac{d}{d t} a{\\left(t \\right)} - 2 \\dot{r} \\frac{d}{d t} a{\\left(t \\right)}\n",
       " \\end{aligned} \n",
       " $$ \n",
       "\n",
       " </div>"
      ],
      "text/plain": [
       "<IPython.core.display.Markdown object>"
      ]
     },
     "metadata": {},
     "output_type": "display_data"
    }
   ],
   "source": [
    "minkowski.calc_geodesic_with_time_parameter().list()\n",
    "schwarzschild.calc_geodesic_with_time_parameter().list(replace={M: 1, theta: 0, phi: 0})\n",
    "flrw.calc_geodesic_with_time_parameter().list(replace={k: 0, theta: 0, phi: 0})"
   ]
  },
  {
   "cell_type": "markdown",
   "metadata": {},
   "source": [
    "<style>\n",
    "h1 {\n",
    "    font-size: 32pt;\n",
    "    color: #875BFF\n",
    "}\n",
    "h2 {\n",
    "    font-size: 24pt;\n",
    "    color: #5B82FF\n",
    "}\n",
    "h3 {\n",
    "    font-size: 20pt;\n",
    "    color: #93ADFF\n",
    "}\n",
    "p {\n",
    "    font-size: 14pt\n",
    "}\n",
    "code {\n",
    "    font-size: 14pt\n",
    "}\n",
    "</style>\n",
    "\n",
    "Notice that we only need a maximum of three equations instead of four when parameterizing the geodesic equations in terms of the time coordinate."
   ]
  },
  {
   "cell_type": "markdown",
   "metadata": {},
   "source": [
    "<style>\n",
    "h1 {\n",
    "    font-size: 32pt;\n",
    "    color: #875BFF\n",
    "}\n",
    "h2 {\n",
    "    font-size: 24pt;\n",
    "    color: #5B82FF\n",
    "}\n",
    "h3 {\n",
    "    font-size: 20pt;\n",
    "    color: #93ADFF\n",
    "}\n",
    "p {\n",
    "    font-size: 14pt\n",
    "}\n",
    "code {\n",
    "    font-size: 14pt\n",
    "}\n",
    "</style>\n",
    "\n",
    "# __Additional Information__"
   ]
  },
  {
   "cell_type": "markdown",
   "metadata": {},
   "source": [
    "<style>\n",
    "h1 {\n",
    "    font-size: 32pt;\n",
    "    color: #875BFF\n",
    "}\n",
    "h2 {\n",
    "    font-size: 24pt;\n",
    "    color: #5B82FF\n",
    "}\n",
    "h3 {\n",
    "    font-size: 20pt;\n",
    "    color: #93ADFF\n",
    "}\n",
    "p {\n",
    "    font-size: 14pt\n",
    "}\n",
    "code {\n",
    "    font-size: 14pt\n",
    "}\n",
    "</style>\n",
    "\n",
    "## __Version History__"
   ]
  },
  {
   "cell_type": "markdown",
   "metadata": {},
   "source": [
    "<style>\n",
    "h1 {\n",
    "    font-size: 32pt;\n",
    "    color: #875BFF\n",
    "}\n",
    "h2 {\n",
    "    font-size: 24pt;\n",
    "    color: #5B82FF\n",
    "}\n",
    "h3 {\n",
    "    font-size: 20pt;\n",
    "    color: #93ADFF\n",
    "}\n",
    "p {\n",
    "    font-size: 14pt\n",
    "}\n",
    "code {\n",
    "    font-size: 14pt\n",
    "}\n",
    "</style>\n",
    "\n",
    "The full version history and change log is available on the GitHub repository, in the CHANGELOG.md file."
   ]
  },
  {
   "cell_type": "markdown",
   "metadata": {},
   "source": [
    "<style>\n",
    "h1 {\n",
    "    font-size: 32pt;\n",
    "    color: #875BFF\n",
    "}\n",
    "h2 {\n",
    "    font-size: 24pt;\n",
    "    color: #5B82FF\n",
    "}\n",
    "h3 {\n",
    "    font-size: 20pt;\n",
    "    color: #93ADFF\n",
    "}\n",
    "p {\n",
    "    font-size: 14pt\n",
    "}\n",
    "code {\n",
    "    font-size: 14pt\n",
    "}\n",
    "</style>\n",
    "\n",
    "## __Feature Requests and Bug Reports__"
   ]
  },
  {
   "cell_type": "markdown",
   "metadata": {},
   "source": [
    "<style>\n",
    "h1 {\n",
    "    font-size: 32pt;\n",
    "    color: #875BFF\n",
    "}\n",
    "h2 {\n",
    "    font-size: 24pt;\n",
    "    color: #5B82FF\n",
    "}\n",
    "h3 {\n",
    "    font-size: 20pt;\n",
    "    color: #93ADFF\n",
    "}\n",
    "p {\n",
    "    font-size: 14pt\n",
    "}\n",
    "code {\n",
    "    font-size: 14pt\n",
    "}\n",
    "</style>\n",
    "\n",
    "The package is under continuous development. If you have any feature requests or bug reports, please feel free to open a new issue on GitHub. If you would like to provide any new functionality, please feel free to submit a pull request."
   ]
  },
  {
   "cell_type": "markdown",
   "metadata": {},
   "source": [
    "<style>\n",
    "h1 {\n",
    "    font-size: 32pt;\n",
    "    color: #875BFF\n",
    "}\n",
    "h2 {\n",
    "    font-size: 24pt;\n",
    "    color: #5B82FF\n",
    "}\n",
    "h3 {\n",
    "    font-size: 20pt;\n",
    "    color: #93ADFF\n",
    "}\n",
    "p {\n",
    "    font-size: 14pt\n",
    "}\n",
    "code {\n",
    "    font-size: 14pt\n",
    "}\n",
    "</style>\n",
    "\n",
    "## __Copyright and Citing__"
   ]
  },
  {
   "cell_type": "markdown",
   "metadata": {},
   "source": [
    "<style>\n",
    "h1 {\n",
    "    font-size: 32pt;\n",
    "    color: #875BFF\n",
    "}\n",
    "h2 {\n",
    "    font-size: 24pt;\n",
    "    color: #5B82FF\n",
    "}\n",
    "h3 {\n",
    "    font-size: 20pt;\n",
    "    color: #93ADFF\n",
    "}\n",
    "p {\n",
    "    font-size: 14pt\n",
    "}\n",
    "code {\n",
    "    font-size: 14pt\n",
    "}\n",
    "</style>\n",
    "\n",
    "No citing information available at the moment."
   ]
  }
 ],
 "metadata": {
  "kernelspec": {
   "display_name": "Python 3.9.12 ('base')",
   "language": "python",
   "name": "python3"
  },
  "language_info": {
   "codemirror_mode": {
    "name": "ipython",
    "version": 3
   },
   "file_extension": ".py",
   "mimetype": "text/x-python",
   "name": "python",
   "nbconvert_exporter": "python",
   "pygments_lexer": "ipython3",
   "version": "3.9.12"
  },
  "vscode": {
   "interpreter": {
    "hash": "f911220fbeb2c6344ecbe62d4c86993e31b532b1f4470593a93b0254da2ba903"
   }
  }
 },
 "nbformat": 4,
 "nbformat_minor": 4
}
