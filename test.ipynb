{
 "cells": [
  {
   "cell_type": "code",
   "execution_count": 2,
   "metadata": {},
   "outputs": [
    {
     "ename": "AttributeError",
     "evalue": "module 'PyOGRe' has no attribute 'new_coordinates'",
     "output_type": "error",
     "traceback": [
      "\u001b[1;31m---------------------------------------------------------------------------\u001b[0m",
      "\u001b[1;31mAttributeError\u001b[0m                            Traceback (most recent call last)",
      "\u001b[1;32ms:\\OneDrive\\Github\\PyOGRe\\test.ipynb Cell 1\u001b[0m in \u001b[0;36m<cell line: 8>\u001b[1;34m()\u001b[0m\n\u001b[0;32m      <a href='vscode-notebook-cell:/s%3A/OneDrive/Github/PyOGRe/test.ipynb#W0sZmlsZQ%3D%3D?line=3'>4</a>\u001b[0m t, x, y, z \u001b[39m=\u001b[39m sym\u001b[39m.\u001b[39msymbols(\u001b[39m'\u001b[39m\u001b[39mt x y z\u001b[39m\u001b[39m'\u001b[39m)\n\u001b[0;32m      <a href='vscode-notebook-cell:/s%3A/OneDrive/Github/PyOGRe/test.ipynb#W0sZmlsZQ%3D%3D?line=5'>6</a>\u001b[0m cartesian_symbols \u001b[39m=\u001b[39m sym\u001b[39m.\u001b[39mArray([t, x, y, z])\n\u001b[1;32m----> <a href='vscode-notebook-cell:/s%3A/OneDrive/Github/PyOGRe/test.ipynb#W0sZmlsZQ%3D%3D?line=7'>8</a>\u001b[0m cartesian \u001b[39m=\u001b[39m og\u001b[39m.\u001b[39;49mnew_coordinates(\n\u001b[0;32m      <a href='vscode-notebook-cell:/s%3A/OneDrive/Github/PyOGRe/test.ipynb#W0sZmlsZQ%3D%3D?line=8'>9</a>\u001b[0m     name\u001b[39m=\u001b[39m\u001b[39m\"\u001b[39m\u001b[39mCartesian\u001b[39m\u001b[39m\"\u001b[39m,\n\u001b[0;32m     <a href='vscode-notebook-cell:/s%3A/OneDrive/Github/PyOGRe/test.ipynb#W0sZmlsZQ%3D%3D?line=9'>10</a>\u001b[0m     components\u001b[39m=\u001b[39mcartesian_symbols\n\u001b[0;32m     <a href='vscode-notebook-cell:/s%3A/OneDrive/Github/PyOGRe/test.ipynb#W0sZmlsZQ%3D%3D?line=10'>11</a>\u001b[0m )\n",
      "\u001b[1;31mAttributeError\u001b[0m: module 'PyOGRe' has no attribute 'new_coordinates'"
     ]
    }
   ],
   "source": [
    "import sympy as sym\n",
    "import PyOGRe as og\n",
    "\n",
    "t, x, y, z = sym.symbols('t x y z')\n",
    "\n",
    "cartesian_symbols = sym.Array([t, x, y, z])\n",
    "\n",
    "cartesian = og.new_coordinates(\n",
    "    name=\"Cartesian\",\n",
    "    components=cartesian_symbols\n",
    ")"
   ]
  },
  {
   "cell_type": "code",
   "execution_count": 2,
   "metadata": {},
   "outputs": [],
   "source": [
    "d = sym.symbols(\"d\")"
   ]
  },
  {
   "cell_type": "code",
   "execution_count": 3,
   "metadata": {},
   "outputs": [
    {
     "data": {
      "text/markdown": [
       "<div align=center style='font-size:16pt;margin-bottom:12pt'> \n",
       "\n",
       " Test: \n",
       "\n",
       " </div><div align=center style='font-size:14pt'> \n",
       "\n",
       " $$\\mathrm{d}s^2 = \\mathrm{d}t^{2} - 84 \\mathrm{d}x \\mathrm{d}z + \\mathrm{d}x^{2} + \\mathrm{d}y^{2} + \\mathrm{d}z^{2}$$ \n",
       "\n",
       " </div>"
      ],
      "text/plain": [
       "<IPython.core.display.Markdown object>"
      ]
     },
     "metadata": {},
     "output_type": "display_data"
    }
   ],
   "source": [
    "test = og.new_metric(\n",
    "    name=\"Test\",\n",
    "    coords=cartesian,\n",
    "    components=sym.Array(\n",
    "        [\n",
    "            [1,0,0,0],\n",
    "            [0,1,0,-42],\n",
    "            [0,0,1,0],\n",
    "            [0,-42,0,1]\n",
    "        ]    \n",
    "    ),\n",
    "    symbol=\"eta\"\n",
    ")\n",
    "test.line_element()"
   ]
  },
  {
   "cell_type": "code",
   "execution_count": 4,
   "metadata": {},
   "outputs": [
    {
     "data": {
      "text/markdown": [
       "<div align=center style='font-size:16pt;margin-bottom:12pt'> \n",
       "\n",
       " FLRW: \n",
       "\n",
       " </div><div align=center style='font-size:14pt'> \n",
       "\n",
       " $$\\mathrm{d}s^2 = r^{2} a^{2}{\\left(t \\right)} \\sin^{2}{\\left(\\theta \\right)} \\mathrm{d}phi^{2} + r^{2} a^{2}{\\left(t \\right)} \\mathrm{d}theta^{2} - \\mathrm{d}t^{2} + \\frac{a^{2}{\\left(t \\right)} \\mathrm{d}r^{2}}{- k r^{2} + 1}$$ \n",
       "\n",
       " </div>"
      ],
      "text/plain": [
       "<IPython.core.display.Markdown object>"
      ]
     },
     "metadata": {},
     "output_type": "display_data"
    }
   ],
   "source": [
    "from PyOGRe.Defaults import flrw\n",
    "flrw.line_element()"
   ]
  }
 ],
 "metadata": {
  "kernelspec": {
   "display_name": "Python 3.9.12 ('base')",
   "language": "python",
   "name": "python3"
  },
  "language_info": {
   "codemirror_mode": {
    "name": "ipython",
    "version": 3
   },
   "file_extension": ".py",
   "mimetype": "text/x-python",
   "name": "python",
   "nbconvert_exporter": "python",
   "pygments_lexer": "ipython3",
   "version": "3.9.12"
  },
  "orig_nbformat": 4,
  "vscode": {
   "interpreter": {
    "hash": "f911220fbeb2c6344ecbe62d4c86993e31b532b1f4470593a93b0254da2ba903"
   }
  }
 },
 "nbformat": 4,
 "nbformat_minor": 2
}
