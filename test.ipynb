{
 "cells": [
  {
   "cell_type": "code",
   "execution_count": 2,
   "metadata": {},
   "outputs": [],
   "source": [
    "import sympy as sym\n",
    "import PyOGRe as og\n",
    "\n",
    "t, x, y, z = sym.symbols('t x y z')\n",
    "\n",
    "cartesian_symbols = sym.Array([t, x, y, z])\n",
    "\n",
    "cartesian = og.new_coordinates(\n",
    "    name=\"Cartesian\",\n",
    "    components=cartesian_symbols\n",
    ")"
   ]
  },
  {
   "cell_type": "code",
   "execution_count": 2,
   "metadata": {},
   "outputs": [],
   "source": [
    "d = sym.symbols(\"d\")"
   ]
  },
  {
   "cell_type": "code",
   "execution_count": 3,
   "metadata": {},
   "outputs": [
    {
     "data": {
      "text/markdown": [
       "<div align=center style='font-size:16pt;margin-bottom:12pt'> \n",
       "\n",
       " Test: \n",
       "\n",
       " </div><div align=center style='font-size:14pt'> \n",
       "\n",
       " $$\\mathrm{d}s^2 = \\mathrm{d}t^{2} - 84 \\mathrm{d}x \\mathrm{d}z + \\mathrm{d}x^{2} + \\mathrm{d}y^{2} + \\mathrm{d}z^{2}$$ \n",
       "\n",
       " </div>"
      ],
      "text/plain": [
       "<IPython.core.display.Markdown object>"
      ]
     },
     "metadata": {},
     "output_type": "display_data"
    }
   ],
   "source": [
    "test = og.new_metric(\n",
    "    name=\"Test\",\n",
    "    coords=cartesian,\n",
    "    components=sym.Array(\n",
    "        [\n",
    "            [1,0,0,0],\n",
    "            [0,1,0,-42],\n",
    "            [0,0,1,0],\n",
    "            [0,-42,0,1]\n",
    "        ]    \n",
    "    ),\n",
    "    symbol=\"eta\"\n",
    ")\n",
    "test.line_element()"
   ]
  },
  {
   "cell_type": "code",
   "execution_count": 4,
   "metadata": {},
   "outputs": [
    {
     "data": {
      "text/markdown": [
       "<div align=center style='font-size:16pt;margin-bottom:12pt'> \n",
       "\n",
       " FLRW: \n",
       "\n",
       " </div><div align=center style='font-size:14pt'> \n",
       "\n",
       " $$\\mathrm{d}s^2 = r^{2} a^{2}{\\left(t \\right)} \\sin^{2}{\\left(\\theta \\right)} \\mathrm{d}phi^{2} + r^{2} a^{2}{\\left(t \\right)} \\mathrm{d}theta^{2} - \\mathrm{d}t^{2} + \\frac{a^{2}{\\left(t \\right)} \\mathrm{d}r^{2}}{- k r^{2} + 1}$$ \n",
       "\n",
       " </div>"
      ],
      "text/plain": [
       "<IPython.core.display.Markdown object>"
      ]
     },
     "metadata": {},
     "output_type": "display_data"
    }
   ],
   "source": [
    "from PyOGRe.Defaults import flrw\n",
    "flrw.line_element()"
   ]
  }
 ],
 "metadata": {
  "kernelspec": {
   "display_name": "Python 3.9.12 ('base')",
   "language": "python",
   "name": "python3"
  },
  "language_info": {
   "codemirror_mode": {
    "name": "ipython",
    "version": 3
   },
   "file_extension": ".py",
   "mimetype": "text/x-python",
   "name": "python",
   "nbconvert_exporter": "python",
   "pygments_lexer": "ipython3",
   "version": "3.9.12"
  },
  "orig_nbformat": 4,
  "vscode": {
   "interpreter": {
    "hash": "f911220fbeb2c6344ecbe62d4c86993e31b532b1f4470593a93b0254da2ba903"
   }
  }
 },
 "nbformat": 4,
 "nbformat_minor": 2
}
